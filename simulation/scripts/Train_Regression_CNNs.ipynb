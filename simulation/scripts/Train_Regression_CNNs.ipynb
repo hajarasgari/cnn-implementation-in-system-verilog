{
 "cells": [
  {
   "cell_type": "markdown",
   "id": "9e48a8b8",
   "metadata": {},
   "source": [
    "## Imports"
   ]
  },
  {
   "cell_type": "code",
   "execution_count": null,
   "id": "ec4713c5",
   "metadata": {
    "colab": {
     "base_uri": "https://localhost:8080/"
    },
    "executionInfo": {
     "elapsed": 243,
     "status": "ok",
     "timestamp": 1652191586984,
     "user": {
      "displayName": "Wenjie He",
      "userId": "00276928990955813725"
     },
     "user_tz": -120
    },
    "id": "ddd4674e",
    "outputId": "94cf4c1a-bc59-4c7f-f5a0-e905389a1a46"
   },
   "outputs": [],
   "source": [
    "%load_ext autoreload\n",
    "%autoreload 2\n",
    "%matplotlib inline\n",
    "# %matplotlib widget"
   ]
  },
  {
   "cell_type": "code",
   "execution_count": null,
   "id": "b325babf",
   "metadata": {
    "executionInfo": {
     "elapsed": 12,
     "status": "ok",
     "timestamp": 1652191587276,
     "user": {
      "displayName": "Wenjie He",
      "userId": "00276928990955813725"
     },
     "user_tz": -120
    },
    "id": "a2f8d7b9"
   },
   "outputs": [],
   "source": [
    "from ipywidgets import interact, interactive, fixed, interact_manual, Video, Audio\n",
    "import ipywidgets as widgets\n",
    "import tensorflow as tf\n",
    "from tensorflow.keras import datasets, layers, models\n",
    "import tensorflow_model_optimization as tfmot\n",
    "from tensorflow.keras import regularizers\n",
    "import matplotlib.pyplot as plt\n",
    "import os\n",
    "from sklearn.model_selection import train_test_split\n",
    "from tqdm.keras import TqdmCallback\n",
    "import time\n",
    "import sys\n",
    "from fxpmath import Fxp\n",
    "from matplotlib import pyplot\n",
    "import matplotlib.pyplot as plt\n",
    "import pandas as pd\n",
    "import numpy as np\n",
    "from sklearn.metrics import mean_squared_error\n",
    "import tempfile\n",
    "from tensorflow import keras\n",
    "sys.path.append('../src')\n",
    "import numpy as np\n",
    "import netron\n",
    "from tensorflow.keras.models import Model"
   ]
  },
  {
   "cell_type": "code",
   "execution_count": null,
   "id": "13364634",
   "metadata": {
    "executionInfo": {
     "elapsed": 9,
     "status": "ok",
     "timestamp": 1652191587276,
     "user": {
      "displayName": "Wenjie He",
      "userId": "00276928990955813725"
     },
     "user_tz": -120
    },
    "id": "00f2d4b1"
   },
   "outputs": [],
   "source": [
    "from carihc import *\n",
    "from r_gen import *\n",
    "from ssl_utils import *\n",
    "\n",
    "try:\n",
    "    import Pickle5 as pickle\n",
    "except ModuleNotFoundError:\n",
    "    import pickle"
   ]
  },
  {
   "cell_type": "markdown",
   "id": "7980c006",
   "metadata": {
    "id": "e4209823"
   },
   "source": [
    "## Functions"
   ]
  },
  {
   "cell_type": "code",
   "execution_count": null,
   "id": "06ca5853",
   "metadata": {
    "executionInfo": {
     "elapsed": 202,
     "status": "ok",
     "timestamp": 1652191627691,
     "user": {
      "displayName": "Wenjie He",
      "userId": "00276928990955813725"
     },
     "user_tz": -120
    },
    "id": "56c1a22e"
   },
   "outputs": [],
   "source": [
    "# import pickle\n",
    "def load_file(filename):\n",
    "    with open(filename, 'rb') as inp:\n",
    "        data = pickle.load(inp)\n",
    "    return data\n",
    "\n",
    "def save_object(obj, filename):\n",
    "    with open(filename, 'wb') as outp:  # Overwrites any existing file.\n",
    "        pickle.dump(obj, outp, pickle.HIGHEST_PROTOCOL)\n",
    "\n",
    "\n",
    "def plot_data(nplot=5, sim_name=''):\n",
    "    Nrow, Ncol = rs[0].shape[1], rs[0].shape[2]\n",
    "    fig, ax = plt.subplots(2, 4, figsize=(12,6))\n",
    "    for i in range(2):\n",
    "        for j in range(4):\n",
    "            ax[i][j].pcolor(rs[4*i+j][nplot])\n",
    "            ax[i][j].set_title(f'{locs[4*i+j]} {sim_name[:-4]}')\n",
    "\n",
    "def plot_r_recs(nplot=5,  sim_name=''):\n",
    "    Nrow, Ncol = rs_rec[0].shape[1], rs_rec[0].shape[2]\n",
    "    fig, ax = plt.subplots(2, 4, figsize=(12,6))\n",
    "    for i in range(2):\n",
    "        for j in range(4):\n",
    "            ax[i][j].pcolor(rs_rec[4*i+j][nplot])\n",
    "            ax[i][j].set_title(f'rec_{rec_factor} {locs[4*i+j]} {sim_name[:-4]}')\n",
    "\n"
   ]
  },
  {
   "cell_type": "markdown",
   "id": "cab99c8b",
   "metadata": {
    "id": "a6XDuZ7wtnoL"
   },
   "source": [
    "## Dataset visualization"
   ]
  },
  {
   "cell_type": "code",
   "execution_count": null,
   "id": "1ba85ec9",
   "metadata": {
    "executionInfo": {
     "elapsed": 276,
     "status": "ok",
     "timestamp": 1652191630115,
     "user": {
      "displayName": "Wenjie He",
      "userId": "00276928990955813725"
     },
     "user_tz": -120
    },
    "id": "8f8e26a5"
   },
   "outputs": [],
   "source": [
    "# source location based on datasets\n",
    "locs = ['D1_01','D1_02','D1_03', 'D1_04', 'D2_01', 'D2_02', 'D1D2_01','D1D2_02']"
   ]
  },
  {
   "cell_type": "markdown",
   "id": "6258fd0a",
   "metadata": {},
   "source": [
    "### mqR"
   ]
  },
  {
   "cell_type": "code",
   "execution_count": null,
   "id": "b2f4b785",
   "metadata": {
    "colab": {
     "base_uri": "https://localhost:8080/",
     "height": 208,
     "referenced_widgets": [
      "2fe5334e9e284382843c8dee43282475",
      "8778255463f24ab2a0181b3e2028acd4",
      "13ce550f387946c69a75803e9fd20647",
      "14345e1d1bcf45eeaec880e2a1d7ed2a",
      "1f30242281604eb8a0d7d62a33b1734f",
      "ddcc3494a79945349538a68e7f531b52",
      "1e0f1e9d34d84ed9be6ac663f72e29fa",
      "bcaf4334666a4613b7d200347c111da6",
      "634dba3298f14319b6c5906dff04d523",
      "517a820658a64d0691687ab56a0d63d1",
      "2b63962cdd984b2d95e2fb5495b6bb20",
      "6bfe97b85ecc4dc19682d67f8c522ff3",
      "ec20286e3aa44061a38db4be021f2277",
      "bbcdc8e4eb76466b90e39e6b7bbeee0f",
      "be9483cb5b7349a88e4dba76d473c312",
      "d1bfea77588a4fe0b81f6b8c9f785101",
      "5eb669781bc54eec90d5067c8b143a90"
     ]
    },
    "executionInfo": {
     "elapsed": 381,
     "status": "ok",
     "timestamp": 1652191634102,
     "user": {
      "displayName": "Wenjie He",
      "userId": "00276928990955813725"
     },
     "user_tz": -120
    },
    "id": "20708cbc",
    "outputId": "1092a94d-5b07-4312-d411-c5ed991a3fdf"
   },
   "outputs": [],
   "source": [
    "# select parameters\n",
    "use_output_w = widgets.ToggleButtons( options=['car', 'car_ihc', 'car_ihc_li'], description='Model:', disabled=True )\n",
    "qC_w = widgets.ToggleButtons( options=[True, False], description='qC:', disabled=True )\n",
    "ERB_step_w = widgets.ToggleButtons( options=[1.5, 1,0.6, 0.5, 0], value=0.5, description='ERB_step:', disabled=False )\n",
    "mDur_w = widgets.ToggleButtons( options=[1, 2, 4, 5, 8, 10, 15, 25, 50, 75, 90, 100, 120], value=10, description='mDur[ms]:', disabled=False )\n",
    "fstep_w = widgets.ToggleButtons( options=[100, 200, 400, 500, 1000], value=200, description='fstep:', disabled=False )\n",
    "widgets.VBox([use_output_w, qC_w, ERB_step_w, fstep_w, mDur_w])"
   ]
  },
  {
   "cell_type": "code",
   "execution_count": null,
   "id": "1c6eb8d9",
   "metadata": {
    "colab": {
     "base_uri": "https://localhost:8080/"
    },
    "executionInfo": {
     "elapsed": 296,
     "status": "ok",
     "timestamp": 1652193106261,
     "user": {
      "displayName": "Wenjie He",
      "userId": "00276928990955813725"
     },
     "user_tz": -120
    },
    "id": "d0660d1d",
    "outputId": "18d99541-1a9f-4b08-c0d0-87e3a7cdffc9"
   },
   "outputs": [],
   "source": [
    "# assign parameters\n",
    "use_output = use_output_w.value\n",
    "ERB_step = ERB_step_w.value\n",
    "qC = qC_w.value\n",
    "mDur = mDur_w.value\n",
    "mC_len = int(mDur*1e-3*48e3) # 480 samples\n",
    "fstep = fstep_w.value\n",
    "min_freq_w = widgets.ToggleButtons( options=[1, 2], description='min_f(kHz):', value=2,  disabled=False)\n",
    "max_freq_w = widgets.ToggleButtons( options=[3, 4, 5], description='max_f(kHz):', value=5,  disabled=False)\n",
    "widgets.VBox([min_freq_w, max_freq_w])"
   ]
  },
  {
   "cell_type": "code",
   "execution_count": null,
   "id": "08f38d33",
   "metadata": {},
   "outputs": [],
   "source": [
    "\"\"\"\n",
    "load pole_freq_min and pole_freq_max\n",
    "pole_freq_min is based on param_min_pole_Hz\n",
    "pole_freq_max is based on param_first_pole_theta \n",
    "inside CAR \n",
    "\"\"\"\n",
    "\n",
    "pole_freq_min,pole_freq_max = min_max_pole_freq(max_freq=max_freq_w.value, ERB_step=ERB_step)\n",
    "\n",
    "sim_name = f'ERB_{ERB_step}_Freq_poles_{pole_freq_min}_{pole_freq_max}_car_dur_{mDur}ms.pkl' if ERB_step !=0 else f'fstep_{fstep}_500_4k_car_dur_{mDur}ms.pkl'\n",
    "print(sim_name)"
   ]
  },
  {
   "cell_type": "code",
   "execution_count": null,
   "id": "d93cb333",
   "metadata": {
    "executionInfo": {
     "elapsed": 4426,
     "status": "ok",
     "timestamp": 1652193111064,
     "user": {
      "displayName": "Wenjie He",
      "userId": "00276928990955813725"
     },
     "user_tz": -120
    },
    "id": "X3PPVquJTC1T"
   },
   "outputs": [],
   "source": [
    "# load simulation mqR\n",
    "rs = []\n",
    "for loc in locs:\n",
    "    rs.append(load_file(f'../result/train/corr_output/mqR_output/{mDur}ms/mqR12_{loc}_{sim_name}'))"
   ]
  },
  {
   "cell_type": "code",
   "execution_count": null,
   "id": "72053946",
   "metadata": {
    "colab": {
     "base_uri": "https://localhost:8080/",
     "height": 780,
     "referenced_widgets": [
      "02d9ed61269f4039917231b33c5b8d33",
      "d9999f1f28bb4cc291aa7d664f2cd15d",
      "e1b1559e85384871b2e83199ec13fd8f",
      "97944f7af5f04cc896210b8b2f1d932f",
      "e8e6099a480c480fa783d84c937b6db8",
      "f40ebbb86db7492da9689b2c08a4adc0",
      "48d349a4bba843079728ca74fc1d54bb",
      "1c42c5445f354553b754f6489adbe2ca",
      "e4589cb3943e4547bcc55581fec0f66a",
      "f9b6cdff0dff4534b51e8a3deb36cb90"
     ]
    },
    "executionInfo": {
     "elapsed": 1548,
     "status": "ok",
     "timestamp": 1652193112607,
     "user": {
      "displayName": "Wenjie He",
      "userId": "00276928990955813725"
     },
     "user_tz": -120
    },
    "id": "b18ae61d",
    "outputId": "b0ba3e45-87c1-4e71-f1cc-f707a6732138"
   },
   "outputs": [],
   "source": [
    "# plot simulation results\n",
    "nplot = widgets.IntText(value=0, description='Frame:', disabled=False)\n",
    "y = interact(plot_data, nplot=nplot, sim_name=f'_')"
   ]
  },
  {
   "cell_type": "markdown",
   "id": "645d0dd1",
   "metadata": {},
   "source": [
    "### mqRec"
   ]
  },
  {
   "cell_type": "code",
   "execution_count": null,
   "id": "6c6a0e9e",
   "metadata": {
    "colab": {
     "base_uri": "https://localhost:8080/",
     "height": 50,
     "referenced_widgets": [
      "f70c67bd7738404987febb1f4a035370",
      "9c229cc98b5b44a6b568a55ca5f6b85f",
      "4ba0ab2232664ced9f138dafefd6c0a1",
      "f359df15c10f42e0bc25dae8e0003d50",
      "857c48ee6b2f440196a39d1dda76079f"
     ]
    },
    "executionInfo": {
     "elapsed": 7,
     "status": "ok",
     "timestamp": 1652192297570,
     "user": {
      "displayName": "Wenjie He",
      "userId": "00276928990955813725"
     },
     "user_tz": -120
    },
    "id": "509ee0f8",
    "outputId": "dc2a1108-26fd-403b-ea97-249e99479748"
   },
   "outputs": [],
   "source": [
    "# select the rectangular scaling factor \n",
    "rec_factor_w = widgets.ToggleButtons( options=[0.1, 0.2, 0.3, 0.4, 0.5], value=0.3, description='rec_factor:', disabled=False )\n",
    "widgets.VBox([rec_factor_w])"
   ]
  },
  {
   "cell_type": "code",
   "execution_count": null,
   "id": "cd98a3cf",
   "metadata": {
    "executionInfo": {
     "elapsed": 4984,
     "status": "ok",
     "timestamp": 1652192302550,
     "user": {
      "displayName": "Wenjie He",
      "userId": "00276928990955813725"
     },
     "user_tz": -120
    },
    "id": "0cc45d78"
   },
   "outputs": [],
   "source": [
    "# load simulation mqr_rec\n",
    "rec_factor = rec_factor_w.value\n",
    "rs_rec = []\n",
    "for loc in locs:\n",
    "    rs_rec.append(load_file(f'../result/train/corr_output/mqRec_output/{mDur}ms/rec{rec_factor}_mqR12_{loc}_{sim_name}'))"
   ]
  },
  {
   "cell_type": "code",
   "execution_count": null,
   "id": "41da02c4",
   "metadata": {
    "colab": {
     "base_uri": "https://localhost:8080/",
     "height": 857,
     "referenced_widgets": [
      "76b0906d0a214c1aa5332d1fa469fefd",
      "a175591b354f40068869a95c8376227f",
      "0756e5cd31d14070b13ee088477e65ee",
      "0a29351982f24018858aadfa9f45da86",
      "0fb62baf904c4af59651eb4c929edfb6",
      "950db1e58baa415f9ea74a169371aa48",
      "7be80a2040b54e9f8f6bb2d6c1ae0e16"
     ]
    },
    "executionInfo": {
     "elapsed": 1517,
     "status": "ok",
     "timestamp": 1652192304061,
     "user": {
      "displayName": "Wenjie He",
      "userId": "00276928990955813725"
     },
     "user_tz": -120
    },
    "id": "5eeadbf9",
    "outputId": "a6a8b462-5cae-4bb3-bcfe-aa87efb4e1e9"
   },
   "outputs": [],
   "source": [
    "# plot simulation results\n",
    "y = interact(plot_r_recs, nplot=nplot, sim_name=f'_')"
   ]
  },
  {
   "cell_type": "markdown",
   "id": "fd79bb1d",
   "metadata": {},
   "source": [
    "### mqRec_pipelined"
   ]
  },
  {
   "cell_type": "code",
   "execution_count": null,
   "id": "590cee28",
   "metadata": {},
   "outputs": [],
   "source": [
    "for loc in locs:\n",
    "    rs_rec.append(load_file(f'../result/train/corr_output/mqRec_pipe_output/{mDur}ms/rec{rec_factor}_mqR12_{loc}_{sim_name}'))"
   ]
  },
  {
   "cell_type": "code",
   "execution_count": null,
   "id": "4bdf724f",
   "metadata": {},
   "outputs": [],
   "source": [
    "# plot simulation results\n",
    "y = interact(plot_r_recs, nplot=nplot, sim_name=f'_')"
   ]
  },
  {
   "cell_type": "markdown",
   "id": "204eddd6",
   "metadata": {
    "id": "d5415428"
   },
   "source": [
    "## Prepare dataset for training"
   ]
  },
  {
   "cell_type": "markdown",
   "id": "5d849894",
   "metadata": {},
   "source": [
    "### Select CAR parameters"
   ]
  },
  {
   "cell_type": "code",
   "execution_count": null,
   "id": "8c4eaaba",
   "metadata": {
    "colab": {
     "base_uri": "https://localhost:8080/",
     "height": 241,
     "referenced_widgets": [
      "59342e6d6a00469eb7a6594fa8a0a430",
      "5990521ad54447dfbf43fc982a3be152",
      "b6ad77b567fb45f5bd8e2d0d15f2b521",
      "4bce6f68a0ad4646a149881648d93b25",
      "25b853c35b9844e69546f76feabced10",
      "61e5850228b04f88a943ca5cb16a3141",
      "6efb87355629482f92eeb49ba5f59106",
      "883d766984ce48288fa2e62ecaebdb03",
      "e8b80c76a36b477784fb5266024ae3b5",
      "44b66d0be83b4600b3843418ec1ba35e",
      "e496e347d6e542e3aec2e2a74adea8f4",
      "42fffe7f02f94a0f8e92e008b2a40ac4",
      "dfc46360e68b4f6bbfda27d800eb6cad",
      "8e8d64c45cdc443fb11b44749d5c7b04",
      "2063d4151e09425fb408873baa816995",
      "d9656974b90d499b8e10f01f7ba6c155",
      "0977c38aff6d47acaf79282018c23777",
      "927bfc57031e49b2b0981f6322656810",
      "b5b494928a7b49a19c5a42aa7a8d194f",
      "450788c1082f4a6d96e10731c288def3"
     ]
    },
    "executionInfo": {
     "elapsed": 216,
     "status": "ok",
     "timestamp": 1652177679755,
     "user": {
      "displayName": "Wenjie He",
      "userId": "00276928990955813725"
     },
     "user_tz": -120
    },
    "id": "B6eAorI_UA0A",
    "outputId": "b62ffc39-36cb-4130-e8d4-d07d8f0e8f00"
   },
   "outputs": [],
   "source": [
    "use_output_w = widgets.ToggleButtons( options=['car', 'car_ihc', 'car_ihc_li'], description='Model:', disabled=True )\n",
    "qC_w = widgets.ToggleButtons( options=[True, False], description='qC:', disabled=True )\n",
    "ERB_step_w = widgets.ToggleButtons( options=[1.5, 1,0.6, 0.5, 0], value=0.5, description='ERB_step:', disabled=False )\n",
    "mDur_w = widgets.ToggleButtons( options=[1, 2, 4, 5, 8, 10, 15, 25, 50, 75, 90, 100, 120], value=10, description='mDur[ms]:', disabled=False )\n",
    "fstep_w = widgets.ToggleButtons( options=[100, 200, 400, 500, 1000], value=200, description='fstep:', disabled=False )\n",
    "rec_factor_w = widgets.ToggleButtons( options=[0.1, 0.2, 0.3, 0.4, 0.5], value=0.3, description='rec_factor:', disabled=False )\n",
    "pipelined_w = widgets.ToggleButtons (options = ['True', 'False'], value='False', description = 'pipelined', desabled = False)\n",
    "widgets.VBox([use_output_w, qC_w, ERB_step_w, fstep_w, mDur_w, rec_factor_w, pipelined_w])"
   ]
  },
  {
   "cell_type": "code",
   "execution_count": null,
   "id": "581ad213",
   "metadata": {
    "colab": {
     "base_uri": "https://localhost:8080/"
    },
    "executionInfo": {
     "elapsed": 501,
     "status": "ok",
     "timestamp": 1652177925521,
     "user": {
      "displayName": "Wenjie He",
      "userId": "00276928990955813725"
     },
     "user_tz": -120
    },
    "id": "fFxbPPNcdyiY",
    "outputId": "4d1afdcb-5c62-47a4-f974-884ec166b451"
   },
   "outputs": [],
   "source": [
    "# assign parameters\n",
    "use_output = use_output_w.value\n",
    "ERB_step = ERB_step_w.value\n",
    "qC = qC_w.value\n",
    "mDur = mDur_w.value\n",
    "mC_len = int(mDur*1e-3*48e3) # 480 samples\n",
    "fstep = fstep_w.value\n",
    "rec_factor = rec_factor_w.value\n",
    "pipelined = pipelined_w.value"
   ]
  },
  {
   "cell_type": "code",
   "execution_count": null,
   "id": "8acb6200",
   "metadata": {},
   "outputs": [],
   "source": [
    "min_freq_w = widgets.ToggleButtons( options=[1, 2], description='min_f(kHz):', value=2,  disabled=False)\n",
    "max_freq_w = widgets.ToggleButtons( options=[3, 4, 5], description='max_f(kHz):', value=5,  disabled=False)\n",
    "widgets.VBox([min_freq_w, max_freq_w])"
   ]
  },
  {
   "cell_type": "code",
   "execution_count": null,
   "id": "46e69433",
   "metadata": {},
   "outputs": [],
   "source": [
    "pole_freq_min, pole_freq_max = min_max_pole_freq(max_freq=max_freq_w.value, ERB_step=ERB_step)\n",
    "sim_name = f'ERB_{ERB_step}_Freq_poles_{pole_freq_min}_{pole_freq_max}_car_dur_{mDur}ms.pkl' if ERB_step !=0 else f'fstep_{fstep}_500_4k_car_dur_{mDur}ms.pkl'\n",
    "print(f'{sim_name}')\n",
    "print(f'rec{rec_factor}_mqR12_{locs[0]}_{sim_name}')\n",
    "print(f'Pipelined is {pipelined}')"
   ]
  },
  {
   "cell_type": "markdown",
   "id": "f8fc321c",
   "metadata": {},
   "source": [
    "### Load Input patterns and calculate target output"
   ]
  },
  {
   "cell_type": "code",
   "execution_count": null,
   "id": "7365165c",
   "metadata": {},
   "outputs": [],
   "source": [
    "x_all = []\n",
    "y_all = []\n",
    "num_classes = 2\n",
    "x_part_temp = load_file(f'../result/train/corr_output/mqRec_output/{mDur}ms/rec{rec_factor}_mqR12_{locs[0]}_{sim_name}')\n",
    "x_all = np.zeros((1,x_part_temp.shape[1], x_part_temp.shape[2]))\n",
    "y_all = np.zeros((1, num_classes))\n",
    "\n",
    "for loc in locs:\n",
    "    if pipelined:\n",
    "        x_part = load_file(f'../result/train/corr_output/mqRec_pipe_output/{mDur}ms/rec{rec_factor}_mqR12_{loc}_{sim_name}')\n",
    "    else:\n",
    "        x_part = load_file(f'../result/train/corr_output/mqRec_output/{mDur}ms/rec{rec_factor}_mqR12_{loc}_{sim_name}')\n",
    "    x_part = load_file(f'../result/train/corr_output/mqRec_output/{mDur}ms/rec{rec_factor}_mqR12_{loc}_{sim_name}')\n",
    "    x_all = np.vstack([x_all, x_part])\n",
    "    if loc == 'D1_01':\n",
    "        target_y = calc_target_y (index = [0], num_classes = num_classes, set_val=100) \n",
    "    if loc == 'D1_02':\n",
    "        target_y = calc_target_y (index = [0], num_classes = num_classes, set_val=100)\n",
    "    if loc == 'D1_03':\n",
    "        target_y = calc_target_y (index = [0], num_classes = num_classes, set_val=100)\n",
    "    if loc == 'D1_04':\n",
    "        target_y = calc_target_y (index = [0], num_classes = num_classes, set_val=100)\n",
    "    if loc == 'D2_01':\n",
    "        target_y = calc_target_y (index = [1], num_classes = num_classes, set_val=100)\n",
    "    if loc == 'D2_02':\n",
    "        target_y = calc_target_y (index = [1], num_classes = num_classes, set_val=100)\n",
    "    if loc =='D1D2_01':\n",
    "        target_y = calc_target_y (index = [0,1], num_classes = num_classes, set_val=50)\n",
    "    if loc =='D1D2_02':\n",
    "        target_y = calc_target_y (index = [0,1], num_classes = num_classes, set_val=50)    \n",
    "    lr_ndata = x_part.shape[0]\n",
    "    y_part = np.ones((lr_ndata, num_classes))*target_y\n",
    "#     print(y_part)\n",
    "#     print(y_part.shape)\n",
    "    y_all = np.r_[y_all, y_part]\n",
    "    print(loc, y_all.shape)        "
   ]
  },
  {
   "cell_type": "markdown",
   "id": "6a4b8f83",
   "metadata": {},
   "source": [
    "### Shuffle dataset"
   ]
  },
  {
   "cell_type": "code",
   "execution_count": null,
   "id": "d8fc1526",
   "metadata": {
    "colab": {
     "base_uri": "https://localhost:8080/"
    },
    "executionInfo": {
     "elapsed": 3,
     "status": "ok",
     "timestamp": 1652178374717,
     "user": {
      "displayName": "Wenjie He",
      "userId": "00276928990955813725"
     },
     "user_tz": -120
    },
    "id": "xK0OUw2sWQeG",
    "outputId": "8d041f27-a5b0-4274-c19a-02d3c26a275c"
   },
   "outputs": [],
   "source": [
    "train_x = x_all[1:]\n",
    "train_y = y_all[1:]\n",
    "\n",
    "print(train_x.shape, train_y.shape)\n",
    "train_x, train_y = shuffle_in_unison(train_x, train_y)\n",
    "\n",
    "print(train_x.shape, train_y.shape)"
   ]
  },
  {
   "cell_type": "markdown",
   "id": "c4292e7b",
   "metadata": {
    "id": "f92c2aa8"
   },
   "source": [
    "## Train CNN"
   ]
  },
  {
   "cell_type": "code",
   "execution_count": null,
   "id": "1db36a53",
   "metadata": {
    "executionInfo": {
     "elapsed": 321,
     "status": "ok",
     "timestamp": 1652178378156,
     "user": {
      "displayName": "Wenjie He",
      "userId": "00276928990955813725"
     },
     "user_tz": -120
    },
    "id": "995c2686"
   },
   "outputs": [],
   "source": [
    "# Training parameters.\n",
    "num_classes = 2\n",
    "learning_rate = 0.00001\n",
    "epochs = 1000\n",
    "batch_size = 32\n",
    "\n",
    "# Network parameters.\n",
    "conv_filters = [1, 0]\n",
    "filter_shape = [(3,3),(3,3)]\n",
    "fc_filters = [65]\n",
    "__model__ = f'_rcnn{conv_filters}_{filter_shape}_fc{fc_filters}'\n",
    "print(__model__)\n",
    "print(f'rec{rec_factor}_{sim_name}')"
   ]
  },
  {
   "cell_type": "code",
   "execution_count": null,
   "id": "c4f8d39e",
   "metadata": {
    "colab": {
     "base_uri": "https://localhost:8080/"
    },
    "executionInfo": {
     "elapsed": 312,
     "status": "ok",
     "timestamp": 1652178380300,
     "user": {
      "displayName": "Wenjie He",
      "userId": "00276928990955813725"
     },
     "user_tz": -120
    },
    "id": "7a4f561b",
    "outputId": "d55fd320-6bf3-41e4-f436-be9d3ef0ca7d",
    "scrolled": true
   },
   "outputs": [],
   "source": [
    "# Network architecture\n",
    "model = models.Sequential()\n",
    "model.add(layers.Conv2D(conv_filters[0], filter_shape[0], activation='relu', input_shape=(train_x.shape[1], train_x.shape[2], 1)))\n",
    "model.add(layers.MaxPooling2D((2, 2)))\n",
    "# model.add(layers.Conv2D(conv_filters[1], filter_shape[1], activation='relu'))\n",
    "# model.add(layers.MaxPooling2D((2, 2)))\n",
    "model.add(layers.Flatten())\n",
    "# model.add(layers.Dense(fc_filters[0], activation='relu',  \n",
    "#                        kernel_regularizer = regularizers.L1L2(l1=1e-5,l2=1e-4),\n",
    "#                        bias_regularizer = regularizers.L2(1e-4),\n",
    "#                        activity_regularizer=regularizers.L2(1e-5)))\n",
    "model.add(layers.Dense(fc_filters[0], activation='relu'))\n",
    "# model.add(layers.Dropout(0.5))\n",
    "model.add(layers.Dense(num_classes))\n",
    "\n",
    "# model.compile(loss=\"mean_squared_error\" , optimizer=\"adam\", metrics=[\"mean_squared_error\"])\n",
    "model.compile(loss=\"mean_squared_error\" , optimizer=\"RMSProp\", metrics=[\"mean_squared_error\"])\n",
    "model.summary()"
   ]
  },
  {
   "cell_type": "code",
   "execution_count": null,
   "id": "50e4c4c9",
   "metadata": {
    "colab": {
     "base_uri": "https://localhost:8080/",
     "height": 49,
     "referenced_widgets": [
      "b045f4ce51fe4caf9db7c45e26e4fb76",
      "141c2155da2f4e18ade10ef6809d95f1",
      "a18718dfdaa441d2bcdb179adce45893",
      "a43fc6777fa44ed0849f8a2f03ad7a7d",
      "a4fac458114648f48c4fcadf6dc73cf4",
      "49bdca28c25a48eaa6e43a605d76902d",
      "8162a9bbd9004a8c859928ade1fb83cc",
      "65a8fb14f3b849f79ff94089ae2ee957",
      "deab818d4f144c5faec8f3b08400c289",
      "5cf26ae9525e4e9e9a4cb680183a53cc",
      "60513272030c4352a611f6207514a173"
     ]
    },
    "executionInfo": {
     "elapsed": 323720,
     "status": "ok",
     "timestamp": 1652178706621,
     "user": {
      "displayName": "Wenjie He",
      "userId": "00276928990955813725"
     },
     "user_tz": -120
    },
    "id": "B7k-K4Q43nnP",
    "outputId": "0df5c3aa-e0fa-4111-cc24-d21636396ae7",
    "scrolled": true
   },
   "outputs": [],
   "source": [
    "# Model training\n",
    "history = model.fit(train_x, train_y, batch_size=batch_size, epochs=epochs, verbose=1, validation_split=0.1)"
   ]
  },
  {
   "cell_type": "code",
   "execution_count": null,
   "id": "b2e36c6a",
   "metadata": {
    "colab": {
     "base_uri": "https://localhost:8080/",
     "height": 240
    },
    "executionInfo": {
     "elapsed": 359,
     "status": "error",
     "timestamp": 1652185943628,
     "user": {
      "displayName": "Wenjie He",
      "userId": "00276928990955813725"
     },
     "user_tz": -120
    },
    "id": "780a0df5",
    "outputId": "62e271d3-acf5-483e-eb0a-431c5d9a607b"
   },
   "outputs": [],
   "source": [
    "# Plot Keras History\n",
    "fig = plt.figure(figsize=(5,3))\n",
    "plt.plot(history.history['loss'], label='loss')\n",
    "plt.plot(history.history['val_loss'], label = 'val_loss')\n",
    "plt.xlabel('Epoch')\n",
    "plt.ylabel(f\"Loss -> {np.min(history.history['loss'][-1]):.2f}\\nVal_Loss -> {np.min(history.history['val_loss'][-1]):.2f}\")\n",
    "plt.title(f\"{__model__}_rec{rec_factor}_{sim_name}\")\n",
    "plt.xlim([0,epochs])\n",
    "plt.ylim([0,100])\n",
    "plt.legend()\n",
    "plt.grid(alpha=0.2)\n",
    "if pipelined:\n",
    "    plt.savefig(f'../result/models/loss{__model__}_rec{rec_factor}_{sim_name}_pipelined.jpg',bbox_inches='tight')\n",
    "else:\n",
    "    plt.savefig(f'../result/models/loss{__model__}_rec{rec_factor}_{sim_name}.jpg',bbox_inches='tight')"
   ]
  },
  {
   "cell_type": "code",
   "execution_count": null,
   "id": "30be5296",
   "metadata": {
    "id": "68244bfe"
   },
   "outputs": [],
   "source": [
    "# Save the entire model as a SavedModel.\n",
    "if pipelined:\n",
    "    model.save(f'../result/models/model{__model__}_rec{rec_factor}_{sim_name}_pipelined.h5')\n",
    "else:\n",
    "    model.save(f'../result/models/model{__model__}_rec{rec_factor}_{sim_name}.h5')\n",
    "model.summary()"
   ]
  },
  {
   "cell_type": "markdown",
   "id": "fba28157",
   "metadata": {},
   "source": [
    "## Predict testdata using the Trained CNN"
   ]
  },
  {
   "cell_type": "code",
   "execution_count": null,
   "id": "e1097d48",
   "metadata": {},
   "outputs": [],
   "source": [
    "# calculate target output\n",
    "pipelined = False\n",
    "locs_label = ['D1', 'D2']\n",
    "locs_test = ['D1_03', 'D2_02','D1D2_02' ]\n",
    "x_all = []\n",
    "y_all = []\n",
    "xtest_part_temp = []\n",
    "xtest_part_temp = load_file(f'../result/test/corr_output/mqRec_output/{mDur}ms/rec{rec_factor}_mqR12_{locs_test[0]}_{sim_name}')\n",
    "xtest_all = np.zeros((1,xtest_part_temp.shape[1], x_part_temp.shape[2]))\n",
    "ytest_all = np.zeros((1, num_classes))\n",
    "\n",
    "for loc in locs_test:\n",
    "    if pipelined:\n",
    "        xtest_part = load_file(f'../result/test/corr_output/mqRec_pipe_output/{mDur}ms/rec{rec_factor}_mqR12_{loc}_{sim_name}')\n",
    "        print(f'Pipelined is {pipelined}')\n",
    "    else:\n",
    "        xtest_part = load_file(f'../result/test/corr_output/mqRec_output/{mDur}ms/rec{rec_factor}_mqR12_{loc}_{sim_name}')\n",
    "    xtest_all = np.vstack([xtest_all, xtest_part])\n",
    "\n",
    "    if loc == 'D1_03':\n",
    "        target_y = calc_target_y (index = [0], num_classes = num_classes, set_val=100) \n",
    "    if loc == 'D2_02':\n",
    "        target_y = calc_target_y (index = [1], num_classes = num_classes, set_val=100)\n",
    "    if loc == 'D1D2_02':\n",
    "        target_y = calc_target_y (index = [0,1], num_classes = num_classes, set_val=50)\n",
    "    \n",
    "    lr_ndata = xtest_part.shape[0]\n",
    "    ytest_part = np.ones((lr_ndata, num_classes))*target_y\n",
    "    ytest_all = np.r_[ytest_all, ytest_part]\n",
    "print(np.shape(xtest_all), np.shape(ytest_all))"
   ]
  },
  {
   "cell_type": "code",
   "execution_count": null,
   "id": "2592b49f",
   "metadata": {},
   "outputs": [],
   "source": [
    "# Load saved cnn model\n",
    "# load input data\n",
    "\n",
    "loctest_xs = []\n",
    "for loc in locs_test:\n",
    "    if pipelined:\n",
    "        loctest_x = load_file(f'../result/train/corr_output/mqRec_pipe_output/{mDur}ms/rec{rec_factor}_mqR12_{loc}_{sim_name}')\n",
    "    else:\n",
    "        loctest_x = load_file(f'../result/train/corr_output/mqRec_output/{mDur}ms/rec{rec_factor}_mqR12_{loc}_{sim_name}')\n",
    "    loctest_xs.append(loctest_x)\n",
    "    \n",
    "print(np.shape(loctest_xs))"
   ]
  },
  {
   "cell_type": "code",
   "execution_count": null,
   "id": "5abb3738",
   "metadata": {},
   "outputs": [],
   "source": [
    "# plot the trained CNN prediction\n",
    "if pipelined:\n",
    "    model = tf.keras.models.load_model(f'../result/models/model{__model__}_rec{rec_factor}_{sim_name}_pipelined.h5')\n",
    "else:\n",
    "    model = tf.keras.models.load_model(f'../result/models/model{__model__}_rec{rec_factor}_{sim_name}.h5')\n",
    "\n",
    "print('model:',__model__)\n",
    "print('sime_name',  sim_name)\n",
    "print(f'Pipelined is {pipelined}')\n",
    "# print(model.summary())\n",
    "\n",
    "loctest_x = loctest_xs\n",
    "print(np.shape(loctest_xs))\n",
    "\n",
    "\n",
    "preds=[]\n",
    "pred=[]\n",
    "pred_val =[]\n",
    "pred_max = np.zeros((len(locs_test), num_classes))\n",
    "for i, loc in enumerate(locs_test):\n",
    "    pred = np.append(pred, np.argmax(model.predict(loctest_xs[i]), axis=1))\n",
    "    preds = np.argmax(model.predict(loctest_xs[i]), axis=1)\n",
    "    pred_val = model.predict(loctest_xs[i])\n",
    "    for k in range(len(preds)):\n",
    "        for j in range (num_classes):\n",
    "            if (preds[k] == j):\n",
    "                pred_max[i,j] = pred_max[i,j]  + 1\n",
    "    del preds\n",
    "time = np.arange(pred.shape[0])\n",
    "print(time.shape)\n",
    "index = 2500\n",
    "# print(prediction[index:index+2])"
   ]
  },
  {
   "cell_type": "code",
   "execution_count": null,
   "id": "b9bb7d9d",
   "metadata": {},
   "outputs": [],
   "source": [
    "fig, ax = plt.subplots()\n",
    "ax.plot(time, pred, '.', markersize=1)\n",
    "ax.set_ylim([-0.5,1.5])\n",
    "ax.set_yticks([0,1])\n",
    "ax.set_yticklabels(locs_label)\n",
    "fig.set_size_inches(18, 10)"
   ]
  },
  {
   "cell_type": "code",
   "execution_count": null,
   "id": "9c999f78",
   "metadata": {},
   "outputs": [],
   "source": [
    "fig, ax = plt.subplots()\n",
    "plotdata = pd.DataFrame(pred_max, index=locs_test)\n",
    "plotdata.plot(kind='bar', stacked=True, ax=ax)\n",
    "ax.legend(locs_label, loc='center left', bbox_to_anchor=(1, 0.5))\n",
    "plt.title(\"Maximum Predicted Value of ADI_CHL datasets\")\n",
    "plt.xlabel(\"Sound Source Location\")\n",
    "fig.set_size_inches(10, 5)"
   ]
  },
  {
   "cell_type": "code",
   "execution_count": null,
   "id": "1a06c47d",
   "metadata": {
    "scrolled": true
   },
   "outputs": [],
   "source": [
    "# predict a single test input\n",
    "index = 3500\n",
    "# print(np.shape(xtest_all))\n",
    "prediction=np.zeros((0,0))\n",
    "for i, loc in enumerate(locs_test):\n",
    "    prediction = np.append(prediction, model.predict(loctest_xs[i]))\n",
    "print(\"\\nPrediction:\",prediction[2*index:2*index+2]) \n",
    "\n",
    "pred = model.predict(xtest_all)\n",
    "target = ytest_all\n",
    "print(\"\\nlenghts of the test dataset:\",target.shape)\n",
    "print(\"\\npredicted :\", pred[index])\n",
    "print(\"\\ntarget :\", target[index])\n",
    "print(\"MSE:%.4f\" %mean_squared_error(target[index], pred[index])) "
   ]
  },
  {
   "cell_type": "code",
   "execution_count": null,
   "id": "02786614",
   "metadata": {},
   "outputs": [],
   "source": [
    "# evaluation of the test data\n",
    "print(\"Evaluate on test data\")\n",
    "results = model.evaluate(xtest_all, ytest_all, batch_size=batch_size)\n",
    "print(\"test loss, test acc:\", results)"
   ]
  },
  {
   "cell_type": "markdown",
   "id": "4f34cd30",
   "metadata": {},
   "source": [
    "### Save filters as text files"
   ]
  },
  {
   "cell_type": "code",
   "execution_count": null,
   "id": "cc05239d",
   "metadata": {},
   "outputs": [],
   "source": [
    "# Load saved cnn model\n",
    "# model = tf.keras.models.load_model(f'../result/models/model{__model__}_{sim_name}.h5')\n",
    "filters, biases = model.layers[0].get_weights()\n",
    "with open(f'../result/models/model_weights_biases/weights_conv2d_l1{__model__}_rec{rec_factor}_{sim_name}.txt', 'w') as f:\n",
    "    f.write(str(filters))\n",
    "np.savetxt(f'../result/models/model_weights_biases/biases_conv2d_l1{__model__}_rec{rec_factor}_{sim_name}.txt', biases)\n",
    "print('filters : ',filters.shape)\n",
    "print('biases :', biases)\n",
    "\n",
    "filters, biases = model.layers[3].get_weights()\n",
    "np.savetxt(f'../result/models/model_weights_biases/weights_dense_l1{__model__}_rec{rec_factor}_{sim_name}.txt', filters.reshape(-1, filters.shape[-1]))\n",
    "np.savetxt(f'../result/models/model_weights_biases/biases_dense_l1{__model__}_rec{rec_factor}_{sim_name}.txt', biases)\n",
    "print('filters : ',filters.shape)\n",
    "print('biases :', biases)\n",
    "\n",
    "filters, biases = model.layers[4].get_weights()\n",
    "np.savetxt(f'../result/models/model_weights_biases/weights_dense_l2{__model__}_rec{rec_factor}_{sim_name}.txt', filters.reshape(-1, filters.shape[-1]))\n",
    "np.savetxt(f'../result/models/model_weights_biases/biases_dense_l2{__model__}_rec{rec_factor}_{sim_name}.txt', biases)\n",
    "\n",
    "print('filters : ',filters.shape)\n",
    "print('biases :', biases)"
   ]
  },
  {
   "cell_type": "markdown",
   "id": "5770c2ef",
   "metadata": {},
   "source": [
    "## Quantization aware training\n",
    "\n",
    "* Both inputs images and weights are int8, and biases re int32\n",
    "* Referefnces:\n",
    "\n",
    "    https://www.tensorflow.org/model_optimization/guide/quantization/training_comprehensive_guide\n",
    "\n",
    "    https://arxiv.org/pdf/1712.05877.pdf\n",
    "\n",
    "    https://towardsdatascience.com/inside-quantization-aware-training-4f91c8837ead\n",
    "\n",
    "    https://stackoverflow.com/questions/62512871/tensorflow-lite-inference-how-do-i-scale-down-the-convolution-layer-outputs"
   ]
  },
  {
   "cell_type": "code",
   "execution_count": null,
   "id": "43960d54",
   "metadata": {},
   "outputs": [],
   "source": [
    "# Load saved cnn model\n",
    "model = tf.keras.models.load_model(f'../result/models/model{__model__}_rec{rec_factor}_{sim_name}.h5')\n",
    "print(model.summary())"
   ]
  },
  {
   "cell_type": "code",
   "execution_count": null,
   "id": "340fc3dd",
   "metadata": {
    "scrolled": true
   },
   "outputs": [],
   "source": [
    "# Create and deploy quantized model\n",
    "quantize_model = tfmot.quantization.keras.quantize_model\n",
    "\n",
    "# q_aware stands for for quantization aware.\n",
    "q_aware_model = quantize_model(model)\n",
    "\n",
    "q_aware_model.compile(loss=\"mean_squared_error\" , optimizer=\"RMSProp\", metrics=[\"mean_squared_error\"])"
   ]
  },
  {
   "cell_type": "code",
   "execution_count": null,
   "id": "39767c5d",
   "metadata": {},
   "outputs": [],
   "source": [
    "#Train and evaluate the model against baseline\n",
    "history = q_aware_model.fit(train_x, train_y, batch_size=batch_size, epochs=200, verbose=1, validation_split=0.1)"
   ]
  },
  {
   "cell_type": "code",
   "execution_count": null,
   "id": "d926cbf0",
   "metadata": {},
   "outputs": [],
   "source": [
    "# Save q_aware_model\n",
    "q_aware_model.save(f'../result/models/q_aware_model{__model__}_rec{rec_factor}_{sim_name}.h5')"
   ]
  },
  {
   "cell_type": "code",
   "execution_count": null,
   "id": "1f7c390e",
   "metadata": {
    "scrolled": true
   },
   "outputs": [],
   "source": [
    "with tfmot.quantization.keras.quantize_scope():\n",
    "    q_aware_model = tf.keras.models.load_model(f'../result/models/q_aware_model{__model__}_rec{rec_factor}_{sim_name}.h5')\n",
    "_, baseline_model_loss = model.evaluate(\n",
    "    xtest_all, ytest_all, verbose=0)\n",
    "\n",
    "_, q_aware_model_loss = q_aware_model.evaluate(\n",
    "   xtest_all, ytest_all, verbose=0)\n",
    "\n",
    "print('Baseline test loss:', baseline_model_loss)\n",
    "print('Quant test loss:', q_aware_model_loss)"
   ]
  },
  {
   "cell_type": "markdown",
   "id": "62ecfe8f",
   "metadata": {},
   "source": [
    "## Visualize q_aware_model"
   ]
  },
  {
   "cell_type": "markdown",
   "id": "d8e422ef",
   "metadata": {},
   "source": [
    "### Visualize filters"
   ]
  },
  {
   "cell_type": "code",
   "execution_count": null,
   "id": "f8ea4fa1",
   "metadata": {},
   "outputs": [],
   "source": [
    "# load q_aware model\n",
    "with tfmot.quantization.keras.quantize_scope():\n",
    "    q_aware_model = tf.keras.models.load_model(f'../result/models/q_aware_model{__model__}_rec{rec_factor}_{sim_name}.h5')\n",
    "\n",
    "# print(q_aware_model.summary())"
   ]
  },
  {
   "cell_type": "code",
   "execution_count": null,
   "id": "e2bc9da8",
   "metadata": {},
   "outputs": [],
   "source": [
    "# visualize conv2d l1 filters values\n",
    "filters = q_aware_model.layers[1].get_weights()\n",
    "print('filters : ',filters)\n",
    "print('weights', )"
   ]
  },
  {
   "cell_type": "markdown",
   "id": "7a764285",
   "metadata": {},
   "source": [
    "#### Golden model: dense layers"
   ]
  },
  {
   "cell_type": "markdown",
   "id": "36a26071",
   "metadata": {},
   "source": [
    "##### Dense L1"
   ]
  },
  {
   "cell_type": "code",
   "execution_count": null,
   "id": "f1e1232a",
   "metadata": {},
   "outputs": [],
   "source": [
    "# visualize weights between flatten and dense l1\n",
    "filters = q_aware_model.layers[4].get_weights()\n",
    "flatten_index = 5 # can get a number up to the lenght of flatten\n",
    "print(filters[0][flatten_index]) # flatten-dense l1 weights\n",
    "\n",
    "# extract weights and biases of a neuron in the dense l1 from q_aware model\n",
    "neuron_index = 1\n",
    "dense_l1_w = []\n",
    "for i in range(len(filters[0])):\n",
    "    dense_l1_w.append(filters[0][i][neuron_index])\n",
    "print(np.size(dense_l1_w))\n",
    "# print(dense_l1_w)\n",
    "\n",
    "dense_l1_b =  filters[1][neuron_index]\n",
    "print('biases:', dense_l1_b)"
   ]
  },
  {
   "cell_type": "code",
   "execution_count": null,
   "id": "2922ca9b",
   "metadata": {},
   "outputs": [],
   "source": [
    "# a typycal neuron input extracted from feature maps visualitation \n",
    "fin =  [  0.3320455 , 0.        , 0.3984546  ,0.         ,0.49142736 ,1.0758275,\n",
    "          1.0758275 , 0.5047092 , 0.27891824 ,2.8555913  ,1.4078729  ,0.,\n",
    "          1.1289548 , 0.6773728 , 0.          ]\n",
    "\n",
    "# quantization factors extracted from tflite model\n",
    "s1, z1 =  0.013281820341944695  , -128\n",
    "s2, z2 =  0.04141935333609581  , 0\n",
    "s3, z3 = 0.04488903284072876 , 128\n",
    " \n",
    "\n",
    "# define a golden model for float neuron with expected qeantized vale\n",
    "single_neuron_model(weights=dense_l1_w, fin=fin, bias=dense_l1_b, s3 = s3, z3=z3,relu='true' )\n",
    "\n",
    "# define a golden model for queantized neuron\n",
    "single_quantized_neuron_model(weights=dense_l1_w, fin=fin, bias=dense_l1_b, s1=s1, s2=s2, s3 = s3, z1 = z1, z3=z3, relu='true')"
   ]
  },
  {
   "cell_type": "markdown",
   "id": "b1e2b2a4",
   "metadata": {},
   "source": [
    "##### Dense L2"
   ]
  },
  {
   "cell_type": "code",
   "execution_count": null,
   "id": "0813b8ed",
   "metadata": {},
   "outputs": [],
   "source": [
    "# visualize weights between flatten and dense l1\n",
    "filters = q_aware_model.layers[5].get_weights()\n",
    "flatten_index = 5 # can get a number up to the lenght of flatten\n",
    "print(filters[0][flatten_index]) # flatten-dense l1 weights\n",
    "\n",
    "# extract weights and biases of a neuron in the dense l1 from q_aware model\n",
    "neuron_index = 1\n",
    "dense_l2_w = []\n",
    "for i in range(len(filters[0])):\n",
    "    dense_l2_w.append(filters[0][i][neuron_index])\n",
    "print(np.size(dense_l2_w))\n",
    "# print(dense_l1_w)\n",
    "\n",
    "dense_l2_b =  filters[1][neuron_index]\n",
    "print('biases:', dense_l2_b)"
   ]
  },
  {
   "cell_type": "code",
   "execution_count": null,
   "id": "3fd74538",
   "metadata": {},
   "outputs": [],
   "source": [
    "# a typycal neuron input extracted from feature maps visualitation \n",
    "fin =  \t[0.        , 0.         , 0.        ,  0.         , 0.         , 0.,\n",
    "         0.62844646 , 0.22444516 , 1.5262271 ,  5.296906   , 0.         , 0.89778066,\n",
    "         0.         , 0.         , 5.0275717 ,  0.         , 0.         , 0.,\n",
    "         0.04488903 , 0.22444516 , 0.        ,  0.         , 3.5013447  , 0.,\n",
    "         4.309347   , 0.         , 4.17468   ,  0.         , 0.         , 0.,\n",
    "         3.860457   , 0.         , 0.        ,  1.8853394  , 0.         , 0.,\n",
    "         0.         , 0.         , 0.        ,  0.         , 0.         , 3.7257898,\n",
    "         0.         , 0.         , 5.431573  ,  0.         , 0.         , 0.,\n",
    "         0.         , 0.         , 4.040013  ,  6.1497974  , 0.35911226 , 0.,\n",
    "         5.0724607  , 0.17955613 , 4.5337925 ,  6.868022   , 0.         , 0.,\n",
    "         0.         , 0.         , 2.2893407 ,  0.22444516 , 0.         ]\n",
    "\n",
    "\n",
    "# quantization factors extracted from tflite model\n",
    "s1, z1 =  0.04488903284072876  , -128\n",
    "s2, z2 =  0.16951020061969757  , 0\n",
    "s3, z3 = 0.41242459416389465 , 122\n",
    " \n",
    "\n",
    "# define a golden model for float neuron with expected qeantized vale\n",
    "single_neuron_model(weights=dense_l2_w, fin=fin, bias=dense_l2_b, s3 = s3, z3=z3,relu='true' )\n",
    "\n",
    "# define a golden model for queantized neuron\n",
    "single_quantized_neuron_model(weights=dense_l2_w, fin=fin, bias=dense_l2_b, s1=s1, s2=s2, s3 = s3, z1 = z1, z3=z3, relu='true')"
   ]
  },
  {
   "cell_type": "markdown",
   "id": "92fa82ac",
   "metadata": {},
   "source": [
    "###  Visualize feature maps"
   ]
  },
  {
   "cell_type": "markdown",
   "id": "4d93b856",
   "metadata": {},
   "source": [
    "#### Conv2dL1"
   ]
  },
  {
   "cell_type": "code",
   "execution_count": null,
   "id": "645c2077",
   "metadata": {
    "scrolled": true
   },
   "outputs": [],
   "source": [
    "# reference: https://www.tertiaryinfotech.com/feature-map-visualization-using-tensorflow-keras/\n",
    "with tfmot.quantization.keras.quantize_scope():\n",
    "    q_aware_model = tf.keras.models.load_model(f'../result/models/q_aware_model{__model__}_rec{rec_factor}_{sim_name}.h5')\n",
    "\n",
    "# prepare input image for prediction\n",
    "x = xtest_all[3000][:]\n",
    "\n",
    "# print(x.shape[0], x.shape[1])\n",
    "x = x.reshape((1, x.shape[0], x.shape[1], 1))\n",
    "\n",
    "base_model = q_aware_model\n",
    "# base_model = model\n",
    "activation_model = Model(inputs=base_model.inputs, outputs=base_model.layers[2].output)\n",
    "\n",
    "\n",
    "activation = activation_model(x)\n",
    "# print(activation)\n",
    "\n",
    "plt.figure(figsize=(40,40))\n",
    "for i in range(1):\n",
    "    plt.subplot(8,5,i+1)\n",
    "    plt.imshow(activation[0,:,:,i])\n",
    "    plt.title(\"ch \"+ str(i))\n",
    "plt.colorbar()\n",
    "plt.show()"
   ]
  },
  {
   "cell_type": "code",
   "execution_count": null,
   "id": "845d0284",
   "metadata": {},
   "outputs": [],
   "source": [
    "for i in range(1):\n",
    "    print(np.where(activation[0,:,:,i] == np.amax(activation[0,:,:,i])))"
   ]
  },
  {
   "cell_type": "code",
   "execution_count": null,
   "id": "ac7069e6",
   "metadata": {},
   "outputs": [],
   "source": [
    "activation[0,:,:,0]"
   ]
  },
  {
   "cell_type": "code",
   "execution_count": null,
   "id": "52611d4e",
   "metadata": {},
   "outputs": [],
   "source": [
    "s3 , z3 = 0.013281820341944695, 128\n",
    "np.multiply(activation[0,:,:,0], 1/s3)-z3"
   ]
  },
  {
   "cell_type": "markdown",
   "id": "545a6b32",
   "metadata": {},
   "source": [
    "#### Dense Layers"
   ]
  },
  {
   "cell_type": "code",
   "execution_count": null,
   "id": "fff01d62",
   "metadata": {},
   "outputs": [],
   "source": [
    "with tfmot.quantization.keras.quantize_scope():\n",
    "    q_aware_model = tf.keras.models.load_model(f'../result/models/q_aware_model{__model__}_rec{rec_factor}_{sim_name}.h5')\n",
    "\n",
    "# prepare input image for prediction\n",
    "x = xtest_all[3500][:]\n",
    "\n",
    "# print(x.shape[0], x.shape[1])\n",
    "x = x.reshape((1, x.shape[0], x.shape[1], 1))\n",
    "\n",
    "base_model = q_aware_model\n",
    "# base_model = model\n",
    "activation_model = Model(inputs=base_model.inputs, outputs=base_model.layers[5].output)\n",
    "activation = activation_model(x)\n",
    "print('real activation L1:\\n', activation)\n",
    "s3 , z3 = 0.04488903284072876 , 128\n",
    "print('quantized activation:\\n', np.multiply(activation, 1/s3)-z3)"
   ]
  },
  {
   "cell_type": "markdown",
   "id": "26b43089",
   "metadata": {},
   "source": [
    "## Make tfLite model and evaluate"
   ]
  },
  {
   "cell_type": "code",
   "execution_count": null,
   "id": "b1b178fc",
   "metadata": {},
   "outputs": [],
   "source": [
    "# Converting a SavedModel to a TensorFlow Lite model.\n",
    "converter = tf.lite.TFLiteConverter.from_keras_model(q_aware_model)\n",
    "converter.optimizations = [tf.lite.Optimize.DEFAULT]\n",
    "\n",
    "quantized_tflite_model = converter.convert()\n"
   ]
  },
  {
   "cell_type": "code",
   "execution_count": null,
   "id": "c20e2aff",
   "metadata": {},
   "outputs": [],
   "source": [
    "# Create float TFLite model.\n",
    "float_converter = tf.lite.TFLiteConverter.from_keras_model(model)\n",
    "float_tflite_model = float_converter.convert()\n",
    "# save tf lite model\n",
    "with open(f'../result/models/quant_file{__model__}_rec{rec_factor}_{sim_name}.tflite', 'wb') as f:\n",
    "  f.write(quantized_tflite_model)\n",
    "\n",
    "with open(f'../result/models/float_file{__model__}_rec{rec_factor}_{sim_name}.tflite', 'wb') as f:\n",
    "  f.write(float_tflite_model)\n",
    "\n",
    "print(\"keras model in Mb:\", os.path.getsize(f'../result/models/model{__model__}_rec{rec_factor}_{sim_name}.h5') / float(2**20))\n",
    "print(\"Float model in Mb:\", os.path.getsize(f'../result/models/float_file{__model__}_rec{rec_factor}_{sim_name}.tflite') / float(2**20))\n",
    "print(\"Quantized model in Mb:\", os.path.getsize(f'../result/models/quant_file{__model__}_rec{rec_factor}_{sim_name}.tflite') / float(2**20))\n"
   ]
  },
  {
   "cell_type": "code",
   "execution_count": null,
   "id": "9b3d1064",
   "metadata": {},
   "outputs": [],
   "source": [
    "# Interpreter interface for running TensorFlow Lite models.\n",
    "interpreter = tf.lite.Interpreter(model_content=quantized_tflite_model)\n",
    "interpreter.allocate_tensors()"
   ]
  },
  {
   "cell_type": "code",
   "execution_count": null,
   "id": "e0a39527",
   "metadata": {},
   "outputs": [],
   "source": [
    "loss_res = []\n",
    "for i in range(len(xtest_all)):\n",
    "    single_test_pred, loss = predict_model(interpreter,xtest_all, ytest_all, i)\n",
    "    loss_res.append(loss)\n",
    "print(\"mean loss:\", np.sum(loss_res)/len(xtest_all))\n",
    "print(np.max(loss_res))\n",
    "print(np.min(loss_res))"
   ]
  },
  {
   "cell_type": "code",
   "execution_count": null,
   "id": "e37fa258",
   "metadata": {},
   "outputs": [],
   "source": [
    "i = 4000\n",
    "single_test_pred, loss = predict_model(interpreter,xtest_all, ytest_all, i)\n",
    "print(\"Loss: \", loss)"
   ]
  },
  {
   "cell_type": "markdown",
   "id": "3fa29ff2",
   "metadata": {
    "id": "j-w6jmOvL0OX"
   },
   "source": [
    "## Export weights and biases binary values to memory\n",
    "\n",
    "todo list for exporting weights and biases to memory: \n",
    "\n",
    "    1- open the model using netron\n",
    "    \n",
    "    2- manually save weight and biases in this path: \n",
    "    \n",
    "         f'../../hdl_design/test/quantized_weights_biases/'\n",
    "         \n",
    "    3- manually modify the names of the weights and biases files here"
   ]
  },
  {
   "cell_type": "code",
   "execution_count": null,
   "id": "c9ddd1d9",
   "metadata": {},
   "outputs": [],
   "source": [
    "# visualize tflite model using netron\n",
    "# !pip install netron\n",
    "netron.start(f'../result/models/quant_file{__model__}_rec{rec_factor}_{sim_name}.tflite')"
   ]
  },
  {
   "cell_type": "code",
   "execution_count": null,
   "id": "c9126da4",
   "metadata": {},
   "outputs": [],
   "source": [
    "# load weights and biases, reshepe and save them with .txt format\n",
    "config_name = 'c10' # config name is based on the CAR  parameters according to the table\n",
    "name_param_cnn = 34 # name_param_cnn is extracted from the name of the files saved from netron\n",
    "name_param_dense = 68 # name_param_dense is extracted from the name of the files saved from netron\n",
    "\n",
    "conv2D_1_weights = np.load(f'../../hdl_design/test/{config_name}_quantized_weights_biases/sequential_{name_param_cnn}_quant_conv2d_{name_param_cnn}_Conv2D;sequential_{name_param_cnn}_quant_conv2d_{name_param_cnn}_LastValueQuant_FakeQuantWithMinMaxVarsPerChannel.npy')\n",
    "np.savetxt(f'../../hdl_design/test/{config_name}_quantized_weights_biases/conv2D_1_weights.txt', conv2D_1_weights.reshape(conv2D_1_weights.shape[0], -1), fmt=\"%d\")\n",
    "\n",
    "conv2D_1_biases = np.load(f'../../hdl_design/test/{config_name}_quantized_weights_biases/sequential_{name_param_cnn}_quant_conv2d_{name_param_cnn}_BiasAdd_ReadVariableOp.npy')\n",
    "np.savetxt(f'../../hdl_design/test/{config_name}_quantized_weights_biases/conv2D_1_biases.txt', conv2D_1_biases, fmt=\"%d\")\n",
    "print(conv2D_1_biases)\n",
    "\n",
    "dense_1_weights = np.load(f'../../hdl_design/test/{config_name}_quantized_weights_biases/sequential_{name_param_cnn}_quant_dense_{name_param_dense}_MatMul;sequential_{name_param_cnn}_quant_dense_{name_param_dense}_LastValueQuant_FakeQuantWithMinMaxVars.npy')\n",
    "np.savetxt(f'../../hdl_design/test/{config_name}_quantized_weights_biases/dense_1_weights.txt',dense_1_weights, fmt=\"%d\")\n",
    "        \n",
    "dense_1_biases = np.load(f'../../hdl_design/test/{config_name}_quantized_weights_biases/sequential_{name_param_cnn}_quant_dense_{name_param_dense}_BiasAdd_ReadVariableOp.npy')\n",
    "np.savetxt(f'../../hdl_design/test/{config_name}_quantized_weights_biases/dense_1_biases.txt',dense_1_biases, fmt=\"%d\")\n",
    "print(dense_1_biases.shape)\n",
    "\n",
    "dense_2_weights = np.load(f'../../hdl_design/test/{config_name}_quantized_weights_biases/sequential_{name_param_cnn}_quant_dense_{name_param_dense+1}_MatMul;sequential_{name_param_cnn}_quant_dense_{name_param_dense+1}_LastValueQuant_FakeQuantWithMinMaxVars.npy')\n",
    "np.savetxt(f'../../hdl_design/test/{config_name}_quantized_weights_biases/dense_2_weights.txt',dense_2_weights, fmt=\"%d\")\n",
    "\n",
    "dense_2_biases = np.load(f'../../hdl_design/test/{config_name}_quantized_weights_biases/sequential_{name_param_cnn}_quant_dense_{name_param_dense+1}_BiasAdd_ReadVariableOp.npy')\n",
    "np.savetxt(f'../../hdl_design/test/{config_name}_quantized_weights_biases/dense_2_biases.txt',dense_2_biases, fmt=\"%d\")\n"
   ]
  },
  {
   "cell_type": "code",
   "execution_count": null,
   "id": "f2c28ca0",
   "metadata": {},
   "outputs": [],
   "source": [
    "# save the weights and biases binary values in memmory\n",
    "save_4d_arr_in_mem(w = conv2D_1_weights, fileloc='../../hdl_design/test/mem/cnn_param_mem/conv2d_1_weights.txt')\n",
    "\n",
    "save_1d_arr_in_mem(b = conv2D_1_biases, nbits=32, fileloc='../../hdl_design/test/mem/cnn_param_mem/conv2d_1_biases.txt')\n",
    "\n",
    "save_2d_arr_in_mem(w=dense_1_weights, nbits=8, fileloc='../../hdl_design/test/mem/cnn_param_mem/dense_1_weights.txt')\n",
    "print(dense_1_weights.shape)\n",
    "\n",
    "save_1d_arr_in_mem(b=dense_1_biases, nbits=32, fileloc='../../hdl_design/test/mem/cnn_param_mem/dense_1_biases.txt')\n",
    "\n",
    "save_2d_arr_in_mem(w=dense_2_weights, nbits=8, fileloc='../../hdl_design/test/mem/cnn_param_mem/dense_2_weights.txt')\n",
    "\n",
    "save_1d_arr_in_mem(b=dense_2_biases, nbits=32, fileloc='../../hdl_design/test/mem/cnn_param_mem/dense_2_biases.txt')"
   ]
  },
  {
   "cell_type": "markdown",
   "id": "f4ce067a",
   "metadata": {},
   "source": [
    "## Export Quantized Feature In\n",
    "Reference: https://www.tensorflow.org/lite/performance/quantization_spec"
   ]
  },
  {
   "cell_type": "markdown",
   "id": "89bb43c9",
   "metadata": {},
   "source": [
    "https://towardsdatascience.com/inside-quantization-aware-training-4f91c8837ead"
   ]
  },
  {
   "cell_type": "code",
   "execution_count": null,
   "id": "c2c53f6e",
   "metadata": {},
   "outputs": [],
   "source": [
    "# input quantization factors s1 and z1 are extracted from tflite model\n",
    "s1, z1 = 0.0073202610947191715 , -5\n",
    "\n",
    "index = 6000\n",
    "r = xtest_all[index]\n",
    "print('prediction result', ytest_all[index])\n",
    "q = (r/s1 )+z1\n",
    "q_r = np.round(q)\n",
    "print(np.round(q))\n",
    "filename = f'quantized_xtest_all{index}.txt'\n",
    "np.savetxt(f'../../hdl_design/test/feature_ins/{filename}', q_r, fmt=\"%d\")\n",
    "save_1d_arr_in_mem(b = q_r.ravel(), signed = True, nbits=8, n_frac =0, fileloc=f'../../hdl_design/test/feature_ins/mem/{filename}')"
   ]
  },
  {
   "cell_type": "markdown",
   "id": "e268ba04",
   "metadata": {},
   "source": [
    "## Export Down scaling factors to memory\n",
    "\n",
    "todo list for exporting down-scaling factors to memory:\n",
    "\n",
    "    1- open the model using netron\n",
    "    \n",
    "    2- manually copy here zero-point and scaling factors of each layer     "
   ]
  },
  {
   "cell_type": "markdown",
   "id": "db2d745a",
   "metadata": {},
   "source": [
    "### Conv2d L1"
   ]
  },
  {
   "cell_type": "code",
   "execution_count": null,
   "id": "9d445530",
   "metadata": {},
   "outputs": [],
   "source": [
    "# if config_name == 'c1'\n",
    "    # input scaling factors\n",
    "# s1, z1 = 0.007598039228469133, -1\n",
    "# # weigthes scaling factors\n",
    "# s2, z2 = [0.015725351870059967 ], 0\n",
    "# # output scaling factors\n",
    "# s3, z3 = 0.012478901073336601, [-128]\n",
    "    \n",
    "# elif config_name == 'c10':\n",
    "# input scaling factors\n",
    "s1, z1 = 0.0073202610947191715 , -5\n",
    "# weigthes scaling factors\n",
    "s2, z2 = [0.031487368047237396  ], 0\n",
    "# output scaling factors\n",
    "s3, z3 = 0.013281820341944695, [-128]\n",
    "\n",
    "M0_d, M0, n, b = [], [], [], []\n",
    "kernels = conv2D_1_weights\n",
    "print(kernels.shape)\n",
    "for i in range(kernels.shape[0]):\n",
    "    print(\"CONV2D_L1- ch: \", i)\n",
    "    k = kernels[i]\n",
    "    M0t, M0tt,  nt, bt = Int32_to_int8 (s1 = s1, s2 = s2[i], s3 = s3 ,z1 = z1, z3 = z3, k = k)\n",
    "    M0_d.append(M0t)\n",
    "    M0.append(M0tt)\n",
    "    n.append(nt)\n",
    "    b.append(bt)\n",
    "print(M0_d, n , b)\n",
    "\n",
    "np.savetxt(f'../../hdl_design/test/cnn_m0_n_b_z3/conv2d_l1_n.txt', n, fmt=\"%d\")\n",
    "np.savetxt(f'../../hdl_design/test/cnn_m0_n_b_z3/conv2d_l1_b.txt', b, fmt=\"%d\")\n",
    "np.savetxt(f'../../hdl_design/test/cnn_m0_n_b_z3/conv2d_l1_m0.txt', M0_d, fmt=\"%d\")\n",
    "np.savetxt(f'../../hdl_design/test/cnn_m0_n_b_z3/conv2d_l1_z3.txt', z3, fmt=\"%d\")\n",
    "\n",
    "save_1d_arr_in_mem(b = n, nbits=5, fileloc='../../hdl_design/test/mem/cnn_param_mem/conv2d_1_n.txt' )\n",
    "save_1d_arr_in_mem(b = M0, signed = False, nbits=32, n_frac =32, fileloc='../../hdl_design/test/mem/cnn_param_mem/conv2d_1_m0.txt' )\n",
    "save_1d_arr_in_mem(b = b, nbits=32, fileloc='../../hdl_design/test/mem/cnn_param_mem/conv2d_1_b.txt' )\n",
    "save_1d_arr_in_mem(b = z3, nbits=8, fileloc='../../hdl_design/test/mem/cnn_param_mem/conv2d_1_z3.txt' )"
   ]
  },
  {
   "cell_type": "markdown",
   "id": "662fe315",
   "metadata": {},
   "source": [
    "### Conv2d L2"
   ]
  },
  {
   "cell_type": "code",
   "execution_count": null,
   "id": "8d7ab962",
   "metadata": {},
   "outputs": [],
   "source": [
    "# s1 = 0.02145662158727646 \n",
    "# s2 = [      0.008125287480652332 ,\n",
    "#               0.008655051700770855 ,\n",
    "#               0.008863701485097408 ,\n",
    "#               0.0065904706716537476 ,\n",
    "#               0.008133678697049618 ,\n",
    "#               0.007388727739453316 ,\n",
    "#               0.01101324986666441 ,\n",
    "#               0.00890156626701355 ,\n",
    "#               0.009305829182267189 ,\n",
    "#               0.015653613954782486  ]\n",
    "# s3 =  0.028310053050518036\n",
    "# z1 = -46\n",
    "# z2 = 0\n",
    "# z3 = [-66]\n",
    "\n",
    "# kernels = conv2D_2_weights\n",
    "# M0_d, M0, n, b = [], [], [], []\n",
    "# for i in range(kernels.shape[0]):\n",
    "#     print(\"CONV2D_L2- ch: \", i)\n",
    "#     k = kernels[i]\n",
    "#     M0t, M0tt,  nt, bt = Int32_to_int8 (s1 = s1, s2 = s2[i], s3 = s3 ,z1 = z1, z3 = z3, k = k)\n",
    "#     M0_d.append(M0t)\n",
    "#     M0.append(M0tt)\n",
    "#     n.append(nt)\n",
    "#     b.append(bt)\n",
    "# print(b)\n",
    "\n",
    "# np.savetxt(f'../../hdl_design/test/cnn_m0_n_b/conv2d_l2_n.txt', n, fmt=\"%d\")\n",
    "# np.savetxt(f'../../hdl_design/test/cnn_m0_n_b/conv2d_l2_b.txt', b, fmt=\"%d\")\n",
    "# np.savetxt(f'../../hdl_design/test/cnn_m0_n_b/conv2d_l2_m0.txt', M0_d, fmt=\"%d\")\n",
    "# np.savetxt(f'../../hdl_design/test/cnn_m0_n_b/conv2d_l2_z3.txt', z3, fmt=\"%d\")\n",
    "\n",
    "# save_1d_arr_in_mem(b = n, nbits=5, fileloc='../../hdl_design/test/mem/cnn_param_mem/conv2d_2_n.txt' )\n",
    "# save_1d_arr_in_mem(b = M0, signed = False, nbits=32, n_frac =32, fileloc='../../hdl_design/test/mem/cnn_param_mem/conv2d_2_m0.txt' )\n",
    "# save_1d_arr_in_mem(b = b, nbits=32, fileloc='../../hdl_design/test/mem/cnn_param_mem/conv2d_2_b.txt' )\n",
    "# save_1d_arr_in_mem(b = z3, nbits=8, fileloc='../../hdl_design/test/mem/cnn_param_mem/conv2d_2_z3.txt' )"
   ]
  },
  {
   "cell_type": "markdown",
   "id": "c42a9152",
   "metadata": {},
   "source": [
    "### Dense L1"
   ]
  },
  {
   "cell_type": "code",
   "execution_count": null,
   "id": "f1a62f18",
   "metadata": {},
   "outputs": [],
   "source": [
    "# if config_name == 'c1'\n",
    "# input scaling factors\n",
    "# s1, z1 =  0.012478901073336601 , -128\n",
    "# # weigthes scaling factors\n",
    "# s2, z2 = 0.08118652552366257, 0\n",
    "# # output scaling factors\n",
    "# s3, z3 =  0.16681046783924103 , [-128]\n",
    "\n",
    "# if config_name == 'c10'\n",
    "s1, z1 =  0.013281820341944695 , -128\n",
    "# weigthes scaling factors\n",
    "s2, z2 = 0.04141935333609581, 0\n",
    "# output scaling factors\n",
    "s3, z3 =  0.04488903284072876 , [-128]\n",
    "\n",
    "bn = []\n",
    "for i in range(fc_filters[0]):\n",
    "    print(\"DENSE LAYER 1, Neuron : \", i)\n",
    "    k = dense_1_weights[i]\n",
    "    bias = dense_1_biases[i]\n",
    "    print(k)\n",
    "    print(\"bias :\", bias)\n",
    "    M0t, M0, n, b,  = Int32_to_int8 (s1 = s1, s2 = s2, s3 = s3 ,z1=z1, z3 = z3, k = k)\n",
    "    bn.append(b)\n",
    "print(n)\n",
    "n = [n]\n",
    "M0 = [M0]\n",
    "# z3 = [z3]\n",
    "save_1d_arr_in_mem(b = n, nbits=5, fileloc='../../hdl_design/test/mem/cnn_param_mem/dense_1_n.txt' )\n",
    "save_1d_arr_in_mem(b = M0, signed = False, nbits=32, n_frac =32, fileloc='../../hdl_design/test/mem/cnn_param_mem/dense_1_m0.txt' )\n",
    "save_1d_arr_in_mem(b = bn, nbits=32, fileloc='../../hdl_design/test/mem/cnn_param_mem/dense_1_b.txt' )\n",
    "save_1d_arr_in_mem(b = z3, nbits=8, fileloc='../../hdl_design/test/mem/cnn_param_mem/dense_1_z3.txt' )\n",
    "\n",
    "\n",
    "np.savetxt(f'../../hdl_design/test/cnn_m0_n_b_z3/dense_l1_z3.txt', np.round(z3), fmt=\"%d\")\n",
    "np.savetxt(f'../../hdl_design/test/cnn_m0_n_b_z3/dense_l1_b.txt', np.round(bn), fmt=\"%d\")\n",
    "np.savetxt(f'../../hdl_design/test/cnn_m0_n_b_z3/dense_l1_n.txt', np.round(n), fmt=\"%d\")\n",
    "np.savetxt(f'../../hdl_design/test/cnn_m0_n_b_z3/dense_l1_m0.txt', np.round(M0), fmt=\"%d\")"
   ]
  },
  {
   "cell_type": "markdown",
   "id": "738aada2",
   "metadata": {},
   "source": [
    "### Dense l2"
   ]
  },
  {
   "cell_type": "code",
   "execution_count": null,
   "id": "9e0fa13b",
   "metadata": {},
   "outputs": [],
   "source": [
    "# s3 and z3 should be calculated manually based on the desired output\n",
    "\n",
    "# if config_name == 'c1'\n",
    "# input scaling factors\n",
    "# s1, z1 =  0.16681046783924103, -128\n",
    "# # weigthes scaling factors\n",
    "# s2, z2 = 0.05973675847053528, 0\n",
    "# # output scaling factors\n",
    "# s3, z3 =  0.42258980870246887  , [119]\n",
    "\n",
    "# if config_name == 'c10'\n",
    "# input scaling factors\n",
    "s1, z1 =  0.04488903284072876, -128\n",
    "# weigthes scaling factors\n",
    "s2, z2 = 0.16951020061969757, 0\n",
    "# output scaling factors\n",
    "# s3, z3 =  0.41242459416389465  , [122]\n",
    "s3, z3 =  2.5*0.41242459416389465  , [0]\n",
    "\n",
    "bn = []\n",
    "for i in range(num_classes):\n",
    "    print(\"DENSE LAYER 2, Neuron : \", i)\n",
    "    k = dense_2_weights[i]\n",
    "    M0t, M0, n, b = Int32_to_int8 (s1 = s1, s2 = s2, s3 = s3 , z1 = z1, z3 = z3, k = k)\n",
    "    bn.append(b)\n",
    "n = [n]\n",
    "M0 = [M0]\n",
    "print(\"M0, n, b\", M0, n, b)\n",
    "M0t =[M0t]\n",
    "np.savetxt(f'../../hdl_design/test/cnn_m0_n_b_z3/dense_l2_b.txt', np.round(bn), fmt=\"%d\")\n",
    "np.savetxt(f'../../hdl_design/test/cnn_m0_n_b_z3/dense_l2_n.txt', np.round(n), fmt=\"%d\")\n",
    "np.savetxt(f'../../hdl_design/test/cnn_m0_n_b_z3/dense_l2_m0.txt', np.round(M0t), fmt=\"%d\")\n",
    "np.savetxt(f'../../hdl_design/test/cnn_m0_n_b_z3/dense_l2_z3.txt', np.round(z3), fmt=\"%d\")\n",
    "\n",
    "save_1d_arr_in_mem(b = n, nbits=5, fileloc='../../hdl_design/test/mem/cnn_param_mem/dense_2_n.txt' )\n",
    "save_1d_arr_in_mem(b = M0, signed = False, nbits=32, n_frac =32, fileloc='../../hdl_design/test/mem/cnn_param_mem/dense_2_m0.txt' )\n",
    "save_1d_arr_in_mem(b = bn, nbits=32, fileloc='../../hdl_design/test/mem/cnn_param_mem/dense_2_b.txt' )\n",
    "save_1d_arr_in_mem(b = z3, nbits=8, fileloc='../../hdl_design/test/mem/cnn_param_mem/dense_2_z3.txt' )"
   ]
  },
  {
   "cell_type": "code",
   "execution_count": null,
   "id": "e59aacb3",
   "metadata": {},
   "outputs": [],
   "source": []
  }
 ],
 "metadata": {
  "colab": {
   "collapsed_sections": [],
   "name": "CNN_newData.ipynb",
   "provenance": []
  },
  "kernelspec": {
   "display_name": "ssl-prj",
   "language": "python",
   "name": "ssl-prj"
  },
  "language_info": {
   "codemirror_mode": {
    "name": "ipython",
    "version": 3
   },
   "file_extension": ".py",
   "mimetype": "text/x-python",
   "name": "python",
   "nbconvert_exporter": "python",
   "pygments_lexer": "ipython3",
   "version": "3.9.7"
  },
  "toc": {
   "base_numbering": 1,
   "nav_menu": {},
   "number_sections": true,
   "sideBar": true,
   "skip_h1_title": false,
   "title_cell": "Table of Contents",
   "title_sidebar": "Contents",
   "toc_cell": false,
   "toc_position": {
    "height": "calc(100% - 180px)",
    "left": "10px",
    "top": "150px",
    "width": "173.4px"
   },
   "toc_section_display": true,
   "toc_window_display": true
  },
  "varInspector": {
   "cols": {
    "lenName": 16,
    "lenType": 16,
    "lenVar": 40
   },
   "kernels_config": {
    "python": {
     "delete_cmd_postfix": "",
     "delete_cmd_prefix": "del ",
     "library": "var_list.py",
     "varRefreshCmd": "print(var_dic_list())"
    },
    "r": {
     "delete_cmd_postfix": ") ",
     "delete_cmd_prefix": "rm(",
     "library": "var_list.r",
     "varRefreshCmd": "cat(var_dic_list()) "
    }
   },
   "position": {
    "height": "377.852px",
    "left": "854px",
    "right": "20px",
    "top": "169px",
    "width": "510px"
   },
   "types_to_exclude": [
    "module",
    "function",
    "builtin_function_or_method",
    "instance",
    "_Feature"
   ],
   "window_display": false
  },
  "widgets": {
   "application/vnd.jupyter.widget-state+json": {
    "02d9ed61269f4039917231b33c5b8d33": {
     "model_module": "@jupyter-widgets/controls",
     "model_module_version": "1.5.0",
     "model_name": "VBoxModel",
     "state": {
      "_dom_classes": [
       "widget-interact"
      ],
      "_model_module": "@jupyter-widgets/controls",
      "_model_module_version": "1.5.0",
      "_model_name": "VBoxModel",
      "_view_count": null,
      "_view_module": "@jupyter-widgets/controls",
      "_view_module_version": "1.5.0",
      "_view_name": "VBoxView",
      "box_style": "",
      "children": [
       "IPY_MODEL_d9999f1f28bb4cc291aa7d664f2cd15d",
       "IPY_MODEL_e1b1559e85384871b2e83199ec13fd8f",
       "IPY_MODEL_97944f7af5f04cc896210b8b2f1d932f"
      ],
      "layout": "IPY_MODEL_e8e6099a480c480fa783d84c937b6db8"
     }
    },
    "0756e5cd31d14070b13ee088477e65ee": {
     "model_module": "@jupyter-widgets/output",
     "model_module_version": "1.0.0",
     "model_name": "OutputModel",
     "state": {
      "_dom_classes": [],
      "_model_module": "@jupyter-widgets/output",
      "_model_module_version": "1.0.0",
      "_model_name": "OutputModel",
      "_view_count": null,
      "_view_module": "@jupyter-widgets/output",
      "_view_module_version": "1.0.0",
      "_view_name": "OutputView",
      "layout": "IPY_MODEL_7be80a2040b54e9f8f6bb2d6c1ae0e16",
      "msg_id": "",
      "outputs": [
       {
        "data": {
         "image/png": "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\n",
         "text/plain": "<Figure size 2016x1008 with 9 Axes>"
        },
        "metadata": {
         "needs_background": "light"
        },
        "output_type": "display_data"
       }
      ]
     }
    },
    "0977c38aff6d47acaf79282018c23777": {
     "model_module": "@jupyter-widgets/base",
     "model_module_version": "1.2.0",
     "model_name": "LayoutModel",
     "state": {
      "_model_module": "@jupyter-widgets/base",
      "_model_module_version": "1.2.0",
      "_model_name": "LayoutModel",
      "_view_count": null,
      "_view_module": "@jupyter-widgets/base",
      "_view_module_version": "1.2.0",
      "_view_name": "LayoutView",
      "align_content": null,
      "align_items": null,
      "align_self": null,
      "border": null,
      "bottom": null,
      "display": null,
      "flex": null,
      "flex_flow": null,
      "grid_area": null,
      "grid_auto_columns": null,
      "grid_auto_flow": null,
      "grid_auto_rows": null,
      "grid_column": null,
      "grid_gap": null,
      "grid_row": null,
      "grid_template_areas": null,
      "grid_template_columns": null,
      "grid_template_rows": null,
      "height": null,
      "justify_content": null,
      "justify_items": null,
      "left": null,
      "margin": null,
      "max_height": null,
      "max_width": null,
      "min_height": null,
      "min_width": null,
      "object_fit": null,
      "object_position": null,
      "order": null,
      "overflow": null,
      "overflow_x": null,
      "overflow_y": null,
      "padding": null,
      "right": null,
      "top": null,
      "visibility": null,
      "width": null
     }
    },
    "0a29351982f24018858aadfa9f45da86": {
     "model_module": "@jupyter-widgets/base",
     "model_module_version": "1.2.0",
     "model_name": "LayoutModel",
     "state": {
      "_model_module": "@jupyter-widgets/base",
      "_model_module_version": "1.2.0",
      "_model_name": "LayoutModel",
      "_view_count": null,
      "_view_module": "@jupyter-widgets/base",
      "_view_module_version": "1.2.0",
      "_view_name": "LayoutView",
      "align_content": null,
      "align_items": null,
      "align_self": null,
      "border": null,
      "bottom": null,
      "display": null,
      "flex": null,
      "flex_flow": null,
      "grid_area": null,
      "grid_auto_columns": null,
      "grid_auto_flow": null,
      "grid_auto_rows": null,
      "grid_column": null,
      "grid_gap": null,
      "grid_row": null,
      "grid_template_areas": null,
      "grid_template_columns": null,
      "grid_template_rows": null,
      "height": null,
      "justify_content": null,
      "justify_items": null,
      "left": null,
      "margin": null,
      "max_height": null,
      "max_width": null,
      "min_height": null,
      "min_width": null,
      "object_fit": null,
      "object_position": null,
      "order": null,
      "overflow": null,
      "overflow_x": null,
      "overflow_y": null,
      "padding": null,
      "right": null,
      "top": null,
      "visibility": null,
      "width": null
     }
    },
    "0fb62baf904c4af59651eb4c929edfb6": {
     "model_module": "@jupyter-widgets/base",
     "model_module_version": "1.2.0",
     "model_name": "LayoutModel",
     "state": {
      "_model_module": "@jupyter-widgets/base",
      "_model_module_version": "1.2.0",
      "_model_name": "LayoutModel",
      "_view_count": null,
      "_view_module": "@jupyter-widgets/base",
      "_view_module_version": "1.2.0",
      "_view_name": "LayoutView",
      "align_content": null,
      "align_items": null,
      "align_self": null,
      "border": null,
      "bottom": null,
      "display": null,
      "flex": null,
      "flex_flow": null,
      "grid_area": null,
      "grid_auto_columns": null,
      "grid_auto_flow": null,
      "grid_auto_rows": null,
      "grid_column": null,
      "grid_gap": null,
      "grid_row": null,
      "grid_template_areas": null,
      "grid_template_columns": null,
      "grid_template_rows": null,
      "height": null,
      "justify_content": null,
      "justify_items": null,
      "left": null,
      "margin": null,
      "max_height": null,
      "max_width": null,
      "min_height": null,
      "min_width": null,
      "object_fit": null,
      "object_position": null,
      "order": null,
      "overflow": null,
      "overflow_x": null,
      "overflow_y": null,
      "padding": null,
      "right": null,
      "top": null,
      "visibility": null,
      "width": null
     }
    },
    "13ce550f387946c69a75803e9fd20647": {
     "model_module": "@jupyter-widgets/controls",
     "model_module_version": "1.5.0",
     "model_name": "ToggleButtonsModel",
     "state": {
      "_dom_classes": [],
      "_model_module": "@jupyter-widgets/controls",
      "_model_module_version": "1.5.0",
      "_model_name": "ToggleButtonsModel",
      "_options_labels": [
       "True",
       "False"
      ],
      "_view_count": null,
      "_view_module": "@jupyter-widgets/controls",
      "_view_module_version": "1.5.0",
      "_view_name": "ToggleButtonsView",
      "button_style": "",
      "description": "qC:",
      "description_tooltip": null,
      "disabled": true,
      "icons": [],
      "index": 0,
      "layout": "IPY_MODEL_517a820658a64d0691687ab56a0d63d1",
      "style": "IPY_MODEL_2b63962cdd984b2d95e2fb5495b6bb20",
      "tooltips": []
     }
    },
    "141c2155da2f4e18ade10ef6809d95f1": {
     "model_module": "@jupyter-widgets/controls",
     "model_module_version": "1.5.0",
     "model_name": "HTMLModel",
     "state": {
      "_dom_classes": [],
      "_model_module": "@jupyter-widgets/controls",
      "_model_module_version": "1.5.0",
      "_model_name": "HTMLModel",
      "_view_count": null,
      "_view_module": "@jupyter-widgets/controls",
      "_view_module_version": "1.5.0",
      "_view_name": "HTMLView",
      "description": "",
      "description_tooltip": null,
      "layout": "IPY_MODEL_49bdca28c25a48eaa6e43a605d76902d",
      "placeholder": "​",
      "style": "IPY_MODEL_8162a9bbd9004a8c859928ade1fb83cc",
      "value": "100%"
     }
    },
    "14345e1d1bcf45eeaec880e2a1d7ed2a": {
     "model_module": "@jupyter-widgets/controls",
     "model_module_version": "1.5.0",
     "model_name": "ToggleButtonsModel",
     "state": {
      "_dom_classes": [],
      "_model_module": "@jupyter-widgets/controls",
      "_model_module_version": "1.5.0",
      "_model_name": "ToggleButtonsModel",
      "_options_labels": [
       "1.5",
       "1",
       "0.5",
       "0"
      ],
      "_view_count": null,
      "_view_module": "@jupyter-widgets/controls",
      "_view_module_version": "1.5.0",
      "_view_name": "ToggleButtonsView",
      "button_style": "",
      "description": "ERB_step:",
      "description_tooltip": null,
      "disabled": false,
      "icons": [],
      "index": 2,
      "layout": "IPY_MODEL_6bfe97b85ecc4dc19682d67f8c522ff3",
      "style": "IPY_MODEL_ec20286e3aa44061a38db4be021f2277",
      "tooltips": []
     }
    },
    "1c42c5445f354553b754f6489adbe2ca": {
     "model_module": "@jupyter-widgets/base",
     "model_module_version": "1.2.0",
     "model_name": "LayoutModel",
     "state": {
      "_model_module": "@jupyter-widgets/base",
      "_model_module_version": "1.2.0",
      "_model_name": "LayoutModel",
      "_view_count": null,
      "_view_module": "@jupyter-widgets/base",
      "_view_module_version": "1.2.0",
      "_view_name": "LayoutView",
      "align_content": null,
      "align_items": null,
      "align_self": null,
      "border": null,
      "bottom": null,
      "display": null,
      "flex": null,
      "flex_flow": null,
      "grid_area": null,
      "grid_auto_columns": null,
      "grid_auto_flow": null,
      "grid_auto_rows": null,
      "grid_column": null,
      "grid_gap": null,
      "grid_row": null,
      "grid_template_areas": null,
      "grid_template_columns": null,
      "grid_template_rows": null,
      "height": null,
      "justify_content": null,
      "justify_items": null,
      "left": null,
      "margin": null,
      "max_height": null,
      "max_width": null,
      "min_height": null,
      "min_width": null,
      "object_fit": null,
      "object_position": null,
      "order": null,
      "overflow": null,
      "overflow_x": null,
      "overflow_y": null,
      "padding": null,
      "right": null,
      "top": null,
      "visibility": null,
      "width": null
     }
    },
    "1e0f1e9d34d84ed9be6ac663f72e29fa": {
     "model_module": "@jupyter-widgets/base",
     "model_module_version": "1.2.0",
     "model_name": "LayoutModel",
     "state": {
      "_model_module": "@jupyter-widgets/base",
      "_model_module_version": "1.2.0",
      "_model_name": "LayoutModel",
      "_view_count": null,
      "_view_module": "@jupyter-widgets/base",
      "_view_module_version": "1.2.0",
      "_view_name": "LayoutView",
      "align_content": null,
      "align_items": null,
      "align_self": null,
      "border": null,
      "bottom": null,
      "display": null,
      "flex": null,
      "flex_flow": null,
      "grid_area": null,
      "grid_auto_columns": null,
      "grid_auto_flow": null,
      "grid_auto_rows": null,
      "grid_column": null,
      "grid_gap": null,
      "grid_row": null,
      "grid_template_areas": null,
      "grid_template_columns": null,
      "grid_template_rows": null,
      "height": null,
      "justify_content": null,
      "justify_items": null,
      "left": null,
      "margin": null,
      "max_height": null,
      "max_width": null,
      "min_height": null,
      "min_width": null,
      "object_fit": null,
      "object_position": null,
      "order": null,
      "overflow": null,
      "overflow_x": null,
      "overflow_y": null,
      "padding": null,
      "right": null,
      "top": null,
      "visibility": null,
      "width": null
     }
    },
    "1f30242281604eb8a0d7d62a33b1734f": {
     "model_module": "@jupyter-widgets/controls",
     "model_module_version": "1.5.0",
     "model_name": "ToggleButtonsModel",
     "state": {
      "_dom_classes": [],
      "_model_module": "@jupyter-widgets/controls",
      "_model_module_version": "1.5.0",
      "_model_name": "ToggleButtonsModel",
      "_options_labels": [
       "100",
       "200",
       "400",
       "500",
       "1000"
      ],
      "_view_count": null,
      "_view_module": "@jupyter-widgets/controls",
      "_view_module_version": "1.5.0",
      "_view_name": "ToggleButtonsView",
      "button_style": "",
      "description": "fstep:",
      "description_tooltip": null,
      "disabled": false,
      "icons": [],
      "index": 0,
      "layout": "IPY_MODEL_bbcdc8e4eb76466b90e39e6b7bbeee0f",
      "style": "IPY_MODEL_be9483cb5b7349a88e4dba76d473c312",
      "tooltips": []
     }
    },
    "2063d4151e09425fb408873baa816995": {
     "model_module": "@jupyter-widgets/base",
     "model_module_version": "1.2.0",
     "model_name": "LayoutModel",
     "state": {
      "_model_module": "@jupyter-widgets/base",
      "_model_module_version": "1.2.0",
      "_model_name": "LayoutModel",
      "_view_count": null,
      "_view_module": "@jupyter-widgets/base",
      "_view_module_version": "1.2.0",
      "_view_name": "LayoutView",
      "align_content": null,
      "align_items": null,
      "align_self": null,
      "border": null,
      "bottom": null,
      "display": null,
      "flex": null,
      "flex_flow": null,
      "grid_area": null,
      "grid_auto_columns": null,
      "grid_auto_flow": null,
      "grid_auto_rows": null,
      "grid_column": null,
      "grid_gap": null,
      "grid_row": null,
      "grid_template_areas": null,
      "grid_template_columns": null,
      "grid_template_rows": null,
      "height": null,
      "justify_content": null,
      "justify_items": null,
      "left": null,
      "margin": null,
      "max_height": null,
      "max_width": null,
      "min_height": null,
      "min_width": null,
      "object_fit": null,
      "object_position": null,
      "order": null,
      "overflow": null,
      "overflow_x": null,
      "overflow_y": null,
      "padding": null,
      "right": null,
      "top": null,
      "visibility": null,
      "width": null
     }
    },
    "25b853c35b9844e69546f76feabced10": {
     "model_module": "@jupyter-widgets/controls",
     "model_module_version": "1.5.0",
     "model_name": "ToggleButtonsModel",
     "state": {
      "_dom_classes": [],
      "_model_module": "@jupyter-widgets/controls",
      "_model_module_version": "1.5.0",
      "_model_name": "ToggleButtonsModel",
      "_options_labels": [
       "100",
       "200",
       "400",
       "500",
       "1000"
      ],
      "_view_count": null,
      "_view_module": "@jupyter-widgets/controls",
      "_view_module_version": "1.5.0",
      "_view_name": "ToggleButtonsView",
      "button_style": "",
      "description": "fstep:",
      "description_tooltip": null,
      "disabled": false,
      "icons": [],
      "index": 1,
      "layout": "IPY_MODEL_2063d4151e09425fb408873baa816995",
      "style": "IPY_MODEL_d9656974b90d499b8e10f01f7ba6c155",
      "tooltips": []
     }
    },
    "2b63962cdd984b2d95e2fb5495b6bb20": {
     "model_module": "@jupyter-widgets/controls",
     "model_module_version": "1.5.0",
     "model_name": "ToggleButtonsStyleModel",
     "state": {
      "_model_module": "@jupyter-widgets/controls",
      "_model_module_version": "1.5.0",
      "_model_name": "ToggleButtonsStyleModel",
      "_view_count": null,
      "_view_module": "@jupyter-widgets/base",
      "_view_module_version": "1.2.0",
      "_view_name": "StyleView",
      "button_width": "",
      "description_width": "",
      "font_weight": ""
     }
    },
    "2fe5334e9e284382843c8dee43282475": {
     "model_module": "@jupyter-widgets/controls",
     "model_module_version": "1.5.0",
     "model_name": "VBoxModel",
     "state": {
      "_dom_classes": [],
      "_model_module": "@jupyter-widgets/controls",
      "_model_module_version": "1.5.0",
      "_model_name": "VBoxModel",
      "_view_count": null,
      "_view_module": "@jupyter-widgets/controls",
      "_view_module_version": "1.5.0",
      "_view_name": "VBoxView",
      "box_style": "",
      "children": [
       "IPY_MODEL_8778255463f24ab2a0181b3e2028acd4",
       "IPY_MODEL_13ce550f387946c69a75803e9fd20647",
       "IPY_MODEL_14345e1d1bcf45eeaec880e2a1d7ed2a",
       "IPY_MODEL_1f30242281604eb8a0d7d62a33b1734f",
       "IPY_MODEL_ddcc3494a79945349538a68e7f531b52"
      ],
      "layout": "IPY_MODEL_1e0f1e9d34d84ed9be6ac663f72e29fa"
     }
    },
    "42fffe7f02f94a0f8e92e008b2a40ac4": {
     "model_module": "@jupyter-widgets/controls",
     "model_module_version": "1.5.0",
     "model_name": "ToggleButtonsStyleModel",
     "state": {
      "_model_module": "@jupyter-widgets/controls",
      "_model_module_version": "1.5.0",
      "_model_name": "ToggleButtonsStyleModel",
      "_view_count": null,
      "_view_module": "@jupyter-widgets/base",
      "_view_module_version": "1.2.0",
      "_view_name": "StyleView",
      "button_width": "",
      "description_width": "",
      "font_weight": ""
     }
    },
    "44b66d0be83b4600b3843418ec1ba35e": {
     "model_module": "@jupyter-widgets/controls",
     "model_module_version": "1.5.0",
     "model_name": "ToggleButtonsStyleModel",
     "state": {
      "_model_module": "@jupyter-widgets/controls",
      "_model_module_version": "1.5.0",
      "_model_name": "ToggleButtonsStyleModel",
      "_view_count": null,
      "_view_module": "@jupyter-widgets/base",
      "_view_module_version": "1.2.0",
      "_view_name": "StyleView",
      "button_width": "",
      "description_width": "",
      "font_weight": ""
     }
    },
    "450788c1082f4a6d96e10731c288def3": {
     "model_module": "@jupyter-widgets/controls",
     "model_module_version": "1.5.0",
     "model_name": "ToggleButtonsStyleModel",
     "state": {
      "_model_module": "@jupyter-widgets/controls",
      "_model_module_version": "1.5.0",
      "_model_name": "ToggleButtonsStyleModel",
      "_view_count": null,
      "_view_module": "@jupyter-widgets/base",
      "_view_module_version": "1.2.0",
      "_view_name": "StyleView",
      "button_width": "",
      "description_width": "",
      "font_weight": ""
     }
    },
    "48d349a4bba843079728ca74fc1d54bb": {
     "model_module": "@jupyter-widgets/controls",
     "model_module_version": "1.5.0",
     "model_name": "DescriptionStyleModel",
     "state": {
      "_model_module": "@jupyter-widgets/controls",
      "_model_module_version": "1.5.0",
      "_model_name": "DescriptionStyleModel",
      "_view_count": null,
      "_view_module": "@jupyter-widgets/base",
      "_view_module_version": "1.2.0",
      "_view_name": "StyleView",
      "description_width": ""
     }
    },
    "49bdca28c25a48eaa6e43a605d76902d": {
     "model_module": "@jupyter-widgets/base",
     "model_module_version": "1.2.0",
     "model_name": "LayoutModel",
     "state": {
      "_model_module": "@jupyter-widgets/base",
      "_model_module_version": "1.2.0",
      "_model_name": "LayoutModel",
      "_view_count": null,
      "_view_module": "@jupyter-widgets/base",
      "_view_module_version": "1.2.0",
      "_view_name": "LayoutView",
      "align_content": null,
      "align_items": null,
      "align_self": null,
      "border": null,
      "bottom": null,
      "display": null,
      "flex": null,
      "flex_flow": null,
      "grid_area": null,
      "grid_auto_columns": null,
      "grid_auto_flow": null,
      "grid_auto_rows": null,
      "grid_column": null,
      "grid_gap": null,
      "grid_row": null,
      "grid_template_areas": null,
      "grid_template_columns": null,
      "grid_template_rows": null,
      "height": null,
      "justify_content": null,
      "justify_items": null,
      "left": null,
      "margin": null,
      "max_height": null,
      "max_width": null,
      "min_height": null,
      "min_width": null,
      "object_fit": null,
      "object_position": null,
      "order": null,
      "overflow": null,
      "overflow_x": null,
      "overflow_y": null,
      "padding": null,
      "right": null,
      "top": null,
      "visibility": null,
      "width": null
     }
    },
    "4ba0ab2232664ced9f138dafefd6c0a1": {
     "model_module": "@jupyter-widgets/base",
     "model_module_version": "1.2.0",
     "model_name": "LayoutModel",
     "state": {
      "_model_module": "@jupyter-widgets/base",
      "_model_module_version": "1.2.0",
      "_model_name": "LayoutModel",
      "_view_count": null,
      "_view_module": "@jupyter-widgets/base",
      "_view_module_version": "1.2.0",
      "_view_name": "LayoutView",
      "align_content": null,
      "align_items": null,
      "align_self": null,
      "border": null,
      "bottom": null,
      "display": null,
      "flex": null,
      "flex_flow": null,
      "grid_area": null,
      "grid_auto_columns": null,
      "grid_auto_flow": null,
      "grid_auto_rows": null,
      "grid_column": null,
      "grid_gap": null,
      "grid_row": null,
      "grid_template_areas": null,
      "grid_template_columns": null,
      "grid_template_rows": null,
      "height": null,
      "justify_content": null,
      "justify_items": null,
      "left": null,
      "margin": null,
      "max_height": null,
      "max_width": null,
      "min_height": null,
      "min_width": null,
      "object_fit": null,
      "object_position": null,
      "order": null,
      "overflow": null,
      "overflow_x": null,
      "overflow_y": null,
      "padding": null,
      "right": null,
      "top": null,
      "visibility": null,
      "width": null
     }
    },
    "4bce6f68a0ad4646a149881648d93b25": {
     "model_module": "@jupyter-widgets/controls",
     "model_module_version": "1.5.0",
     "model_name": "ToggleButtonsModel",
     "state": {
      "_dom_classes": [],
      "_model_module": "@jupyter-widgets/controls",
      "_model_module_version": "1.5.0",
      "_model_name": "ToggleButtonsModel",
      "_options_labels": [
       "1.5",
       "1",
       "0.5",
       "0"
      ],
      "_view_count": null,
      "_view_module": "@jupyter-widgets/controls",
      "_view_module_version": "1.5.0",
      "_view_name": "ToggleButtonsView",
      "button_style": "",
      "description": "ERB_step:",
      "description_tooltip": null,
      "disabled": false,
      "icons": [],
      "index": 2,
      "layout": "IPY_MODEL_dfc46360e68b4f6bbfda27d800eb6cad",
      "style": "IPY_MODEL_8e8d64c45cdc443fb11b44749d5c7b04",
      "tooltips": []
     }
    },
    "517a820658a64d0691687ab56a0d63d1": {
     "model_module": "@jupyter-widgets/base",
     "model_module_version": "1.2.0",
     "model_name": "LayoutModel",
     "state": {
      "_model_module": "@jupyter-widgets/base",
      "_model_module_version": "1.2.0",
      "_model_name": "LayoutModel",
      "_view_count": null,
      "_view_module": "@jupyter-widgets/base",
      "_view_module_version": "1.2.0",
      "_view_name": "LayoutView",
      "align_content": null,
      "align_items": null,
      "align_self": null,
      "border": null,
      "bottom": null,
      "display": null,
      "flex": null,
      "flex_flow": null,
      "grid_area": null,
      "grid_auto_columns": null,
      "grid_auto_flow": null,
      "grid_auto_rows": null,
      "grid_column": null,
      "grid_gap": null,
      "grid_row": null,
      "grid_template_areas": null,
      "grid_template_columns": null,
      "grid_template_rows": null,
      "height": null,
      "justify_content": null,
      "justify_items": null,
      "left": null,
      "margin": null,
      "max_height": null,
      "max_width": null,
      "min_height": null,
      "min_width": null,
      "object_fit": null,
      "object_position": null,
      "order": null,
      "overflow": null,
      "overflow_x": null,
      "overflow_y": null,
      "padding": null,
      "right": null,
      "top": null,
      "visibility": null,
      "width": null
     }
    },
    "59342e6d6a00469eb7a6594fa8a0a430": {
     "model_module": "@jupyter-widgets/controls",
     "model_module_version": "1.5.0",
     "model_name": "VBoxModel",
     "state": {
      "_dom_classes": [],
      "_model_module": "@jupyter-widgets/controls",
      "_model_module_version": "1.5.0",
      "_model_name": "VBoxModel",
      "_view_count": null,
      "_view_module": "@jupyter-widgets/controls",
      "_view_module_version": "1.5.0",
      "_view_name": "VBoxView",
      "box_style": "",
      "children": [
       "IPY_MODEL_5990521ad54447dfbf43fc982a3be152",
       "IPY_MODEL_b6ad77b567fb45f5bd8e2d0d15f2b521",
       "IPY_MODEL_4bce6f68a0ad4646a149881648d93b25",
       "IPY_MODEL_25b853c35b9844e69546f76feabced10",
       "IPY_MODEL_61e5850228b04f88a943ca5cb16a3141",
       "IPY_MODEL_6efb87355629482f92eeb49ba5f59106"
      ],
      "layout": "IPY_MODEL_883d766984ce48288fa2e62ecaebdb03"
     }
    },
    "5990521ad54447dfbf43fc982a3be152": {
     "model_module": "@jupyter-widgets/controls",
     "model_module_version": "1.5.0",
     "model_name": "ToggleButtonsModel",
     "state": {
      "_dom_classes": [],
      "_model_module": "@jupyter-widgets/controls",
      "_model_module_version": "1.5.0",
      "_model_name": "ToggleButtonsModel",
      "_options_labels": [
       "car",
       "car_ihc",
       "car_ihc_li"
      ],
      "_view_count": null,
      "_view_module": "@jupyter-widgets/controls",
      "_view_module_version": "1.5.0",
      "_view_name": "ToggleButtonsView",
      "button_style": "",
      "description": "Model:",
      "description_tooltip": null,
      "disabled": true,
      "icons": [],
      "index": 0,
      "layout": "IPY_MODEL_e8b80c76a36b477784fb5266024ae3b5",
      "style": "IPY_MODEL_44b66d0be83b4600b3843418ec1ba35e",
      "tooltips": []
     }
    },
    "5cf26ae9525e4e9e9a4cb680183a53cc": {
     "model_module": "@jupyter-widgets/base",
     "model_module_version": "1.2.0",
     "model_name": "LayoutModel",
     "state": {
      "_model_module": "@jupyter-widgets/base",
      "_model_module_version": "1.2.0",
      "_model_name": "LayoutModel",
      "_view_count": null,
      "_view_module": "@jupyter-widgets/base",
      "_view_module_version": "1.2.0",
      "_view_name": "LayoutView",
      "align_content": null,
      "align_items": null,
      "align_self": null,
      "border": null,
      "bottom": null,
      "display": null,
      "flex": null,
      "flex_flow": null,
      "grid_area": null,
      "grid_auto_columns": null,
      "grid_auto_flow": null,
      "grid_auto_rows": null,
      "grid_column": null,
      "grid_gap": null,
      "grid_row": null,
      "grid_template_areas": null,
      "grid_template_columns": null,
      "grid_template_rows": null,
      "height": null,
      "justify_content": null,
      "justify_items": null,
      "left": null,
      "margin": null,
      "max_height": null,
      "max_width": null,
      "min_height": null,
      "min_width": null,
      "object_fit": null,
      "object_position": null,
      "order": null,
      "overflow": null,
      "overflow_x": null,
      "overflow_y": null,
      "padding": null,
      "right": null,
      "top": null,
      "visibility": null,
      "width": null
     }
    },
    "5eb669781bc54eec90d5067c8b143a90": {
     "model_module": "@jupyter-widgets/controls",
     "model_module_version": "1.5.0",
     "model_name": "ToggleButtonsStyleModel",
     "state": {
      "_model_module": "@jupyter-widgets/controls",
      "_model_module_version": "1.5.0",
      "_model_name": "ToggleButtonsStyleModel",
      "_view_count": null,
      "_view_module": "@jupyter-widgets/base",
      "_view_module_version": "1.2.0",
      "_view_name": "StyleView",
      "button_width": "",
      "description_width": "",
      "font_weight": ""
     }
    },
    "60513272030c4352a611f6207514a173": {
     "model_module": "@jupyter-widgets/controls",
     "model_module_version": "1.5.0",
     "model_name": "DescriptionStyleModel",
     "state": {
      "_model_module": "@jupyter-widgets/controls",
      "_model_module_version": "1.5.0",
      "_model_name": "DescriptionStyleModel",
      "_view_count": null,
      "_view_module": "@jupyter-widgets/base",
      "_view_module_version": "1.2.0",
      "_view_name": "StyleView",
      "description_width": ""
     }
    },
    "61e5850228b04f88a943ca5cb16a3141": {
     "model_module": "@jupyter-widgets/controls",
     "model_module_version": "1.5.0",
     "model_name": "ToggleButtonsModel",
     "state": {
      "_dom_classes": [],
      "_model_module": "@jupyter-widgets/controls",
      "_model_module_version": "1.5.0",
      "_model_name": "ToggleButtonsModel",
      "_options_labels": [
       "1",
       "2",
       "4",
       "5",
       "8",
       "10",
       "25",
       "50",
       "75",
       "90",
       "100",
       "120"
      ],
      "_view_count": null,
      "_view_module": "@jupyter-widgets/controls",
      "_view_module_version": "1.5.0",
      "_view_name": "ToggleButtonsView",
      "button_style": "",
      "description": "mDur[ms]:",
      "description_tooltip": null,
      "disabled": false,
      "icons": [],
      "index": 5,
      "layout": "IPY_MODEL_0977c38aff6d47acaf79282018c23777",
      "style": "IPY_MODEL_927bfc57031e49b2b0981f6322656810",
      "tooltips": []
     }
    },
    "634dba3298f14319b6c5906dff04d523": {
     "model_module": "@jupyter-widgets/controls",
     "model_module_version": "1.5.0",
     "model_name": "ToggleButtonsStyleModel",
     "state": {
      "_model_module": "@jupyter-widgets/controls",
      "_model_module_version": "1.5.0",
      "_model_name": "ToggleButtonsStyleModel",
      "_view_count": null,
      "_view_module": "@jupyter-widgets/base",
      "_view_module_version": "1.2.0",
      "_view_name": "StyleView",
      "button_width": "",
      "description_width": "",
      "font_weight": ""
     }
    },
    "65a8fb14f3b849f79ff94089ae2ee957": {
     "model_module": "@jupyter-widgets/base",
     "model_module_version": "1.2.0",
     "model_name": "LayoutModel",
     "state": {
      "_model_module": "@jupyter-widgets/base",
      "_model_module_version": "1.2.0",
      "_model_name": "LayoutModel",
      "_view_count": null,
      "_view_module": "@jupyter-widgets/base",
      "_view_module_version": "1.2.0",
      "_view_name": "LayoutView",
      "align_content": null,
      "align_items": null,
      "align_self": null,
      "border": null,
      "bottom": null,
      "display": null,
      "flex": null,
      "flex_flow": null,
      "grid_area": null,
      "grid_auto_columns": null,
      "grid_auto_flow": null,
      "grid_auto_rows": null,
      "grid_column": null,
      "grid_gap": null,
      "grid_row": null,
      "grid_template_areas": null,
      "grid_template_columns": null,
      "grid_template_rows": null,
      "height": null,
      "justify_content": null,
      "justify_items": null,
      "left": null,
      "margin": null,
      "max_height": null,
      "max_width": null,
      "min_height": null,
      "min_width": null,
      "object_fit": null,
      "object_position": null,
      "order": null,
      "overflow": null,
      "overflow_x": null,
      "overflow_y": null,
      "padding": null,
      "right": null,
      "top": null,
      "visibility": null,
      "width": null
     }
    },
    "6bfe97b85ecc4dc19682d67f8c522ff3": {
     "model_module": "@jupyter-widgets/base",
     "model_module_version": "1.2.0",
     "model_name": "LayoutModel",
     "state": {
      "_model_module": "@jupyter-widgets/base",
      "_model_module_version": "1.2.0",
      "_model_name": "LayoutModel",
      "_view_count": null,
      "_view_module": "@jupyter-widgets/base",
      "_view_module_version": "1.2.0",
      "_view_name": "LayoutView",
      "align_content": null,
      "align_items": null,
      "align_self": null,
      "border": null,
      "bottom": null,
      "display": null,
      "flex": null,
      "flex_flow": null,
      "grid_area": null,
      "grid_auto_columns": null,
      "grid_auto_flow": null,
      "grid_auto_rows": null,
      "grid_column": null,
      "grid_gap": null,
      "grid_row": null,
      "grid_template_areas": null,
      "grid_template_columns": null,
      "grid_template_rows": null,
      "height": null,
      "justify_content": null,
      "justify_items": null,
      "left": null,
      "margin": null,
      "max_height": null,
      "max_width": null,
      "min_height": null,
      "min_width": null,
      "object_fit": null,
      "object_position": null,
      "order": null,
      "overflow": null,
      "overflow_x": null,
      "overflow_y": null,
      "padding": null,
      "right": null,
      "top": null,
      "visibility": null,
      "width": null
     }
    },
    "6efb87355629482f92eeb49ba5f59106": {
     "model_module": "@jupyter-widgets/controls",
     "model_module_version": "1.5.0",
     "model_name": "ToggleButtonsModel",
     "state": {
      "_dom_classes": [],
      "_model_module": "@jupyter-widgets/controls",
      "_model_module_version": "1.5.0",
      "_model_name": "ToggleButtonsModel",
      "_options_labels": [
       "0.1",
       "0.2",
       "0.3",
       "0.4",
       "0.5"
      ],
      "_view_count": null,
      "_view_module": "@jupyter-widgets/controls",
      "_view_module_version": "1.5.0",
      "_view_name": "ToggleButtonsView",
      "button_style": "",
      "description": "rec_factor:",
      "description_tooltip": null,
      "disabled": false,
      "icons": [],
      "index": 1,
      "layout": "IPY_MODEL_b5b494928a7b49a19c5a42aa7a8d194f",
      "style": "IPY_MODEL_450788c1082f4a6d96e10731c288def3",
      "tooltips": []
     }
    },
    "76b0906d0a214c1aa5332d1fa469fefd": {
     "model_module": "@jupyter-widgets/controls",
     "model_module_version": "1.5.0",
     "model_name": "VBoxModel",
     "state": {
      "_dom_classes": [
       "widget-interact"
      ],
      "_model_module": "@jupyter-widgets/controls",
      "_model_module_version": "1.5.0",
      "_model_name": "VBoxModel",
      "_view_count": null,
      "_view_module": "@jupyter-widgets/controls",
      "_view_module_version": "1.5.0",
      "_view_name": "VBoxView",
      "box_style": "",
      "children": [
       "IPY_MODEL_a175591b354f40068869a95c8376227f",
       "IPY_MODEL_0756e5cd31d14070b13ee088477e65ee"
      ],
      "layout": "IPY_MODEL_0a29351982f24018858aadfa9f45da86"
     }
    },
    "7be80a2040b54e9f8f6bb2d6c1ae0e16": {
     "model_module": "@jupyter-widgets/base",
     "model_module_version": "1.2.0",
     "model_name": "LayoutModel",
     "state": {
      "_model_module": "@jupyter-widgets/base",
      "_model_module_version": "1.2.0",
      "_model_name": "LayoutModel",
      "_view_count": null,
      "_view_module": "@jupyter-widgets/base",
      "_view_module_version": "1.2.0",
      "_view_name": "LayoutView",
      "align_content": null,
      "align_items": null,
      "align_self": null,
      "border": null,
      "bottom": null,
      "display": null,
      "flex": null,
      "flex_flow": null,
      "grid_area": null,
      "grid_auto_columns": null,
      "grid_auto_flow": null,
      "grid_auto_rows": null,
      "grid_column": null,
      "grid_gap": null,
      "grid_row": null,
      "grid_template_areas": null,
      "grid_template_columns": null,
      "grid_template_rows": null,
      "height": null,
      "justify_content": null,
      "justify_items": null,
      "left": null,
      "margin": null,
      "max_height": null,
      "max_width": null,
      "min_height": null,
      "min_width": null,
      "object_fit": null,
      "object_position": null,
      "order": null,
      "overflow": null,
      "overflow_x": null,
      "overflow_y": null,
      "padding": null,
      "right": null,
      "top": null,
      "visibility": null,
      "width": null
     }
    },
    "8162a9bbd9004a8c859928ade1fb83cc": {
     "model_module": "@jupyter-widgets/controls",
     "model_module_version": "1.5.0",
     "model_name": "DescriptionStyleModel",
     "state": {
      "_model_module": "@jupyter-widgets/controls",
      "_model_module_version": "1.5.0",
      "_model_name": "DescriptionStyleModel",
      "_view_count": null,
      "_view_module": "@jupyter-widgets/base",
      "_view_module_version": "1.2.0",
      "_view_name": "StyleView",
      "description_width": ""
     }
    },
    "857c48ee6b2f440196a39d1dda76079f": {
     "model_module": "@jupyter-widgets/controls",
     "model_module_version": "1.5.0",
     "model_name": "ToggleButtonsStyleModel",
     "state": {
      "_model_module": "@jupyter-widgets/controls",
      "_model_module_version": "1.5.0",
      "_model_name": "ToggleButtonsStyleModel",
      "_view_count": null,
      "_view_module": "@jupyter-widgets/base",
      "_view_module_version": "1.2.0",
      "_view_name": "StyleView",
      "button_width": "",
      "description_width": "",
      "font_weight": ""
     }
    },
    "8778255463f24ab2a0181b3e2028acd4": {
     "model_module": "@jupyter-widgets/controls",
     "model_module_version": "1.5.0",
     "model_name": "ToggleButtonsModel",
     "state": {
      "_dom_classes": [],
      "_model_module": "@jupyter-widgets/controls",
      "_model_module_version": "1.5.0",
      "_model_name": "ToggleButtonsModel",
      "_options_labels": [
       "car",
       "car_ihc",
       "car_ihc_li"
      ],
      "_view_count": null,
      "_view_module": "@jupyter-widgets/controls",
      "_view_module_version": "1.5.0",
      "_view_name": "ToggleButtonsView",
      "button_style": "",
      "description": "Model:",
      "description_tooltip": null,
      "disabled": true,
      "icons": [],
      "index": 0,
      "layout": "IPY_MODEL_bcaf4334666a4613b7d200347c111da6",
      "style": "IPY_MODEL_634dba3298f14319b6c5906dff04d523",
      "tooltips": []
     }
    },
    "883d766984ce48288fa2e62ecaebdb03": {
     "model_module": "@jupyter-widgets/base",
     "model_module_version": "1.2.0",
     "model_name": "LayoutModel",
     "state": {
      "_model_module": "@jupyter-widgets/base",
      "_model_module_version": "1.2.0",
      "_model_name": "LayoutModel",
      "_view_count": null,
      "_view_module": "@jupyter-widgets/base",
      "_view_module_version": "1.2.0",
      "_view_name": "LayoutView",
      "align_content": null,
      "align_items": null,
      "align_self": null,
      "border": null,
      "bottom": null,
      "display": null,
      "flex": null,
      "flex_flow": null,
      "grid_area": null,
      "grid_auto_columns": null,
      "grid_auto_flow": null,
      "grid_auto_rows": null,
      "grid_column": null,
      "grid_gap": null,
      "grid_row": null,
      "grid_template_areas": null,
      "grid_template_columns": null,
      "grid_template_rows": null,
      "height": null,
      "justify_content": null,
      "justify_items": null,
      "left": null,
      "margin": null,
      "max_height": null,
      "max_width": null,
      "min_height": null,
      "min_width": null,
      "object_fit": null,
      "object_position": null,
      "order": null,
      "overflow": null,
      "overflow_x": null,
      "overflow_y": null,
      "padding": null,
      "right": null,
      "top": null,
      "visibility": null,
      "width": null
     }
    },
    "8e8d64c45cdc443fb11b44749d5c7b04": {
     "model_module": "@jupyter-widgets/controls",
     "model_module_version": "1.5.0",
     "model_name": "ToggleButtonsStyleModel",
     "state": {
      "_model_module": "@jupyter-widgets/controls",
      "_model_module_version": "1.5.0",
      "_model_name": "ToggleButtonsStyleModel",
      "_view_count": null,
      "_view_module": "@jupyter-widgets/base",
      "_view_module_version": "1.2.0",
      "_view_name": "StyleView",
      "button_width": "",
      "description_width": "",
      "font_weight": ""
     }
    },
    "927bfc57031e49b2b0981f6322656810": {
     "model_module": "@jupyter-widgets/controls",
     "model_module_version": "1.5.0",
     "model_name": "ToggleButtonsStyleModel",
     "state": {
      "_model_module": "@jupyter-widgets/controls",
      "_model_module_version": "1.5.0",
      "_model_name": "ToggleButtonsStyleModel",
      "_view_count": null,
      "_view_module": "@jupyter-widgets/base",
      "_view_module_version": "1.2.0",
      "_view_name": "StyleView",
      "button_width": "",
      "description_width": "",
      "font_weight": ""
     }
    },
    "950db1e58baa415f9ea74a169371aa48": {
     "model_module": "@jupyter-widgets/controls",
     "model_module_version": "1.5.0",
     "model_name": "DescriptionStyleModel",
     "state": {
      "_model_module": "@jupyter-widgets/controls",
      "_model_module_version": "1.5.0",
      "_model_name": "DescriptionStyleModel",
      "_view_count": null,
      "_view_module": "@jupyter-widgets/base",
      "_view_module_version": "1.2.0",
      "_view_name": "StyleView",
      "description_width": ""
     }
    },
    "97944f7af5f04cc896210b8b2f1d932f": {
     "model_module": "@jupyter-widgets/output",
     "model_module_version": "1.0.0",
     "model_name": "OutputModel",
     "state": {
      "_dom_classes": [],
      "_model_module": "@jupyter-widgets/output",
      "_model_module_version": "1.0.0",
      "_model_name": "OutputModel",
      "_view_count": null,
      "_view_module": "@jupyter-widgets/output",
      "_view_module_version": "1.0.0",
      "_view_name": "OutputView",
      "layout": "IPY_MODEL_f9b6cdff0dff4534b51e8a3deb36cb90",
      "msg_id": "",
      "outputs": [
       {
        "data": {
         "image/png": "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\n",
         "text/plain": "<Figure size 864x864 with 9 Axes>"
        },
        "metadata": {
         "needs_background": "light"
        },
        "output_type": "display_data"
       }
      ]
     }
    },
    "9c229cc98b5b44a6b568a55ca5f6b85f": {
     "model_module": "@jupyter-widgets/controls",
     "model_module_version": "1.5.0",
     "model_name": "ToggleButtonsModel",
     "state": {
      "_dom_classes": [],
      "_model_module": "@jupyter-widgets/controls",
      "_model_module_version": "1.5.0",
      "_model_name": "ToggleButtonsModel",
      "_options_labels": [
       "0.1",
       "0.2",
       "0.3",
       "0.4",
       "0.5"
      ],
      "_view_count": null,
      "_view_module": "@jupyter-widgets/controls",
      "_view_module_version": "1.5.0",
      "_view_name": "ToggleButtonsView",
      "button_style": "",
      "description": "rec_factor:",
      "description_tooltip": null,
      "disabled": false,
      "icons": [],
      "index": 1,
      "layout": "IPY_MODEL_f359df15c10f42e0bc25dae8e0003d50",
      "style": "IPY_MODEL_857c48ee6b2f440196a39d1dda76079f",
      "tooltips": []
     }
    },
    "a175591b354f40068869a95c8376227f": {
     "model_module": "@jupyter-widgets/controls",
     "model_module_version": "1.5.0",
     "model_name": "IntTextModel",
     "state": {
      "_dom_classes": [],
      "_model_module": "@jupyter-widgets/controls",
      "_model_module_version": "1.5.0",
      "_model_name": "IntTextModel",
      "_view_count": null,
      "_view_module": "@jupyter-widgets/controls",
      "_view_module_version": "1.5.0",
      "_view_name": "IntTextView",
      "continuous_update": false,
      "description": "Frame:",
      "description_tooltip": null,
      "disabled": false,
      "layout": "IPY_MODEL_0fb62baf904c4af59651eb4c929edfb6",
      "step": 1,
      "style": "IPY_MODEL_950db1e58baa415f9ea74a169371aa48",
      "value": 6
     }
    },
    "a18718dfdaa441d2bcdb179adce45893": {
     "model_module": "@jupyter-widgets/controls",
     "model_module_version": "1.5.0",
     "model_name": "FloatProgressModel",
     "state": {
      "_dom_classes": [],
      "_model_module": "@jupyter-widgets/controls",
      "_model_module_version": "1.5.0",
      "_model_name": "FloatProgressModel",
      "_view_count": null,
      "_view_module": "@jupyter-widgets/controls",
      "_view_module_version": "1.5.0",
      "_view_name": "ProgressView",
      "bar_style": "success",
      "description": "",
      "description_tooltip": null,
      "layout": "IPY_MODEL_65a8fb14f3b849f79ff94089ae2ee957",
      "max": 100,
      "min": 0,
      "orientation": "horizontal",
      "style": "IPY_MODEL_deab818d4f144c5faec8f3b08400c289",
      "value": 100
     }
    },
    "a43fc6777fa44ed0849f8a2f03ad7a7d": {
     "model_module": "@jupyter-widgets/controls",
     "model_module_version": "1.5.0",
     "model_name": "HTMLModel",
     "state": {
      "_dom_classes": [],
      "_model_module": "@jupyter-widgets/controls",
      "_model_module_version": "1.5.0",
      "_model_name": "HTMLModel",
      "_view_count": null,
      "_view_module": "@jupyter-widgets/controls",
      "_view_module_version": "1.5.0",
      "_view_name": "HTMLView",
      "description": "",
      "description_tooltip": null,
      "layout": "IPY_MODEL_5cf26ae9525e4e9e9a4cb680183a53cc",
      "placeholder": "​",
      "style": "IPY_MODEL_60513272030c4352a611f6207514a173",
      "value": " 100/100 [04:50&lt;00:00,  2.85s/epoch, loss=0.0133, accuracy=0.996, val_loss=0.00167, val_accuracy=1]"
     }
    },
    "a4fac458114648f48c4fcadf6dc73cf4": {
     "model_module": "@jupyter-widgets/base",
     "model_module_version": "1.2.0",
     "model_name": "LayoutModel",
     "state": {
      "_model_module": "@jupyter-widgets/base",
      "_model_module_version": "1.2.0",
      "_model_name": "LayoutModel",
      "_view_count": null,
      "_view_module": "@jupyter-widgets/base",
      "_view_module_version": "1.2.0",
      "_view_name": "LayoutView",
      "align_content": null,
      "align_items": null,
      "align_self": null,
      "border": null,
      "bottom": null,
      "display": null,
      "flex": null,
      "flex_flow": null,
      "grid_area": null,
      "grid_auto_columns": null,
      "grid_auto_flow": null,
      "grid_auto_rows": null,
      "grid_column": null,
      "grid_gap": null,
      "grid_row": null,
      "grid_template_areas": null,
      "grid_template_columns": null,
      "grid_template_rows": null,
      "height": null,
      "justify_content": null,
      "justify_items": null,
      "left": null,
      "margin": null,
      "max_height": null,
      "max_width": null,
      "min_height": null,
      "min_width": null,
      "object_fit": null,
      "object_position": null,
      "order": null,
      "overflow": null,
      "overflow_x": null,
      "overflow_y": null,
      "padding": null,
      "right": null,
      "top": null,
      "visibility": null,
      "width": null
     }
    },
    "b045f4ce51fe4caf9db7c45e26e4fb76": {
     "model_module": "@jupyter-widgets/controls",
     "model_module_version": "1.5.0",
     "model_name": "HBoxModel",
     "state": {
      "_dom_classes": [],
      "_model_module": "@jupyter-widgets/controls",
      "_model_module_version": "1.5.0",
      "_model_name": "HBoxModel",
      "_view_count": null,
      "_view_module": "@jupyter-widgets/controls",
      "_view_module_version": "1.5.0",
      "_view_name": "HBoxView",
      "box_style": "",
      "children": [
       "IPY_MODEL_141c2155da2f4e18ade10ef6809d95f1",
       "IPY_MODEL_a18718dfdaa441d2bcdb179adce45893",
       "IPY_MODEL_a43fc6777fa44ed0849f8a2f03ad7a7d"
      ],
      "layout": "IPY_MODEL_a4fac458114648f48c4fcadf6dc73cf4"
     }
    },
    "b5b494928a7b49a19c5a42aa7a8d194f": {
     "model_module": "@jupyter-widgets/base",
     "model_module_version": "1.2.0",
     "model_name": "LayoutModel",
     "state": {
      "_model_module": "@jupyter-widgets/base",
      "_model_module_version": "1.2.0",
      "_model_name": "LayoutModel",
      "_view_count": null,
      "_view_module": "@jupyter-widgets/base",
      "_view_module_version": "1.2.0",
      "_view_name": "LayoutView",
      "align_content": null,
      "align_items": null,
      "align_self": null,
      "border": null,
      "bottom": null,
      "display": null,
      "flex": null,
      "flex_flow": null,
      "grid_area": null,
      "grid_auto_columns": null,
      "grid_auto_flow": null,
      "grid_auto_rows": null,
      "grid_column": null,
      "grid_gap": null,
      "grid_row": null,
      "grid_template_areas": null,
      "grid_template_columns": null,
      "grid_template_rows": null,
      "height": null,
      "justify_content": null,
      "justify_items": null,
      "left": null,
      "margin": null,
      "max_height": null,
      "max_width": null,
      "min_height": null,
      "min_width": null,
      "object_fit": null,
      "object_position": null,
      "order": null,
      "overflow": null,
      "overflow_x": null,
      "overflow_y": null,
      "padding": null,
      "right": null,
      "top": null,
      "visibility": null,
      "width": null
     }
    },
    "b6ad77b567fb45f5bd8e2d0d15f2b521": {
     "model_module": "@jupyter-widgets/controls",
     "model_module_version": "1.5.0",
     "model_name": "ToggleButtonsModel",
     "state": {
      "_dom_classes": [],
      "_model_module": "@jupyter-widgets/controls",
      "_model_module_version": "1.5.0",
      "_model_name": "ToggleButtonsModel",
      "_options_labels": [
       "True",
       "False"
      ],
      "_view_count": null,
      "_view_module": "@jupyter-widgets/controls",
      "_view_module_version": "1.5.0",
      "_view_name": "ToggleButtonsView",
      "button_style": "",
      "description": "qC:",
      "description_tooltip": null,
      "disabled": true,
      "icons": [],
      "index": 0,
      "layout": "IPY_MODEL_e496e347d6e542e3aec2e2a74adea8f4",
      "style": "IPY_MODEL_42fffe7f02f94a0f8e92e008b2a40ac4",
      "tooltips": []
     }
    },
    "bbcdc8e4eb76466b90e39e6b7bbeee0f": {
     "model_module": "@jupyter-widgets/base",
     "model_module_version": "1.2.0",
     "model_name": "LayoutModel",
     "state": {
      "_model_module": "@jupyter-widgets/base",
      "_model_module_version": "1.2.0",
      "_model_name": "LayoutModel",
      "_view_count": null,
      "_view_module": "@jupyter-widgets/base",
      "_view_module_version": "1.2.0",
      "_view_name": "LayoutView",
      "align_content": null,
      "align_items": null,
      "align_self": null,
      "border": null,
      "bottom": null,
      "display": null,
      "flex": null,
      "flex_flow": null,
      "grid_area": null,
      "grid_auto_columns": null,
      "grid_auto_flow": null,
      "grid_auto_rows": null,
      "grid_column": null,
      "grid_gap": null,
      "grid_row": null,
      "grid_template_areas": null,
      "grid_template_columns": null,
      "grid_template_rows": null,
      "height": null,
      "justify_content": null,
      "justify_items": null,
      "left": null,
      "margin": null,
      "max_height": null,
      "max_width": null,
      "min_height": null,
      "min_width": null,
      "object_fit": null,
      "object_position": null,
      "order": null,
      "overflow": null,
      "overflow_x": null,
      "overflow_y": null,
      "padding": null,
      "right": null,
      "top": null,
      "visibility": null,
      "width": null
     }
    },
    "bcaf4334666a4613b7d200347c111da6": {
     "model_module": "@jupyter-widgets/base",
     "model_module_version": "1.2.0",
     "model_name": "LayoutModel",
     "state": {
      "_model_module": "@jupyter-widgets/base",
      "_model_module_version": "1.2.0",
      "_model_name": "LayoutModel",
      "_view_count": null,
      "_view_module": "@jupyter-widgets/base",
      "_view_module_version": "1.2.0",
      "_view_name": "LayoutView",
      "align_content": null,
      "align_items": null,
      "align_self": null,
      "border": null,
      "bottom": null,
      "display": null,
      "flex": null,
      "flex_flow": null,
      "grid_area": null,
      "grid_auto_columns": null,
      "grid_auto_flow": null,
      "grid_auto_rows": null,
      "grid_column": null,
      "grid_gap": null,
      "grid_row": null,
      "grid_template_areas": null,
      "grid_template_columns": null,
      "grid_template_rows": null,
      "height": null,
      "justify_content": null,
      "justify_items": null,
      "left": null,
      "margin": null,
      "max_height": null,
      "max_width": null,
      "min_height": null,
      "min_width": null,
      "object_fit": null,
      "object_position": null,
      "order": null,
      "overflow": null,
      "overflow_x": null,
      "overflow_y": null,
      "padding": null,
      "right": null,
      "top": null,
      "visibility": null,
      "width": null
     }
    },
    "be9483cb5b7349a88e4dba76d473c312": {
     "model_module": "@jupyter-widgets/controls",
     "model_module_version": "1.5.0",
     "model_name": "ToggleButtonsStyleModel",
     "state": {
      "_model_module": "@jupyter-widgets/controls",
      "_model_module_version": "1.5.0",
      "_model_name": "ToggleButtonsStyleModel",
      "_view_count": null,
      "_view_module": "@jupyter-widgets/base",
      "_view_module_version": "1.2.0",
      "_view_name": "StyleView",
      "button_width": "",
      "description_width": "",
      "font_weight": ""
     }
    },
    "d1bfea77588a4fe0b81f6b8c9f785101": {
     "model_module": "@jupyter-widgets/base",
     "model_module_version": "1.2.0",
     "model_name": "LayoutModel",
     "state": {
      "_model_module": "@jupyter-widgets/base",
      "_model_module_version": "1.2.0",
      "_model_name": "LayoutModel",
      "_view_count": null,
      "_view_module": "@jupyter-widgets/base",
      "_view_module_version": "1.2.0",
      "_view_name": "LayoutView",
      "align_content": null,
      "align_items": null,
      "align_self": null,
      "border": null,
      "bottom": null,
      "display": null,
      "flex": null,
      "flex_flow": null,
      "grid_area": null,
      "grid_auto_columns": null,
      "grid_auto_flow": null,
      "grid_auto_rows": null,
      "grid_column": null,
      "grid_gap": null,
      "grid_row": null,
      "grid_template_areas": null,
      "grid_template_columns": null,
      "grid_template_rows": null,
      "height": null,
      "justify_content": null,
      "justify_items": null,
      "left": null,
      "margin": null,
      "max_height": null,
      "max_width": null,
      "min_height": null,
      "min_width": null,
      "object_fit": null,
      "object_position": null,
      "order": null,
      "overflow": null,
      "overflow_x": null,
      "overflow_y": null,
      "padding": null,
      "right": null,
      "top": null,
      "visibility": null,
      "width": null
     }
    },
    "d9656974b90d499b8e10f01f7ba6c155": {
     "model_module": "@jupyter-widgets/controls",
     "model_module_version": "1.5.0",
     "model_name": "ToggleButtonsStyleModel",
     "state": {
      "_model_module": "@jupyter-widgets/controls",
      "_model_module_version": "1.5.0",
      "_model_name": "ToggleButtonsStyleModel",
      "_view_count": null,
      "_view_module": "@jupyter-widgets/base",
      "_view_module_version": "1.2.0",
      "_view_name": "StyleView",
      "button_width": "",
      "description_width": "",
      "font_weight": ""
     }
    },
    "d9999f1f28bb4cc291aa7d664f2cd15d": {
     "model_module": "@jupyter-widgets/controls",
     "model_module_version": "1.5.0",
     "model_name": "IntTextModel",
     "state": {
      "_dom_classes": [],
      "_model_module": "@jupyter-widgets/controls",
      "_model_module_version": "1.5.0",
      "_model_name": "IntTextModel",
      "_view_count": null,
      "_view_module": "@jupyter-widgets/controls",
      "_view_module_version": "1.5.0",
      "_view_name": "IntTextView",
      "continuous_update": false,
      "description": "Frame:",
      "description_tooltip": null,
      "disabled": false,
      "layout": "IPY_MODEL_f40ebbb86db7492da9689b2c08a4adc0",
      "step": 1,
      "style": "IPY_MODEL_48d349a4bba843079728ca74fc1d54bb",
      "value": 0
     }
    },
    "ddcc3494a79945349538a68e7f531b52": {
     "model_module": "@jupyter-widgets/controls",
     "model_module_version": "1.5.0",
     "model_name": "ToggleButtonsModel",
     "state": {
      "_dom_classes": [],
      "_model_module": "@jupyter-widgets/controls",
      "_model_module_version": "1.5.0",
      "_model_name": "ToggleButtonsModel",
      "_options_labels": [
       "1",
       "2",
       "4",
       "5",
       "8",
       "10",
       "25",
       "50",
       "75",
       "90",
       "100",
       "120"
      ],
      "_view_count": null,
      "_view_module": "@jupyter-widgets/controls",
      "_view_module_version": "1.5.0",
      "_view_name": "ToggleButtonsView",
      "button_style": "",
      "description": "mDur[ms]:",
      "description_tooltip": null,
      "disabled": false,
      "icons": [],
      "index": 0,
      "layout": "IPY_MODEL_d1bfea77588a4fe0b81f6b8c9f785101",
      "style": "IPY_MODEL_5eb669781bc54eec90d5067c8b143a90",
      "tooltips": []
     }
    },
    "deab818d4f144c5faec8f3b08400c289": {
     "model_module": "@jupyter-widgets/controls",
     "model_module_version": "1.5.0",
     "model_name": "ProgressStyleModel",
     "state": {
      "_model_module": "@jupyter-widgets/controls",
      "_model_module_version": "1.5.0",
      "_model_name": "ProgressStyleModel",
      "_view_count": null,
      "_view_module": "@jupyter-widgets/base",
      "_view_module_version": "1.2.0",
      "_view_name": "StyleView",
      "bar_color": null,
      "description_width": ""
     }
    },
    "dfc46360e68b4f6bbfda27d800eb6cad": {
     "model_module": "@jupyter-widgets/base",
     "model_module_version": "1.2.0",
     "model_name": "LayoutModel",
     "state": {
      "_model_module": "@jupyter-widgets/base",
      "_model_module_version": "1.2.0",
      "_model_name": "LayoutModel",
      "_view_count": null,
      "_view_module": "@jupyter-widgets/base",
      "_view_module_version": "1.2.0",
      "_view_name": "LayoutView",
      "align_content": null,
      "align_items": null,
      "align_self": null,
      "border": null,
      "bottom": null,
      "display": null,
      "flex": null,
      "flex_flow": null,
      "grid_area": null,
      "grid_auto_columns": null,
      "grid_auto_flow": null,
      "grid_auto_rows": null,
      "grid_column": null,
      "grid_gap": null,
      "grid_row": null,
      "grid_template_areas": null,
      "grid_template_columns": null,
      "grid_template_rows": null,
      "height": null,
      "justify_content": null,
      "justify_items": null,
      "left": null,
      "margin": null,
      "max_height": null,
      "max_width": null,
      "min_height": null,
      "min_width": null,
      "object_fit": null,
      "object_position": null,
      "order": null,
      "overflow": null,
      "overflow_x": null,
      "overflow_y": null,
      "padding": null,
      "right": null,
      "top": null,
      "visibility": null,
      "width": null
     }
    },
    "e1b1559e85384871b2e83199ec13fd8f": {
     "model_module": "@jupyter-widgets/controls",
     "model_module_version": "1.5.0",
     "model_name": "TextModel",
     "state": {
      "_dom_classes": [],
      "_model_module": "@jupyter-widgets/controls",
      "_model_module_version": "1.5.0",
      "_model_name": "TextModel",
      "_view_count": null,
      "_view_module": "@jupyter-widgets/controls",
      "_view_module_version": "1.5.0",
      "_view_name": "TextView",
      "continuous_update": true,
      "description": "sim_name",
      "description_tooltip": null,
      "disabled": false,
      "layout": "IPY_MODEL_1c42c5445f354553b754f6489adbe2ca",
      "placeholder": "​",
      "style": "IPY_MODEL_e4589cb3943e4547bcc55581fec0f66a",
      "value": "ERB_0.5_500_4k_car_dur_1ms.pkl"
     }
    },
    "e4589cb3943e4547bcc55581fec0f66a": {
     "model_module": "@jupyter-widgets/controls",
     "model_module_version": "1.5.0",
     "model_name": "DescriptionStyleModel",
     "state": {
      "_model_module": "@jupyter-widgets/controls",
      "_model_module_version": "1.5.0",
      "_model_name": "DescriptionStyleModel",
      "_view_count": null,
      "_view_module": "@jupyter-widgets/base",
      "_view_module_version": "1.2.0",
      "_view_name": "StyleView",
      "description_width": ""
     }
    },
    "e496e347d6e542e3aec2e2a74adea8f4": {
     "model_module": "@jupyter-widgets/base",
     "model_module_version": "1.2.0",
     "model_name": "LayoutModel",
     "state": {
      "_model_module": "@jupyter-widgets/base",
      "_model_module_version": "1.2.0",
      "_model_name": "LayoutModel",
      "_view_count": null,
      "_view_module": "@jupyter-widgets/base",
      "_view_module_version": "1.2.0",
      "_view_name": "LayoutView",
      "align_content": null,
      "align_items": null,
      "align_self": null,
      "border": null,
      "bottom": null,
      "display": null,
      "flex": null,
      "flex_flow": null,
      "grid_area": null,
      "grid_auto_columns": null,
      "grid_auto_flow": null,
      "grid_auto_rows": null,
      "grid_column": null,
      "grid_gap": null,
      "grid_row": null,
      "grid_template_areas": null,
      "grid_template_columns": null,
      "grid_template_rows": null,
      "height": null,
      "justify_content": null,
      "justify_items": null,
      "left": null,
      "margin": null,
      "max_height": null,
      "max_width": null,
      "min_height": null,
      "min_width": null,
      "object_fit": null,
      "object_position": null,
      "order": null,
      "overflow": null,
      "overflow_x": null,
      "overflow_y": null,
      "padding": null,
      "right": null,
      "top": null,
      "visibility": null,
      "width": null
     }
    },
    "e8b80c76a36b477784fb5266024ae3b5": {
     "model_module": "@jupyter-widgets/base",
     "model_module_version": "1.2.0",
     "model_name": "LayoutModel",
     "state": {
      "_model_module": "@jupyter-widgets/base",
      "_model_module_version": "1.2.0",
      "_model_name": "LayoutModel",
      "_view_count": null,
      "_view_module": "@jupyter-widgets/base",
      "_view_module_version": "1.2.0",
      "_view_name": "LayoutView",
      "align_content": null,
      "align_items": null,
      "align_self": null,
      "border": null,
      "bottom": null,
      "display": null,
      "flex": null,
      "flex_flow": null,
      "grid_area": null,
      "grid_auto_columns": null,
      "grid_auto_flow": null,
      "grid_auto_rows": null,
      "grid_column": null,
      "grid_gap": null,
      "grid_row": null,
      "grid_template_areas": null,
      "grid_template_columns": null,
      "grid_template_rows": null,
      "height": null,
      "justify_content": null,
      "justify_items": null,
      "left": null,
      "margin": null,
      "max_height": null,
      "max_width": null,
      "min_height": null,
      "min_width": null,
      "object_fit": null,
      "object_position": null,
      "order": null,
      "overflow": null,
      "overflow_x": null,
      "overflow_y": null,
      "padding": null,
      "right": null,
      "top": null,
      "visibility": null,
      "width": null
     }
    },
    "e8e6099a480c480fa783d84c937b6db8": {
     "model_module": "@jupyter-widgets/base",
     "model_module_version": "1.2.0",
     "model_name": "LayoutModel",
     "state": {
      "_model_module": "@jupyter-widgets/base",
      "_model_module_version": "1.2.0",
      "_model_name": "LayoutModel",
      "_view_count": null,
      "_view_module": "@jupyter-widgets/base",
      "_view_module_version": "1.2.0",
      "_view_name": "LayoutView",
      "align_content": null,
      "align_items": null,
      "align_self": null,
      "border": null,
      "bottom": null,
      "display": null,
      "flex": null,
      "flex_flow": null,
      "grid_area": null,
      "grid_auto_columns": null,
      "grid_auto_flow": null,
      "grid_auto_rows": null,
      "grid_column": null,
      "grid_gap": null,
      "grid_row": null,
      "grid_template_areas": null,
      "grid_template_columns": null,
      "grid_template_rows": null,
      "height": null,
      "justify_content": null,
      "justify_items": null,
      "left": null,
      "margin": null,
      "max_height": null,
      "max_width": null,
      "min_height": null,
      "min_width": null,
      "object_fit": null,
      "object_position": null,
      "order": null,
      "overflow": null,
      "overflow_x": null,
      "overflow_y": null,
      "padding": null,
      "right": null,
      "top": null,
      "visibility": null,
      "width": null
     }
    },
    "ec20286e3aa44061a38db4be021f2277": {
     "model_module": "@jupyter-widgets/controls",
     "model_module_version": "1.5.0",
     "model_name": "ToggleButtonsStyleModel",
     "state": {
      "_model_module": "@jupyter-widgets/controls",
      "_model_module_version": "1.5.0",
      "_model_name": "ToggleButtonsStyleModel",
      "_view_count": null,
      "_view_module": "@jupyter-widgets/base",
      "_view_module_version": "1.2.0",
      "_view_name": "StyleView",
      "button_width": "",
      "description_width": "",
      "font_weight": ""
     }
    },
    "f359df15c10f42e0bc25dae8e0003d50": {
     "model_module": "@jupyter-widgets/base",
     "model_module_version": "1.2.0",
     "model_name": "LayoutModel",
     "state": {
      "_model_module": "@jupyter-widgets/base",
      "_model_module_version": "1.2.0",
      "_model_name": "LayoutModel",
      "_view_count": null,
      "_view_module": "@jupyter-widgets/base",
      "_view_module_version": "1.2.0",
      "_view_name": "LayoutView",
      "align_content": null,
      "align_items": null,
      "align_self": null,
      "border": null,
      "bottom": null,
      "display": null,
      "flex": null,
      "flex_flow": null,
      "grid_area": null,
      "grid_auto_columns": null,
      "grid_auto_flow": null,
      "grid_auto_rows": null,
      "grid_column": null,
      "grid_gap": null,
      "grid_row": null,
      "grid_template_areas": null,
      "grid_template_columns": null,
      "grid_template_rows": null,
      "height": null,
      "justify_content": null,
      "justify_items": null,
      "left": null,
      "margin": null,
      "max_height": null,
      "max_width": null,
      "min_height": null,
      "min_width": null,
      "object_fit": null,
      "object_position": null,
      "order": null,
      "overflow": null,
      "overflow_x": null,
      "overflow_y": null,
      "padding": null,
      "right": null,
      "top": null,
      "visibility": null,
      "width": null
     }
    },
    "f40ebbb86db7492da9689b2c08a4adc0": {
     "model_module": "@jupyter-widgets/base",
     "model_module_version": "1.2.0",
     "model_name": "LayoutModel",
     "state": {
      "_model_module": "@jupyter-widgets/base",
      "_model_module_version": "1.2.0",
      "_model_name": "LayoutModel",
      "_view_count": null,
      "_view_module": "@jupyter-widgets/base",
      "_view_module_version": "1.2.0",
      "_view_name": "LayoutView",
      "align_content": null,
      "align_items": null,
      "align_self": null,
      "border": null,
      "bottom": null,
      "display": null,
      "flex": null,
      "flex_flow": null,
      "grid_area": null,
      "grid_auto_columns": null,
      "grid_auto_flow": null,
      "grid_auto_rows": null,
      "grid_column": null,
      "grid_gap": null,
      "grid_row": null,
      "grid_template_areas": null,
      "grid_template_columns": null,
      "grid_template_rows": null,
      "height": null,
      "justify_content": null,
      "justify_items": null,
      "left": null,
      "margin": null,
      "max_height": null,
      "max_width": null,
      "min_height": null,
      "min_width": null,
      "object_fit": null,
      "object_position": null,
      "order": null,
      "overflow": null,
      "overflow_x": null,
      "overflow_y": null,
      "padding": null,
      "right": null,
      "top": null,
      "visibility": null,
      "width": null
     }
    },
    "f70c67bd7738404987febb1f4a035370": {
     "model_module": "@jupyter-widgets/controls",
     "model_module_version": "1.5.0",
     "model_name": "VBoxModel",
     "state": {
      "_dom_classes": [],
      "_model_module": "@jupyter-widgets/controls",
      "_model_module_version": "1.5.0",
      "_model_name": "VBoxModel",
      "_view_count": null,
      "_view_module": "@jupyter-widgets/controls",
      "_view_module_version": "1.5.0",
      "_view_name": "VBoxView",
      "box_style": "",
      "children": [
       "IPY_MODEL_9c229cc98b5b44a6b568a55ca5f6b85f"
      ],
      "layout": "IPY_MODEL_4ba0ab2232664ced9f138dafefd6c0a1"
     }
    },
    "f9b6cdff0dff4534b51e8a3deb36cb90": {
     "model_module": "@jupyter-widgets/base",
     "model_module_version": "1.2.0",
     "model_name": "LayoutModel",
     "state": {
      "_model_module": "@jupyter-widgets/base",
      "_model_module_version": "1.2.0",
      "_model_name": "LayoutModel",
      "_view_count": null,
      "_view_module": "@jupyter-widgets/base",
      "_view_module_version": "1.2.0",
      "_view_name": "LayoutView",
      "align_content": null,
      "align_items": null,
      "align_self": null,
      "border": null,
      "bottom": null,
      "display": null,
      "flex": null,
      "flex_flow": null,
      "grid_area": null,
      "grid_auto_columns": null,
      "grid_auto_flow": null,
      "grid_auto_rows": null,
      "grid_column": null,
      "grid_gap": null,
      "grid_row": null,
      "grid_template_areas": null,
      "grid_template_columns": null,
      "grid_template_rows": null,
      "height": null,
      "justify_content": null,
      "justify_items": null,
      "left": null,
      "margin": null,
      "max_height": null,
      "max_width": null,
      "min_height": null,
      "min_width": null,
      "object_fit": null,
      "object_position": null,
      "order": null,
      "overflow": null,
      "overflow_x": null,
      "overflow_y": null,
      "padding": null,
      "right": null,
      "top": null,
      "visibility": null,
      "width": null
     }
    }
   }
  }
 },
 "nbformat": 4,
 "nbformat_minor": 5
}
