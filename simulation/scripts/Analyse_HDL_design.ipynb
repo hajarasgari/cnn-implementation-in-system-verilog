{
 "cells": [
  {
   "cell_type": "code",
   "execution_count": 28,
   "id": "85d7274c",
   "metadata": {},
   "outputs": [
    {
     "name": "stdout",
     "output_type": "stream",
     "text": [
      "The autoreload extension is already loaded. To reload it, use:\n",
      "  %reload_ext autoreload\n"
     ]
    }
   ],
   "source": [
    "%load_ext autoreload\n",
    "%autoreload 2\n",
    "%matplotlib inline\n",
    "# %matplotlib widget"
   ]
  },
  {
   "cell_type": "markdown",
   "id": "f4e0fe23",
   "metadata": {},
   "source": [
    "## Imports"
   ]
  },
  {
   "cell_type": "code",
   "execution_count": 29,
   "id": "904d84db",
   "metadata": {},
   "outputs": [],
   "source": [
    "import os\n",
    "import numpy as np\n",
    "import matplotlib.pylab as plt\n",
    "import sys\n",
    "import numpy as np\n",
    "import matplotlib.pyplot as plt\n",
    "from ipywidgets import interact, interactive, fixed, interact_manual, Video, Audio\n",
    "import ipywidgets as widgets\n",
    "import scipy.io as sio\n",
    "from fxpmath import Fxp\n",
    "sys.path.append('../src')\n",
    "from ssl_utils import *"
   ]
  },
  {
   "cell_type": "markdown",
   "id": "ae0b0e04",
   "metadata": {},
   "source": [
    "## CAR output"
   ]
  },
  {
   "cell_type": "markdown",
   "id": "de5c3f3b",
   "metadata": {},
   "source": [
    "### Define functions"
   ]
  },
  {
   "cell_type": "code",
   "execution_count": 30,
   "id": "e714bd95",
   "metadata": {},
   "outputs": [],
   "source": [
    "cnt = 480\n",
    "n_ch = 26\n",
    "car_out = np.zeros((n_ch, cnt))\n",
    "def car_out_chan(chans =[]):\n",
    "    T = range(car_out.shape[1])\n",
    "\n",
    "    for i in range(len(chans)):\n",
    "        ch = chans[i]\n",
    "        plt.plot(T, car_out[ch,:])\n",
    "\n",
    "    plt.show()\n",
    "    \n",
    "def car_out_fft(car_out = np.zeros((cnt,n_ch)), chans=[], sr = 48000):\n",
    "        '''\n",
    "        [frequency domain plot] fft plots (gain vs frequency plot) - for impulse response\n",
    "        '''\n",
    "        fft_rsp = np.fft.fft(car_out)\n",
    "        num_transfer_functions, num_samples = fft_rsp.shape\n",
    "        xaxis = np.tile(np.linspace(0, sr, num_samples), [num_transfer_functions, 1])\n",
    "        x = (xaxis[:, :xaxis.shape[1]//2]).T\n",
    "        y = (20 * np.log10(1e-20+np.abs(fft_rsp[:, :fft_rsp.shape[1]//2]))).T\n",
    "\n",
    "        if len(chans) !=0 :\n",
    "            # plot frequency response of all channels in the upper plot and the selected channel in the lower plot\n",
    "\n",
    "            fig, ax = plt.subplots(2, figsize=[6,7], gridspec_kw={'hspace': 0.2})#,\n",
    "\n",
    "            ax[0].set_xscale('log')\n",
    "            ax[0].set_xlim([100,10_000])\n",
    "            ax[0].set_ylim([-20, np.max(y)+10])\n",
    "            ax[0].plot(x,y,'k', lw=0.5)\n",
    "            print(x.shape, y.shape)\n",
    "            ax[0].plot(x[:,::10],y[:,::10],'k', lw=2)\n",
    "            ax[0].set_xlabel('log of frequency [Hz]')\n",
    "            ax[0].set_ylabel('Magnitude [dB]')\n",
    "            ax[0].grid(alpha=0.2, which='both', ls='-')\n",
    "\n",
    "            for chan in chans:\n",
    "                x = (xaxis[chan, :xaxis.shape[1]//2]).T\n",
    "                y = (20 * np.log10(1e-20+np.abs(fft_rsp[chan, :fft_rsp.shape[1]//2]))).T\n",
    "                ax[1].plot(x,y, lw=2, label=f'chan {chan}')\n",
    "            ax[1].set_xscale('log')\n",
    "            ax[1].set_xlim([10,20_000])\n",
    "            ax[1].set_ylim([-20, np.max(y)+10])\n",
    "            ax[1].legend()\n",
    "            ax[1].set_xlabel('log of frequency [Hz]')\n",
    "            ax[1].set_ylabel('Magnitude [dB]')\n",
    "            ax[1].grid(alpha=0.2, which='both', ls='-')\n",
    "        else:\n",
    "            # plot frequency response of all channels\n",
    "\n",
    "            fig, ax = plt.subplots(1, figsize=[6,4])\n",
    "\n",
    "            ax.set_xscale('log')\n",
    "            ax.set_xlim([100,10_000])\n",
    "            # ax.set_ylim([-20, 100])\n",
    "            ax.plot(x,y,'k', lw=0.5)\n",
    "            print(x.shape, y.shape)\n",
    "            ax.plot(x[:,::10],y[:,::10],'k', lw=2)\n",
    "            ax.set_xlabel('log of frequency [Hz]')\n",
    "            ax.set_ylabel('Magnitude [dB]')\n",
    "            ax.grid(alpha=0.2, which='both', ls='-')\n",
    "\n",
    "            \n",
    "def car_out_plot(time_range=[0,1]):\n",
    "    '''\n",
    "    plot the output of CAR simulation results of all the channels\n",
    "    '''\n",
    "    fig, ax = plt.subplots(1, figsize=[10,7], gridspec_kw={'hspace': 0.4})#, sharex=True )\n",
    "\n",
    "    idx_min =  np.int(time_range[0]*len(car_out))\n",
    "    idx_max =  np.int(time_range[1]*len(car_out))\n",
    "        \n",
    "#     car_pcolor = ax.pcolorfast(np.abs(car_out[idx_min:idx_max]))\n",
    "    car_pcolor = ax.pcolorfast(np.transpose(np.abs(car_out[idx_min:idx_max])))\n",
    "    plt.colorbar(car_pcolor)\n",
    "    ax.set_xlabel('time [s]')\n",
    "    ax.set_ylabel('channels') \n",
    "    \n",
    "\n",
    "def plot_mr(mr):\n",
    "    fig, ax = plt.subplots(figsize=(6,5))\n",
    "    plt.pcolor(mr)\n",
    "    plt.colorbar()\n",
    "#     plt.title(f'r [{0}]')\n",
    "    \n",
    "def plot_mrec(mrec):\n",
    "    fig, ax = plt.subplots()\n",
    "    plt.pcolor(mrec)\n",
    "    plt.colorbar()\n",
    "    \n",
    "def plot_conv2d_feature_maps (layer, k, h, w, s3, z3, fileloc):          \n",
    "    fm = np.empty((k,h,w))\n",
    "    line = []\n",
    "    with open(fileloc) as f:\n",
    "        for i in range(h*w):\n",
    "            line = f.readline().split()\n",
    "#             print(line)           \n",
    "            for j in range(k):\n",
    "                r = i // w\n",
    "                c = i % w\n",
    "                fm[j][r][c]=(int(line[j+1])-z3)*s3\n",
    "#                 fm[j][r][c]=line[j+1]\n",
    "#                 print(line[j+1],(int(line[j+1])+46), (int(line[j+1])+46)*0.02145662158727646)\n",
    "    plt.figure(figsize=(20,20))\n",
    "    for i in range(k):\n",
    "        plt.subplot(8,5,i+1)\n",
    "        plt.imshow(fm[i,:,:])\n",
    "        plt.title(\"ch \"+ str(i))\n",
    "    plt.colorbar()\n",
    "    plt.show()\n",
    "    return fm\n",
    "\n",
    "def plot_mqcrec(fileloc='', rec_img_w=0, rec_img_h=0):\n",
    "    mqcRec = np.zeros((rec_img_w*rec_img_h))\n",
    "    with open(fileloc) as f:\n",
    "        for i in range(rec_img_w*rec_img_h):\n",
    "            line = f.readline().split()\n",
    "#             print(line[0])\n",
    "            if line[1] != 'x':\n",
    "                mqcRec[int(line[0])] = line[1]\n",
    "\n",
    "\n",
    "    mqcRec_img = np.zeros((rec_img_h, rec_img_w))\n",
    "    for i in range(len(mqcRec)):\n",
    "        mqcRec_img[ i // rec_img_w][i % rec_img_w] = mqcRec[i]\n",
    "\n",
    "    plot_mrec(mqcRec_img)   \n",
    "    print(mqcRec_img[:][1])\n",
    "    return mqcRec, mqcRec_img"
   ]
  },
  {
   "cell_type": "markdown",
   "id": "eb97acb7",
   "metadata": {},
   "source": [
    "### Prepare and save AVA datasets in files and mems "
   ]
  },
  {
   "cell_type": "code",
   "execution_count": 31,
   "id": "0141de6b",
   "metadata": {},
   "outputs": [
    {
     "data": {
      "application/vnd.jupyter.widget-view+json": {
       "model_id": "5e092072fb76422fb21b7ff9afc21092",
       "version_major": 2,
       "version_minor": 0
      },
      "text/plain": [
       "VBox(children=(ToggleButtons(description='tw[ms]:', disabled=True, index=5, options=(1, 2, 4, 5, 8, 10, 15, 25…"
      ]
     },
     "metadata": {},
     "output_type": "display_data"
    }
   ],
   "source": [
    "tw_w = widgets.ToggleButtons( options=[1, 2, 4, 5, 8, 10, 15, 25, 50, 75, 90, 100, 120], value=10, description='tw[ms]:', disabled=True )\n",
    "data_type_w = widgets.ToggleButtons(options=['train', 'test'], value = 'test', description='data_type', disabled=False)\n",
    "widgets.VBox([tw_w, data_type_w])"
   ]
  },
  {
   "cell_type": "code",
   "execution_count": 32,
   "id": "dfda84e7",
   "metadata": {},
   "outputs": [
    {
     "data": {
      "application/vnd.jupyter.widget-view+json": {
       "model_id": "8d9bc473ab2c412880730af45fec744e",
       "version_major": 2,
       "version_minor": 0
      },
      "text/plain": [
       "VBox(children=(ToggleButtons(description='Source loc', options=('D1_02', 'D2_02', 'D1D2_02'), value='D1_02'),)…"
      ]
     },
     "metadata": {},
     "output_type": "display_data"
    }
   ],
   "source": [
    "sr = 48\n",
    "tw = tw_w.value\n",
    "tw = sr * tw\n",
    "data_type = data_type_w.value\n",
    "if data_type=='train':\n",
    "    locs_w = widgets.ToggleButtons( options=['D1_01','D1_02','D1_03', 'D1_04', 'D2_01', 'D2_02', 'D1D2_01','D1D2_02'], value='D1_02', description='Source loc', disabled=False )\n",
    "elif data_type == 'test':\n",
    "    locs_w = widgets.ToggleButtons( options=['D1_02', 'D2_02','D1D2_02'], value='D1_02', description='Source loc', disabled=False )\n",
    "widgets.VBox([locs_w])\n",
    "# specify sound file location and load sound"
   ]
  },
  {
   "cell_type": "code",
   "execution_count": 33,
   "id": "82f67f6c",
   "metadata": {},
   "outputs": [
    {
     "data": {
      "text/plain": [
       "(96000.0, 96479.0)"
      ]
     },
     "execution_count": 33,
     "metadata": {},
     "output_type": "execute_result"
    },
    {
     "data": {
      "image/png": "[encoded data removed]",
      "text/plain": [
       "<Figure size 432x288 with 1 Axes>"
      ]
     },
     "metadata": {
      "needs_background": "light"
     },
     "output_type": "display_data"
    }
   ],
   "source": [
    "loc = locs_w.value\n",
    "record_path = f'../datasets/AVA_dataset/train/ADI_PINK_{loc}.mat'\n",
    "sound_data = sio.loadmat(record_path)\n",
    "\n",
    "# extract m1 & m2 signal\n",
    "index = 200\n",
    "start = index*tw\n",
    "end = (index+1)*tw-1\n",
    "\n",
    "sound_m1 = sound_data['m1'] #.reshape(-1)\n",
    "sound_m2 = sound_data['m2']#.reshape(-1)\n",
    "x = np.array(range(len(sound_m1)))\n",
    "plt.plot(x, sound_m1, '.', x, sound_m2, '.')\n",
    "plt.xlim(start,end)\n",
    "# print(sound_m1[:-1][0:10])\n",
    "# print(sound_m1[0:10])"
   ]
  },
  {
   "cell_type": "code",
   "execution_count": 34,
   "id": "a652a706",
   "metadata": {},
   "outputs": [
    {
     "name": "stdout",
     "output_type": "stream",
     "text": [
      "480000 480479\n"
     ]
    }
   ],
   "source": [
    "index = 1000\n",
    "start = index*tw\n",
    "end = (index+1)*tw-1\n",
    "sound_mic1 = np.round(sound_m1[start:end])\n",
    "sound_mic2 = np.round(sound_m2[start:end])\n",
    "print(start, end)\n",
    "np.savetxt(f'../../hdl_design/datasets/AVA_dataset/{data_type}/{index}_ADI_PINK_{loc}_sound_m1.txt', sound_mic1.ravel(), fmt=\"%d\")\n",
    "np.savetxt(f'../../hdl_design/datasets/AVA_dataset/{data_type}/{index}_ADI_PINK_{loc}_sound_m2.txt', sound_mic2.ravel(), fmt=\"%d\")\n",
    "\n",
    "save_1d_arr_in_mem(b = sound_mic1.ravel(), signed = True, nbits=16, n_frac =0, fileloc=f'../../hdl_design/datasets/AVA_dataset/{data_type}/mem/{index}_ADI_PINK_{loc}_sound_m1.txt')\n",
    "save_1d_arr_in_mem(b =  sound_mic2.ravel(), signed = True, nbits=16, n_frac =0, fileloc=f'../../hdl_design/datasets/AVA_dataset/{data_type}/mem/{index}_ADI_PINK_{loc}_sound_m2.txt') \n"
   ]
  },
  {
   "cell_type": "code",
   "execution_count": 47,
   "id": "ddfa937e",
   "metadata": {},
   "outputs": [
    {
     "name": "stdout",
     "output_type": "stream",
     "text": [
      "0 5000\n"
     ]
    }
   ],
   "source": [
    "start = 0\n",
    "end = start + 5000\n",
    "sound_mic1 = np.round(sound_m1[start:end])\n",
    "sound_mic2 = np.round(sound_m2[start:end])\n",
    "print(start, end)\n",
    "# np.savetxt(f'../../hdl_design/datasets/AVA_dataset/{data_type}/{index}_ADI_PINK_{loc}_sound_m1.txt', sound_mic1.ravel(), fmt=\"%d\")\n",
    "# np.savetxt(f'../../hdl_design/datasets/AVA_dataset/{data_type}/{index}_ADI_PINK_{loc}_sound_m2.txt', sound_mic2.ravel(), fmt=\"%d\")\n",
    "\n",
    "save_1d_arr_in_mem(b = sound_mic1.ravel(), signed = True, nbits=16, n_frac =0, fileloc=f'../../hdl_design/datasets/AVA_dataset/{data_type}/mem/ADI_PINK_{loc}_sound_m1.txt')\n",
    "save_1d_arr_in_mem(b = sound_mic2.ravel(), signed = True, nbits=16, n_frac =0, fileloc=f'../../hdl_design/datasets/AVA_dataset/{data_type}/mem/ADI_PINK_{loc}_sound_m2.txt') \n"
   ]
  },
  {
   "cell_type": "code",
   "execution_count": 8,
   "id": "23724242",
   "metadata": {},
   "outputs": [
    {
     "name": "stdout",
     "output_type": "stream",
     "text": [
      "(479, 1)\n",
      "[-6.51362439e+02 -6.76190090e+02 -6.77528018e+02 -6.67545953e+02\n",
      " -6.43197332e+02 -6.07539909e+02 -6.00576926e+02 -6.05041330e+02\n",
      " -6.00472423e+02 -5.92137935e+02 -6.01951234e+02 -5.69539402e+02\n",
      " -4.90428861e+02 -4.18825705e+02 -3.74426443e+02 -3.41348748e+02\n",
      " -2.61968261e+02 -1.40897687e+02 -4.80798225e+01 -2.34710167e+01\n",
      " -6.51663132e+01 -9.11582116e+01 -7.68301326e+01 -7.54140904e+01\n",
      " -7.06117610e+01 -5.46123132e+01 -4.77078953e+01 -1.55403215e+01\n",
      "  2.71915390e+01  4.28926363e+01  2.16410557e+01  1.02003209e+01\n",
      "  3.91401871e+01  8.98897288e+01  1.24852093e+02  1.27041051e+02\n",
      "  9.39125475e+01  5.48877586e+01  3.11983041e+01  3.73583516e+01\n",
      "  4.21413988e+01  2.46718728e+01  1.56159114e+01  1.80605795e+01\n",
      "  7.72089425e+00  1.26406985e+01  3.21099718e+01  3.74965911e+01\n",
      "  2.51922770e+01  1.23954198e+01  4.57841884e+01  8.48126381e+01\n",
      "  1.32290143e+02  1.94129303e+02  2.18459577e+02  2.27827701e+02\n",
      "  2.55244841e+02  2.64685889e+02  2.60720887e+02  2.39611800e+02\n",
      "  2.31495474e+02  2.27741564e+02  1.98370876e+02  2.18360817e+02\n",
      "  2.67239236e+02  2.81333826e+02  2.68615756e+02  2.75261666e+02\n",
      "  2.95117749e+02  2.95169670e+02  3.08103980e+02  3.50984386e+02\n",
      "  3.22302823e+02  2.38314622e+02  2.06930464e+02  2.05808254e+02\n",
      "  2.02969700e+02  1.69934634e+02  1.23592783e+02  1.23206173e+02\n",
      "  1.26609661e+02  1.40596070e+02  1.68097188e+02  1.54100712e+02\n",
      "  1.13918201e+02  7.28287697e+01  4.89098786e+01  3.45063340e+01\n",
      "  1.11015697e+01  7.35340567e+00  1.05365235e+01  2.73890660e+01\n",
      "  8.65373913e+01  1.34162210e+02  1.48850378e+02  1.63478838e+02\n",
      "  1.88584346e+02  1.80920198e+02  1.60742962e+02  1.69589120e+02\n",
      "  2.10455009e+02  2.39783191e+02  2.71309985e+02  3.29696584e+02\n",
      "  3.79780791e+02  3.47527519e+02  3.12807777e+02  3.08059379e+02\n",
      "  2.85077308e+02  2.66439793e+02  2.45985389e+02  2.01669734e+02\n",
      "  1.68955780e+02  1.49195443e+02  1.31308912e+02  1.05451951e+02\n",
      "  5.47837170e+01  1.86309885e+01  4.11940956e+01  4.24379354e+01\n",
      "  4.40726392e+01  8.26379381e+01  6.97249978e+01  5.29617165e+01\n",
      "  7.37192239e+01  8.42419884e+01  1.05540348e+02  1.25958464e+02\n",
      "  1.38492918e+02  1.59951842e+02  1.83858073e+02  1.92524970e+02\n",
      "  1.87753412e+02  1.77634442e+02  1.48638779e+02  1.33854022e+02\n",
      "  1.71694754e+02  2.05301353e+02  2.24310798e+02  2.16910185e+02\n",
      "  2.10825087e+02  2.40828227e+02  2.54566990e+02  2.39476141e+02\n",
      "  2.25900721e+02  1.86309426e+02  1.47404614e+02  1.32311534e+02\n",
      "  1.36618484e+02  1.30941217e+02  1.16219764e+02  1.27590697e+02\n",
      "  1.68138812e+02  1.76391757e+02  1.56450268e+02  1.34195220e+02\n",
      "  1.12372973e+02  9.95659705e+01  9.88617786e+01  1.00529387e+02\n",
      "  1.05569629e+02  1.37580119e+02  1.90597358e+02  2.18226740e+02\n",
      "  2.61696882e+02  3.32420215e+02  3.54346029e+02  3.24865857e+02\n",
      "  3.50423564e+02  3.51823397e+02  2.85412731e+02  2.56557916e+02\n",
      "  2.93411019e+02  3.15921078e+02  3.28564584e+02  3.56835099e+02\n",
      "  3.91444450e+02  4.05522492e+02  4.19036312e+02  4.62565488e+02\n",
      "  4.94507515e+02  4.97967994e+02  5.21868851e+02  5.56318785e+02\n",
      "  5.55817497e+02  5.65604724e+02  6.02494754e+02  6.14629838e+02\n",
      "  6.39195547e+02  6.97194771e+02  6.86857032e+02  6.19235448e+02\n",
      "  5.58199673e+02  5.05250705e+02  4.89547726e+02  4.70801358e+02\n",
      "  4.33238583e+02  4.02807665e+02  3.80349346e+02  3.77991835e+02\n",
      "  4.15237323e+02  4.24527921e+02  4.21005266e+02  4.22997778e+02\n",
      "  4.26011227e+02  4.33219154e+02  4.76264831e+02  5.24452671e+02\n",
      "  5.13371920e+02  4.76294285e+02  4.43188246e+02  4.16190649e+02\n",
      "  4.04473783e+02  3.68170055e+02  3.20188138e+02  3.00107675e+02\n",
      "  3.17630617e+02  3.71380343e+02  4.27531318e+02  4.68387720e+02\n",
      "  4.71727299e+02  4.40614520e+02  4.22264357e+02  4.26647470e+02\n",
      "  4.25062698e+02  3.91512256e+02  3.37021455e+02  2.89955550e+02\n",
      "  2.41287647e+02  2.30632100e+02  2.43592215e+02  2.20590358e+02\n",
      "  2.48276669e+02  2.73762677e+02  2.27670783e+02  2.02163324e+02\n",
      "  2.10792748e+02  1.78195354e+02  1.34104784e+02  1.23406428e+02\n",
      "  1.64657703e+02  1.77952942e+02  1.55655197e+02  1.72321493e+02\n",
      "  2.07456525e+02  1.91164462e+02  1.92216542e+02  2.38826253e+02\n",
      "  2.42149310e+02  2.07923511e+02  2.04176794e+02  1.49311929e+02\n",
      "  8.03479924e+01  5.41235916e+01  3.50703889e+01  4.50078242e+01\n",
      "  7.90664062e+01  1.05004710e+02  1.34505849e+02  1.56943674e+02\n",
      "  1.56999045e+02  1.30569436e+02  7.07442916e+01  1.57074015e+01\n",
      " -2.07981222e+01 -1.00189288e+02 -1.76021751e+02 -1.78548957e+02\n",
      " -1.75592810e+02 -1.47650378e+02 -4.24896617e+01  4.47750801e+01\n",
      "  8.80463482e+01  1.05802429e+02  9.12075390e+01  9.20328824e+01\n",
      "  1.00092548e+02  9.55377618e+01  8.34069867e+01  2.58711713e+01\n",
      " -4.07675898e+01 -2.68476538e+01  3.45953443e+01  8.39921000e+01\n",
      "  9.52178054e+01  6.06770160e+01  4.30642080e+01  2.42726522e+01\n",
      " -1.33472699e+01 -5.21437974e+01 -9.96619460e+01 -1.50425754e+02\n",
      " -1.86112837e+02 -1.86960222e+02 -1.87788007e+02 -2.05242733e+02\n",
      " -1.92233384e+02 -1.75833573e+02 -1.69517721e+02 -1.50704724e+02\n",
      " -1.68539490e+02 -2.34767726e+02 -2.90160815e+02 -3.34494495e+02\n",
      " -3.49031022e+02 -3.37291102e+02 -3.32933998e+02 -3.01679242e+02\n",
      " -2.57485069e+02 -2.60411808e+02 -2.59780042e+02 -2.12407654e+02\n",
      " -2.10460310e+02 -2.07551907e+02 -1.68415189e+02 -1.73707707e+02\n",
      " -2.42540446e+02 -2.90115440e+02 -2.87048307e+02 -2.52831868e+02\n",
      " -2.03002954e+02 -1.66056154e+02 -1.59630009e+02 -1.82956978e+02\n",
      " -2.00522183e+02 -1.81607667e+02 -1.73146918e+02 -1.79332375e+02\n",
      " -2.01690116e+02 -2.33013699e+02 -2.32857460e+02 -1.97701234e+02\n",
      " -1.78479299e+02 -1.76589582e+02 -1.51398274e+02 -1.15790995e+02\n",
      " -1.03591807e+02 -6.25674427e+01 -1.72456546e+01 -2.11375915e+01\n",
      " -1.22811260e+01 -6.63971968e+00 -1.65307838e+01 -1.51937180e+01\n",
      " -1.23809218e+01 -2.66973910e+01 -5.32703063e+01 -4.75787989e+01\n",
      " -2.73274452e+01 -3.91438279e+01 -5.22099910e+01 -6.15833037e+01\n",
      " -8.28060671e+01 -1.00739544e+02 -1.22101594e+02 -1.21752502e+02\n",
      " -1.13448701e+02 -1.19306973e+02 -1.04131871e+02 -3.79312801e+01\n",
      "  6.23837822e+00  3.32745177e+01  5.72289379e+01  7.56727408e+01\n",
      "  1.01232321e+02  1.06178447e+02  6.28468117e+01  2.53477423e+01\n",
      "  5.04417227e+00 -7.21816847e+00  4.53175633e+01  1.34833533e+02\n",
      "  1.73968610e+02  1.73062028e+02  1.71270035e+02  1.79338550e+02\n",
      "  1.96382494e+02  2.10100278e+02  2.31688232e+02  2.30347409e+02\n",
      "  1.84910625e+02  1.60884268e+02  1.45385727e+02  1.57816161e+02\n",
      "  2.34029375e+02  2.53902699e+02  1.86992119e+02  1.17703930e+02\n",
      "  3.33234311e+01 -2.99130383e+01 -5.55803437e+01 -6.98831026e+01\n",
      " -6.69010069e+01 -9.40033248e+01 -1.16565200e+02 -6.67186320e+01\n",
      " -4.88488154e+01 -5.50249564e+01 -3.52198847e+01 -3.70232712e+01\n",
      " -5.71503565e+01 -7.29525625e+01 -9.72212706e+01 -8.98935643e+01\n",
      " -4.68345548e+01  8.48804554e+00  6.75966127e+01  8.89944263e+01\n",
      "  7.15308451e+01  4.41277791e+01  1.42800723e+01 -3.41494516e+01\n",
      " -4.17949359e+01 -2.15875601e+01 -6.58518321e+01 -1.00785218e+02\n",
      " -6.93302756e+01 -5.18794395e+01 -4.48287803e+01 -2.74526975e+01\n",
      " -1.08551777e+01  2.56346552e+01  1.14753392e+01 -5.85609040e+01\n",
      " -8.71134310e+01 -1.16014413e+02 -1.52158521e+02 -1.49102851e+02\n",
      " -1.29556856e+02 -1.44486141e+02 -1.68457080e+02 -1.24989120e+02\n",
      " -5.48567281e+01 -4.40791067e+01 -4.73162531e+01 -2.19632333e+01\n",
      "  1.93452638e-01  1.12212463e+01  1.90287102e+01  1.24704723e+01\n",
      "  9.13320011e+00  3.73348764e+01  8.38401291e+01  7.85180322e+01\n",
      "  6.56299710e+01  7.66040287e+01  7.56165445e+01  7.93865709e+01\n",
      "  1.22830655e+02  1.42890248e+02  1.14496214e+02  7.52336618e+01\n",
      "  5.76432566e+01  4.38937554e+01  3.11827717e+01  4.51912067e+01\n",
      "  4.67500653e+01  3.26758028e+01  2.44590765e+01  1.85634551e+01\n",
      "  2.44730133e+01  4.02778137e+01  2.41178011e+01  2.66763746e+00\n",
      " -1.57122372e+01 -2.62372694e+01 -4.19983083e+01 -4.85493305e+01\n",
      " -2.32927468e+01  1.41040106e+01  3.11081675e+01  5.27553957e+01\n",
      "  9.11684623e+01  1.06192469e+02  1.18016152e+02  1.18593148e+02\n",
      "  1.10637110e+02  1.17054384e+02  1.50954171e+02]\n"
     ]
    }
   ],
   "source": [
    "a = sound_m1[start:end]\n",
    "print(a.shape)\n",
    "b = a.ravel()\n",
    "print(b)"
   ]
  },
  {
   "cell_type": "markdown",
   "id": "21110fc2",
   "metadata": {},
   "source": [
    "### Analyse 'CAR_tb.sv' and/or 'SoundSourceLocalizer_tb.sv' results"
   ]
  },
  {
   "cell_type": "code",
   "execution_count": 9,
   "id": "1922d2c5",
   "metadata": {},
   "outputs": [
    {
     "ename": "IndexError",
     "evalue": "list index out of range",
     "output_type": "error",
     "traceback": [
      "\u001b[0;31m---------------------------------------------------------------------------\u001b[0m",
      "\u001b[0;31mIndexError\u001b[0m                                Traceback (most recent call last)",
      "\u001b[0;32m<ipython-input-9-f0e104a8f9ff>\u001b[0m in \u001b[0;36m<module>\u001b[0;34m\u001b[0m\n\u001b[1;32m     15\u001b[0m         \u001b[0mline\u001b[0m \u001b[0;34m=\u001b[0m \u001b[0mf\u001b[0m\u001b[0;34m.\u001b[0m\u001b[0mreadline\u001b[0m\u001b[0;34m(\u001b[0m\u001b[0;34m)\u001b[0m\u001b[0;34m.\u001b[0m\u001b[0msplit\u001b[0m\u001b[0;34m(\u001b[0m\u001b[0;34m)\u001b[0m\u001b[0;34m\u001b[0m\u001b[0;34m\u001b[0m\u001b[0m\n\u001b[1;32m     16\u001b[0m         \u001b[0;32mfor\u001b[0m \u001b[0mj\u001b[0m \u001b[0;32min\u001b[0m \u001b[0mrange\u001b[0m\u001b[0;34m(\u001b[0m\u001b[0mn_ch\u001b[0m\u001b[0;34m)\u001b[0m\u001b[0;34m:\u001b[0m\u001b[0;34m\u001b[0m\u001b[0;34m\u001b[0m\u001b[0m\n\u001b[0;32m---> 17\u001b[0;31m             \u001b[0;32mif\u001b[0m \u001b[0mline\u001b[0m\u001b[0;34m[\u001b[0m\u001b[0mj\u001b[0m\u001b[0;34m]\u001b[0m \u001b[0;34m!=\u001b[0m \u001b[0;34m'x'\u001b[0m\u001b[0;34m:\u001b[0m\u001b[0;34m\u001b[0m\u001b[0;34m\u001b[0m\u001b[0m\n\u001b[0m\u001b[1;32m     18\u001b[0m                 \u001b[0mcar_out\u001b[0m\u001b[0;34m[\u001b[0m\u001b[0mi\u001b[0m\u001b[0;34m]\u001b[0m\u001b[0;34m[\u001b[0m\u001b[0mj\u001b[0m\u001b[0;34m]\u001b[0m \u001b[0;34m=\u001b[0m \u001b[0mline\u001b[0m\u001b[0;34m[\u001b[0m\u001b[0mj\u001b[0m\u001b[0;34m]\u001b[0m\u001b[0;34m\u001b[0m\u001b[0;34m\u001b[0m\u001b[0m\n\u001b[1;32m     19\u001b[0m \u001b[0mcar_out\u001b[0m \u001b[0;34m=\u001b[0m \u001b[0mnp\u001b[0m\u001b[0;34m.\u001b[0m\u001b[0mmultiply\u001b[0m\u001b[0;34m(\u001b[0m\u001b[0mcar_out\u001b[0m\u001b[0;34m,\u001b[0m \u001b[0;36m1\u001b[0m\u001b[0;34m/\u001b[0m\u001b[0;34m(\u001b[0m\u001b[0;36m2\u001b[0m\u001b[0;34m**\u001b[0m\u001b[0mnum_frac_bits\u001b[0m\u001b[0;34m)\u001b[0m\u001b[0;34m)\u001b[0m\u001b[0;34m\u001b[0m\u001b[0;34m\u001b[0m\u001b[0m\n",
      "\u001b[0;31mIndexError\u001b[0m: list index out of range"
     ]
    }
   ],
   "source": [
    "line = []\n",
    "cnt = 48*10\n",
    "num_frac_bits = 10\n",
    "n_ch = 16\n",
    "t_start, t_end = 0, 48*10\n",
    "car_out = np.zeros(( cnt, n_ch))\n",
    "car1 = np.zeros(( cnt, n_ch))\n",
    "car2 = np.zeros(( cnt, n_ch))\n",
    "filename = f'CAR_V1_SimOut_ADI_PINK_{loc}'\n",
    "filename = f'SSL_CarSimOut_0_ADI_PINK_D1_02'\n",
    "\n",
    "fileloc = f'../../hdl_design/result/{data_type}_data/{filename}_sound_m1.txt'\n",
    "with open(fileloc) as f:\n",
    "    for i in range(cnt):\n",
    "        line = f.readline().split()\n",
    "        for j in range(n_ch):\n",
    "            if line[j] != 'x':\n",
    "                car_out[i][j] = line[j]\n",
    "car_out = np.multiply(car_out, 1/(2**num_frac_bits))\n",
    "car_out_plot(time_range=[0, 1])\n",
    "car1 = car_out\n",
    "car_out = np.zeros(( cnt, n_ch))\n",
    "fileloc = f'../../hdl_design/result/{data_type}_data/{filename}_sound_m2.txt'\n",
    "with open(fileloc) as f:\n",
    "    for i in range(cnt):\n",
    "        line = f.readline().split()\n",
    "        for j in range(n_ch):\n",
    "            if line[j] != 'x':\n",
    "                car_out[i][j] = line[j]\n",
    "car_out = np.multiply(car_out, 1/(2**num_frac_bits))\n",
    "car_out_plot(time_range=[0, 1])\n",
    "car2 = car_out\n"
   ]
  },
  {
   "cell_type": "code",
   "execution_count": 10,
   "id": "b7cea153",
   "metadata": {},
   "outputs": [
    {
     "name": "stdout",
     "output_type": "stream",
     "text": [
      "[-41.24281533]\n",
      "[-6.57860858]\n",
      "0.0\n",
      "0.0\n"
     ]
    }
   ],
   "source": [
    "# printed results should be almos equal to simulation\n",
    "print(sound_m2[0])\n",
    "print(sound_m1[0])\n",
    "print(car2[470][0])\n",
    "print(car1[470][0])"
   ]
  },
  {
   "cell_type": "markdown",
   "id": "ab726d84",
   "metadata": {},
   "source": [
    "### Analyse 'CochleaProcessing_tb.sv' and/or 'SoundSourceLocalizer_tb.sv' results"
   ]
  },
  {
   "cell_type": "markdown",
   "id": "f4927f54",
   "metadata": {},
   "source": [
    "#### Plot acc_qcRec"
   ]
  },
  {
   "cell_type": "code",
   "execution_count": 21,
   "id": "463b5dc4",
   "metadata": {},
   "outputs": [
    {
     "ename": "NameError",
     "evalue": "name 'rec_img_h' is not defined",
     "output_type": "error",
     "traceback": [
      "\u001b[0;31m---------------------------------------------------------------------------\u001b[0m",
      "\u001b[0;31mNameError\u001b[0m                                 Traceback (most recent call last)",
      "\u001b[0;32m<ipython-input-21-321c91e9b0f5>\u001b[0m in \u001b[0;36m<module>\u001b[0;34m\u001b[0m\n\u001b[1;32m      1\u001b[0m \u001b[0mindex\u001b[0m \u001b[0;34m=\u001b[0m \u001b[0;36m0\u001b[0m\u001b[0;34m\u001b[0m\u001b[0;34m\u001b[0m\u001b[0m\n\u001b[0;32m----> 2\u001b[0;31m \u001b[0macc_qcr\u001b[0m \u001b[0;34m=\u001b[0m \u001b[0mnp\u001b[0m\u001b[0;34m.\u001b[0m\u001b[0mzeros\u001b[0m\u001b[0;34m(\u001b[0m\u001b[0;34m(\u001b[0m\u001b[0mrec_img_h\u001b[0m\u001b[0;34m,\u001b[0m \u001b[0mrec_img_w\u001b[0m\u001b[0;34m)\u001b[0m\u001b[0;34m)\u001b[0m\u001b[0;34m\u001b[0m\u001b[0;34m\u001b[0m\u001b[0m\n\u001b[0m\u001b[1;32m      3\u001b[0m \u001b[0macc_qcr_addr\u001b[0m \u001b[0;34m=\u001b[0m \u001b[0mnp\u001b[0m\u001b[0;34m.\u001b[0m\u001b[0mzeros\u001b[0m\u001b[0;34m(\u001b[0m\u001b[0;34m(\u001b[0m\u001b[0mrec_img_h\u001b[0m\u001b[0;34m,\u001b[0m \u001b[0mrec_img_w\u001b[0m\u001b[0;34m)\u001b[0m\u001b[0;34m)\u001b[0m\u001b[0;34m\u001b[0m\u001b[0;34m\u001b[0m\u001b[0m\n\u001b[1;32m      4\u001b[0m \u001b[0;34m\u001b[0m\u001b[0m\n\u001b[1;32m      5\u001b[0m \u001b[0mfilename\u001b[0m \u001b[0;34m=\u001b[0m \u001b[0;34mf'CochleaProcessing_acc_qcRec_{index}_ADI_PINK_{loc}'\u001b[0m\u001b[0;34m\u001b[0m\u001b[0;34m\u001b[0m\u001b[0m\n",
      "\u001b[0;31mNameError\u001b[0m: name 'rec_img_h' is not defined"
     ]
    }
   ],
   "source": [
    "\n",
    "index = 0\n",
    "acc_qcr = np.zeros((rec_img_h, rec_img_w))\n",
    "acc_qcr_addr = np.zeros((rec_img_h, rec_img_w))\n",
    "\n",
    "filename = f'CochleaProcessing_acc_qcRec_{index}_ADI_PINK_{loc}'\n",
    "filename = f'SSL_acc_qcRec_{index}_ADI_PINK_{loc}' \n",
    "\n",
    "fileloc = f'../../hdl_design/result/{data_type}_data/{filename}.txt'\n",
    "with open(fileloc) as f:\n",
    "    for i in range(rec_img_h):\n",
    "        line = f.readline().split()\n",
    "        for j in range(rec_img_w):\n",
    "            if line[j] != 'x':\n",
    "                acc_qcr[i][j] = line[j]\n",
    "                \n",
    "plot_mrec(acc_qcr)"
   ]
  },
  {
   "cell_type": "markdown",
   "id": "4bebe212",
   "metadata": {},
   "source": [
    "#### Plot mqcRec"
   ]
  },
  {
   "cell_type": "markdown",
   "id": "fa4e0c24",
   "metadata": {},
   "source": [
    "##### Behv simulation"
   ]
  },
  {
   "cell_type": "code",
   "execution_count": 22,
   "id": "cc24ff77",
   "metadata": {},
   "outputs": [
    {
     "ename": "FileNotFoundError",
     "evalue": "[Errno 2] No such file or directory: '../../hdl_design/result/test_data/SSL_mqcRec_2_ADI_PINK_D1_02.txt'",
     "output_type": "error",
     "traceback": [
      "\u001b[0;31m---------------------------------------------------------------------------\u001b[0m",
      "\u001b[0;31mFileNotFoundError\u001b[0m                         Traceback (most recent call last)",
      "\u001b[0;32m<ipython-input-22-d58ff849aaa0>\u001b[0m in \u001b[0;36m<module>\u001b[0;34m\u001b[0m\n\u001b[1;32m     10\u001b[0m \u001b[0mfileloc\u001b[0m \u001b[0;34m=\u001b[0m \u001b[0;34mf'../../hdl_design/result/{data_type}_data/{filename}.txt'\u001b[0m\u001b[0;34m\u001b[0m\u001b[0;34m\u001b[0m\u001b[0m\n\u001b[1;32m     11\u001b[0m \u001b[0;34m\u001b[0m\u001b[0m\n\u001b[0;32m---> 12\u001b[0;31m \u001b[0mmqcrec_img\u001b[0m \u001b[0;34m=\u001b[0m \u001b[0mplot_mqcrec\u001b[0m\u001b[0;34m(\u001b[0m\u001b[0mfileloc\u001b[0m\u001b[0;34m,\u001b[0m \u001b[0mrec_img_w\u001b[0m\u001b[0;34m,\u001b[0m \u001b[0mrec_img_h\u001b[0m\u001b[0;34m)\u001b[0m\u001b[0;34m\u001b[0m\u001b[0;34m\u001b[0m\u001b[0m\n\u001b[0m\u001b[1;32m     13\u001b[0m \u001b[0;34m\u001b[0m\u001b[0m\n",
      "\u001b[0;32m<ipython-input-13-ae6cf73d2803>\u001b[0m in \u001b[0;36mplot_mqcrec\u001b[0;34m(fileloc, rec_img_w, rec_img_h)\u001b[0m\n\u001b[1;32m    114\u001b[0m \u001b[0;32mdef\u001b[0m \u001b[0mplot_mqcrec\u001b[0m\u001b[0;34m(\u001b[0m\u001b[0mfileloc\u001b[0m\u001b[0;34m=\u001b[0m\u001b[0;34m''\u001b[0m\u001b[0;34m,\u001b[0m \u001b[0mrec_img_w\u001b[0m\u001b[0;34m=\u001b[0m\u001b[0;36m0\u001b[0m\u001b[0;34m,\u001b[0m \u001b[0mrec_img_h\u001b[0m\u001b[0;34m=\u001b[0m\u001b[0;36m0\u001b[0m\u001b[0;34m)\u001b[0m\u001b[0;34m:\u001b[0m\u001b[0;34m\u001b[0m\u001b[0;34m\u001b[0m\u001b[0m\n\u001b[1;32m    115\u001b[0m     \u001b[0mmqcRec\u001b[0m \u001b[0;34m=\u001b[0m \u001b[0mnp\u001b[0m\u001b[0;34m.\u001b[0m\u001b[0mzeros\u001b[0m\u001b[0;34m(\u001b[0m\u001b[0;34m(\u001b[0m\u001b[0mrec_img_w\u001b[0m\u001b[0;34m*\u001b[0m\u001b[0mrec_img_h\u001b[0m\u001b[0;34m)\u001b[0m\u001b[0;34m)\u001b[0m\u001b[0;34m\u001b[0m\u001b[0;34m\u001b[0m\u001b[0m\n\u001b[0;32m--> 116\u001b[0;31m     \u001b[0;32mwith\u001b[0m \u001b[0mopen\u001b[0m\u001b[0;34m(\u001b[0m\u001b[0mfileloc\u001b[0m\u001b[0;34m)\u001b[0m \u001b[0;32mas\u001b[0m \u001b[0mf\u001b[0m\u001b[0;34m:\u001b[0m\u001b[0;34m\u001b[0m\u001b[0;34m\u001b[0m\u001b[0m\n\u001b[0m\u001b[1;32m    117\u001b[0m         \u001b[0;32mfor\u001b[0m \u001b[0mi\u001b[0m \u001b[0;32min\u001b[0m \u001b[0mrange\u001b[0m\u001b[0;34m(\u001b[0m\u001b[0mrec_img_w\u001b[0m\u001b[0;34m*\u001b[0m\u001b[0mrec_img_h\u001b[0m\u001b[0;34m)\u001b[0m\u001b[0;34m:\u001b[0m\u001b[0;34m\u001b[0m\u001b[0;34m\u001b[0m\u001b[0m\n\u001b[1;32m    118\u001b[0m             \u001b[0mline\u001b[0m \u001b[0;34m=\u001b[0m \u001b[0mf\u001b[0m\u001b[0;34m.\u001b[0m\u001b[0mreadline\u001b[0m\u001b[0;34m(\u001b[0m\u001b[0;34m)\u001b[0m\u001b[0;34m.\u001b[0m\u001b[0msplit\u001b[0m\u001b[0;34m(\u001b[0m\u001b[0;34m)\u001b[0m\u001b[0;34m\u001b[0m\u001b[0;34m\u001b[0m\u001b[0m\n",
      "\u001b[0;31mFileNotFoundError\u001b[0m: [Errno 2] No such file or directory: '../../hdl_design/result/test_data/SSL_mqcRec_2_ADI_PINK_D1_02.txt'"
     ]
    }
   ],
   "source": [
    "rec_img_h = 9\n",
    "rec_img_w = 12\n",
    "\n",
    "index=2\n",
    "\n",
    "filename = f'CochleaProcessing_mqcRec_{index}_ADI_PINK_{loc}'\n",
    "\n",
    "filename = f'SSL_mqcRec_{index}_ADI_PINK_{loc}'\n",
    "\n",
    "fileloc = f'../../hdl_design/result/{data_type}_data/{filename}.txt'\n",
    "\n",
    "mqcrec_img = plot_mqcrec(fileloc, rec_img_w, rec_img_h)\n",
    "\n"
   ]
  },
  {
   "cell_type": "code",
   "execution_count": 23,
   "id": "5084d339",
   "metadata": {},
   "outputs": [
    {
     "ename": "IndexError",
     "evalue": "list index out of range",
     "output_type": "error",
     "traceback": [
      "\u001b[0;31m---------------------------------------------------------------------------\u001b[0m",
      "\u001b[0;31mIndexError\u001b[0m                                Traceback (most recent call last)",
      "\u001b[0;32m<ipython-input-23-e26e26542d57>\u001b[0m in \u001b[0;36m<module>\u001b[0;34m\u001b[0m\n\u001b[1;32m      9\u001b[0m     \u001b[0;32mfor\u001b[0m \u001b[0mi\u001b[0m \u001b[0;32min\u001b[0m \u001b[0mrange\u001b[0m\u001b[0;34m(\u001b[0m\u001b[0mrec_img_w\u001b[0m\u001b[0;34m*\u001b[0m\u001b[0mrec_img_h\u001b[0m\u001b[0;34m)\u001b[0m\u001b[0;34m:\u001b[0m\u001b[0;34m\u001b[0m\u001b[0;34m\u001b[0m\u001b[0m\n\u001b[1;32m     10\u001b[0m         \u001b[0mline\u001b[0m \u001b[0;34m=\u001b[0m \u001b[0mf\u001b[0m\u001b[0;34m.\u001b[0m\u001b[0mreadline\u001b[0m\u001b[0;34m(\u001b[0m\u001b[0;34m)\u001b[0m\u001b[0;34m.\u001b[0m\u001b[0msplit\u001b[0m\u001b[0;34m(\u001b[0m\u001b[0;34m)\u001b[0m\u001b[0;34m\u001b[0m\u001b[0;34m\u001b[0m\u001b[0m\n\u001b[0;32m---> 11\u001b[0;31m         \u001b[0;32mif\u001b[0m \u001b[0mline\u001b[0m\u001b[0;34m[\u001b[0m\u001b[0;36m1\u001b[0m\u001b[0;34m]\u001b[0m \u001b[0;34m!=\u001b[0m \u001b[0;34m'x'\u001b[0m\u001b[0;34m:\u001b[0m\u001b[0;34m\u001b[0m\u001b[0;34m\u001b[0m\u001b[0m\n\u001b[0m\u001b[1;32m     12\u001b[0m             \u001b[0mmqcRec\u001b[0m\u001b[0;34m[\u001b[0m\u001b[0mint\u001b[0m\u001b[0;34m(\u001b[0m\u001b[0mline\u001b[0m\u001b[0;34m[\u001b[0m\u001b[0;36m0\u001b[0m\u001b[0;34m]\u001b[0m\u001b[0;34m)\u001b[0m\u001b[0;34m]\u001b[0m \u001b[0;34m=\u001b[0m \u001b[0mline\u001b[0m\u001b[0;34m[\u001b[0m\u001b[0;36m1\u001b[0m\u001b[0;34m]\u001b[0m\u001b[0;34m\u001b[0m\u001b[0;34m\u001b[0m\u001b[0m\n\u001b[1;32m     13\u001b[0m \u001b[0;34m\u001b[0m\u001b[0m\n",
      "\u001b[0;31mIndexError\u001b[0m: list index out of range"
     ]
    }
   ],
   "source": [
    "index=0\n",
    "\n",
    "filename = f'SSL_mqcRec_{index}_ADI_PINK_{loc}.txt'\n",
    "\n",
    "fileloc = f'../../hdl_design/result/{data_type}_data/{filename}'\n",
    "\n",
    "mqcRec = np.zeros((rec_img_w*rec_img_h))\n",
    "with open(fileloc) as f:\n",
    "    for i in range(rec_img_w*rec_img_h):\n",
    "        line = f.readline().split()\n",
    "        if line[1] != 'x':\n",
    "            mqcRec[int(line[0])] = line[1]\n",
    "\n",
    "\n",
    "mqcRec_img = np.zeros((rec_img_h, rec_img_w))\n",
    "for i in range(len(mqcRec)):\n",
    "    mqcRec_img[ i // rec_img_w][i % rec_img_w] = mqcRec[i]\n",
    "\n",
    "plot_mrec(mqcRec_img)   \n",
    "print(mqcRec_img[:][1])\n",
    "return mqcRec_img"
   ]
  },
  {
   "cell_type": "markdown",
   "id": "8e8d4051",
   "metadata": {},
   "source": [
    "##### Post Imp Simulation"
   ]
  },
  {
   "cell_type": "code",
   "execution_count": 24,
   "id": "e2bf180a",
   "metadata": {
    "scrolled": true
   },
   "outputs": [
    {
     "name": "stdout",
     "output_type": "stream",
     "text": [
      "[ 0.  0.  9.  9.  1.  4. 20. 31. 20.  6. -7. 13.]\n"
     ]
    },
    {
     "data": {
      "text/plain": [
       "array([[ -4.,   8.,  14.,   6.,  -6.,   0.,   8.,  12.,  -8., -13., -14.,\n",
       "        -11.],\n",
       "       [  0.,   0.,   9.,   9.,   1.,   4.,  20.,  31.,  20.,   6.,  -7.,\n",
       "         13.],\n",
       "       [  9., -16., -35., -34.,  -7.,  13., -15.,  -8.,  18.,  31.,  41.,\n",
       "         52.],\n",
       "       [ 13.,  19.,   3., -11., -30., -33., -66., -61., -49., -49., -56.,\n",
       "        -57.],\n",
       "       [ 38.,  37.,  48.,  38.,   0.,  -4.,   7., -25., -25., -28., -23.,\n",
       "        -10.],\n",
       "       [ 14., -13., -26.,  -1.,  29.,  22.,  26.,  59.,  83.,  87.,  93.,\n",
       "         99.],\n",
       "       [ 28.,   2.,  -9.,  14.,   6.,  -4.,  -5.,   8.,  27.,  17.,   3.,\n",
       "        -13.],\n",
       "       [ 23.,  22.,  30.,   4.,   3.,   7.,  12.,   4., -21., -46., -30.,\n",
       "        -22.],\n",
       "       [ 22.,  10.,   4.,  -7.,   0.,   0.,   0.,   0.,   0.,   0.,   0.,\n",
       "          0.]])"
      ]
     },
     "execution_count": 24,
     "metadata": {},
     "output_type": "execute_result"
    },
    {
     "data": {
      "image/png": "[encoded data removed]",
      "text/plain": [
       "<Figure size 432x288 with 2 Axes>"
      ]
     },
     "metadata": {
      "needs_background": "light"
     },
     "output_type": "display_data"
    }
   ],
   "source": [
    "index=2\n",
    "\n",
    "filename = f'CochleaProcessing_mqcRec_{index}_ADI_PINK_{loc}_imp.txt'\n",
    "\n",
    "fileloc = f'../../hdl_design/result/{data_type}_data/{filename}'\n",
    "\n",
    "mqcrec, mqcrec_img = plot_mqcrec(fileloc, rec_img_w, rec_img_h)\n",
    "mqcrec_img"
   ]
  },
  {
   "cell_type": "code",
   "execution_count": 26,
   "id": "ed874148",
   "metadata": {},
   "outputs": [],
   "source": [
    "\n",
    "fileloc_mem = f'../../hdl_design/result/{data_type}_data/mem/{filename}'\n",
    "\n",
    "save_1d_arr_in_mem(b = mqcrec.ravel(), signed = True, nbits=8, n_frac =0, fileloc=fileloc_mem)\n"
   ]
  },
  {
   "cell_type": "markdown",
   "id": "f34f5185",
   "metadata": {},
   "source": [
    "#### Dequantize mqcRec based on tfLite parameters"
   ]
  },
  {
   "cell_type": "code",
   "execution_count": 11,
   "id": "caed1fc2",
   "metadata": {},
   "outputs": [
    {
     "ename": "NameError",
     "evalue": "name 'mqcRec_img' is not defined",
     "output_type": "error",
     "traceback": [
      "\u001b[0;31m---------------------------------------------------------------------------\u001b[0m",
      "\u001b[0;31mNameError\u001b[0m                                 Traceback (most recent call last)",
      "\u001b[0;32m<ipython-input-11-bba346befc31>\u001b[0m in \u001b[0;36m<module>\u001b[0;34m\u001b[0m\n\u001b[1;32m      4\u001b[0m \u001b[0mz1\u001b[0m \u001b[0;34m=\u001b[0m \u001b[0;34m-\u001b[0m\u001b[0;36m1\u001b[0m\u001b[0;34m\u001b[0m\u001b[0;34m\u001b[0m\u001b[0m\n\u001b[1;32m      5\u001b[0m \u001b[0;34m\u001b[0m\u001b[0m\n\u001b[0;32m----> 6\u001b[0;31m \u001b[0mq_mqcrec\u001b[0m \u001b[0;34m=\u001b[0m \u001b[0mnp\u001b[0m\u001b[0;34m.\u001b[0m\u001b[0mmultiply\u001b[0m\u001b[0;34m(\u001b[0m\u001b[0mmqcRec_img\u001b[0m\u001b[0;34m-\u001b[0m\u001b[0mz1\u001b[0m\u001b[0;34m,\u001b[0m \u001b[0ms1\u001b[0m\u001b[0;34m)\u001b[0m\u001b[0;34m\u001b[0m\u001b[0;34m\u001b[0m\u001b[0m\n\u001b[0m\u001b[1;32m      7\u001b[0m \u001b[0mplot_mrec\u001b[0m\u001b[0;34m(\u001b[0m\u001b[0mq_mqcrec\u001b[0m\u001b[0;34m)\u001b[0m\u001b[0;34m\u001b[0m\u001b[0;34m\u001b[0m\u001b[0m\n\u001b[1;32m      8\u001b[0m \u001b[0mprint\u001b[0m\u001b[0;34m(\u001b[0m\u001b[0mq_mqcrec\u001b[0m\u001b[0;34m[\u001b[0m\u001b[0;36m0\u001b[0m\u001b[0;34m]\u001b[0m\u001b[0;34m[\u001b[0m\u001b[0;36m0\u001b[0m\u001b[0;34m]\u001b[0m\u001b[0;34m)\u001b[0m\u001b[0;34m\u001b[0m\u001b[0;34m\u001b[0m\u001b[0m\n",
      "\u001b[0;31mNameError\u001b[0m: name 'mqcRec_img' is not defined"
     ]
    }
   ],
   "source": [
    "# s1 and z1 are extracted from netron(input layer)\n",
    "# result should be consistant with the golden model R_12.mrec[0][0][0]\n",
    "s1 = 0.007598039228469133\n",
    "z1 = -1\n",
    "\n",
    "q_mqcrec = np.multiply(mqcRec_img-z1, s1)\n",
    "plot_mrec(q_mqcrec)\n",
    "print(q_mqcrec[0][0])"
   ]
  },
  {
   "cell_type": "markdown",
   "id": "2120708f",
   "metadata": {},
   "source": [
    "## CNN feature maps from CNN_tb.sv"
   ]
  },
  {
   "cell_type": "code",
   "execution_count": 30,
   "id": "4b1d6a85",
   "metadata": {
    "scrolled": true
   },
   "outputs": [
    {
     "data": {
      "image/png": "[encoded data removed]",
      "text/plain": [
       "<Figure size 1440x1440 with 2 Axes>"
      ]
     },
     "metadata": {
      "needs_background": "light"
     },
     "output_type": "display_data"
    }
   ],
   "source": [
    "layer = 1\n",
    "fileloc = f'../../hdl_design/result/test_data/CNN_v2_conv2d_L1_fm_imp.txt'  \n",
    "k, h, w = 1, 3, 5\n",
    "s3, z3 = 0.013281820341944695, -128\n",
    "s3, z3 = 1, 0\n",
    "fm = []\n",
    "fm = plot_conv2d_feature_maps(layer, k, h, w, s3, z3, fileloc)"
   ]
  },
  {
   "cell_type": "code",
   "execution_count": 31,
   "id": "93e1b132",
   "metadata": {},
   "outputs": [
    {
     "data": {
      "text/plain": [
       "array([[[-103., -113.,  -42., -128., -128.],\n",
       "        [ -93.,  -45.,  -30., -128.,   67.],\n",
       "        [  -2.,  -54.,  -54.,  -50., -128.]]])"
      ]
     },
     "execution_count": 31,
     "metadata": {},
     "output_type": "execute_result"
    }
   ],
   "source": [
    "fm"
   ]
  },
  {
   "cell_type": "code",
   "execution_count": 25,
   "id": "9b83155b",
   "metadata": {},
   "outputs": [
    {
     "name": "stdout",
     "output_type": "stream",
     "text": [
      "(array([1]), array([4]))\n"
     ]
    }
   ],
   "source": [
    "for i in range(k):\n",
    "    print(np.where(fm[i] == np.amax(fm[i])))"
   ]
  },
  {
   "cell_type": "code",
   "execution_count": null,
   "id": "d15da0f6",
   "metadata": {},
   "outputs": [],
   "source": [
    "array([[-102.      , -116.      ,  -40.999992,  -28.      , -128.      ],\n",
    "       [ -92.      ,  -67.      ,  -45.999992, -128.      ,   68.      ],\n",
    "       [  -2.      ,  -30.      ,  -53.      ,  -50.      ,  -98.      ]],"
   ]
  },
  {
   "cell_type": "markdown",
   "id": "97efb3f6",
   "metadata": {},
   "source": [
    "### HDL CNN Loss"
   ]
  },
  {
   "cell_type": "code",
   "execution_count": null,
   "id": "a9a14f1f",
   "metadata": {},
   "outputs": [],
   "source": [
    "# 'CF_LU'\n",
    "((16-25)**2 + (25-22)**2 + (25-20)**2 + (25-27)**2 + 3*2**2 + 3**2 + 1)/9"
   ]
  },
  {
   "cell_type": "code",
   "execution_count": null,
   "id": "b01c29b5",
   "metadata": {},
   "outputs": [],
   "source": []
  },
  {
   "cell_type": "code",
   "execution_count": null,
   "id": "9db095cf",
   "metadata": {},
   "outputs": [],
   "source": []
  }
 ],
 "metadata": {
  "kernelspec": {
   "display_name": "envssl",
   "language": "python",
   "name": "envssl"
  },
  "language_info": {
   "codemirror_mode": {
    "name": "ipython",
    "version": 3
   },
   "file_extension": ".py",
   "mimetype": "text/x-python",
   "name": "python",
   "nbconvert_exporter": "python",
   "pygments_lexer": "ipython3",
   "version": "3.8.3"
  },
  "toc": {
   "base_numbering": 1,
   "nav_menu": {},
   "number_sections": true,
   "sideBar": true,
   "skip_h1_title": false,
   "title_cell": "Table of Contents",
   "title_sidebar": "Contents",
   "toc_cell": false,
   "toc_position": {
    "height": "calc(100% - 180px)",
    "left": "10px",
    "top": "150px",
    "width": "333.267px"
   },
   "toc_section_display": true,
   "toc_window_display": true
  }
 },
 "nbformat": 4,
 "nbformat_minor": 5
}
